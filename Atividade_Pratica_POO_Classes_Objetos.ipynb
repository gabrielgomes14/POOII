{
  "nbformat": 4,
  "nbformat_minor": 0,
  "metadata": {
    "colab": {
      "provenance": [],
      "authorship_tag": "ABX9TyP6lJAnImZmYRgCzXVfsLLt"
    },
    "kernelspec": {
      "name": "python3",
      "display_name": "Python 3"
    },
    "language_info": {
      "name": "python"
    }
  },
  "cells": [
    {
      "cell_type": "code",
      "execution_count": null,
      "metadata": {
        "id": "w4ruAqe656p-"
      },
      "outputs": [],
      "source": []
    },
    {
      "cell_type": "markdown",
      "source": [
        "1.Qual das alternativas abaixo melhor define o termo “classe”?\n",
        "\n",
        "**a)** Uma coleção de variáveis e funções trabalhando com essas variáveis.\n",
        "\n",
        "**b)** Define e obtém as propriedades e métodos dela.\n",
        "\n",
        "**c)** É a personificação de um objeto da vida real.\n",
        "\n",
        "*R: a) Uma coleção de variáveis e funções trabalhando com essas variáveis.*"
      ],
      "metadata": {
        "id": "4_O-5s_g58sA"
      }
    },
    {
      "cell_type": "markdown",
      "source": [
        "2.Qual das alternativas abaixo melhor define o termo “objeto”?\n",
        "\n",
        "**a)** Um objeto nos dá a capacidade de trabalhar com a classe e ter várias instâncias desta mesma classe.\n",
        "\n",
        "**b)** Uma variável dentro de uma classe.\n",
        "\n",
        "**c)** Uma função dentro de uma classe.\n",
        "\n",
        "*R: a) Um objeto nos dá a capacidade de trabalhar com a classe e ter várias instâncias desta mesma classe.*"
      ],
      "metadata": {
        "id": "8sKBbdpe63y7"
      }
    },
    {
      "cell_type": "markdown",
      "source": [
        "3.Qual das alternativas abaixo melhor explica o termo \"propriedade\"?\n",
        "\n",
        "**a)** Agrupa o código relacionado a um tópico.\n",
        "\n",
        "**b)** Uma variável dentro de uma classe.\n",
        "\n",
        "**c)** Uma função dentro de uma classe.\n",
        "\n",
        "*R: b) Uma variável dentro de uma classe.*\n"
      ],
      "metadata": {
        "id": "I7i7LfA97ODG"
      }
    },
    {
      "cell_type": "markdown",
      "source": [
        "4.Qual das alternativas abaixo melhor explica o termo \"método\"?\n",
        "\n",
        "**a)** Uma função dentro de uma classe.\n",
        "\n",
        "**b)** Uma variável dentro de uma classe.\n",
        "\n",
        "**c)** A incorporação de uma ação real.\n",
        "\n",
        "*R: a) Uma função dentro de uma classe.*\n"
      ],
      "metadata": {
        "id": "7IW78VGd8dUo"
      }
    },
    {
      "cell_type": "markdown",
      "source": [
        "**Exercício de codificação**\n",
        "\n",
        "*Quase todos os aplicativos ou blogs lidam com os usuários. Seja o processo de registro (cadastro), o login e\n",
        "logout, o envio de lembretes aos usuários que perderam suas senhas ou a alteração delas sob demanda, todo\n",
        "o código que lida com os usuários pode ser agrupado em uma única classe. Em nosso exemplo, chamamos a\n",
        "classe que lida com usuários, Usuario, de acordo com a convenção de nomenclatura vigente.\n",
        "Vamos escrever uma classe Usuario com as ferramentas que acabamos de adquirir. Esta classe conterá o nome\n",
        "e sobrenome de cada usuário e será capaz de dizer “Olá” a qualquer pessoa que use nosso aplicativo.*\n",
        "\n",
        "5.Escreva o que você acha que deveria ser o nome da classe, os nomes das propriedades para o\n",
        "primeiro e último nome (sobrenome) e o nome do método que retorna “Olá”.\n",
        "\n",
        "Nome da classe: **Usuario**\n",
        "\n",
        "Propriedades: **primeiroNome, sobrenome**\n",
        "\n",
        "Método: **dizerOla()**"
      ],
      "metadata": {
        "id": "0DO331Gj7y-_"
      }
    },
    {
      "cell_type": "markdown",
      "source": [
        "6.Escreva a classe Usuario e adicione as propriedades e o método (em Python):"
      ],
      "metadata": {
        "id": "eWpjlXAk83Qf"
      }
    },
    {
      "cell_type": "code",
      "source": [
        "class Usuario:\n",
        "  def __init__ (self, primeiroNome, sobrenome):\n",
        "    self.primeiroNome = primeiroNome\n",
        "    self.sobrenome = sobrenome\n",
        "\n",
        "def get_primeiroNome(self):\n",
        "  return self.primeiroNome\n",
        "\n",
        "def get_sobrenome(self):\n",
        "  return self.sobrenome\n",
        "\n",
        "def set_primeiroNome(self, primeiroNome):\n",
        "    self.primeiroNome = primeiroNome\n",
        "\n",
        "def set_sobrenome(self, sobrenome):\n",
        "    self.primeiroNome = sobrenome\n",
        "\n",
        "def apresentar_usuario(self):\n",
        "    return f\"Olá, meu nome é {self.primeiroNome} {self.sobrenome}.\""
      ],
      "metadata": {
        "id": "hn5CFtZi9LCn"
      },
      "execution_count": 8,
      "outputs": []
    },
    {
      "cell_type": "markdown",
      "source": [
        "7.Crie a primeira instância e chame-a de usuario1."
      ],
      "metadata": {
        "id": "7K6OxDavaE2G"
      }
    },
    {
      "cell_type": "code",
      "source": [
        "usuario1 = Usuario(\"Gabriel\", \"Gomes Galikosky\")\n",
        "print(usuario1.apresentar_usuario())"
      ],
      "metadata": {
        "colab": {
          "base_uri": "https://localhost:8080/"
        },
        "id": "Xx88eFAyaB9d",
        "outputId": "203da290-3df1-4330-9f40-c07782ba0736"
      },
      "execution_count": 11,
      "outputs": [
        {
          "output_type": "stream",
          "name": "stdout",
          "text": [
            "Olá, meu nome é Gabriel Gomes Galikosky.\n"
          ]
        }
      ]
    },
    {
      "cell_type": "markdown",
      "source": [
        "8.Defina os valores do primeiro e último nome para usuario1."
      ],
      "metadata": {
        "id": "BE59DOcYaqch"
      }
    },
    {
      "cell_type": "code",
      "source": [
        "usuario1.set_primeiroNome(\"Gabriel\")\n",
        "usuario1.set_sobrenome(\"Gomes Galikosky\")\n",
        "\n",
        "print(usuario1.apresentar_usuario())"
      ],
      "metadata": {
        "colab": {
          "base_uri": "https://localhost:8080/"
        },
        "id": "yi_8Si-za5PJ",
        "outputId": "2bed2305-bfd2-46ac-e0af-9d4354402eb9"
      },
      "execution_count": 13,
      "outputs": [
        {
          "output_type": "stream",
          "name": "stdout",
          "text": [
            "Olá, meu nome é Gabriel Gomes.\n"
          ]
        }
      ]
    },
    {
      "cell_type": "markdown",
      "source": [
        "9.Obter o nome e sobrenome do usuário e imprima-os na tela com o comando print."
      ],
      "metadata": {
        "id": "kywLmqBFbH1i"
      }
    },
    {
      "cell_type": "code",
      "source": [
        "print(\"Nome:\", usuario1.get_primeiroNome())\n",
        "print(\"Sobrenome:\", usuario1.get_sobrenome())\n"
      ],
      "metadata": {
        "colab": {
          "base_uri": "https://localhost:8080/"
        },
        "id": "RfNjA6eEbQMQ",
        "outputId": "cb6e8a5a-57fb-4289-89d0-67f31e264d96"
      },
      "execution_count": 18,
      "outputs": [
        {
          "output_type": "stream",
          "name": "stdout",
          "text": [
            "Nome: Gabriel\n",
            "Sobrenome: Gomes\n"
          ]
        }
      ]
    },
    {
      "cell_type": "markdown",
      "source": [
        "10.Use o método que retorna “Olá” com as variáveis primeiro nome e último nome para dizer Olá ao\n",
        "usuário."
      ],
      "metadata": {
        "id": "U1T87BGNbrC8"
      }
    },
    {
      "cell_type": "code",
      "source": [
        "print(usuario1.apresentar_usuario())"
      ],
      "metadata": {
        "colab": {
          "base_uri": "https://localhost:8080/"
        },
        "id": "H_-hJ_aUcGyK",
        "outputId": "db27dfe2-272f-4232-ca5a-fdf5c8dde810"
      },
      "execution_count": 19,
      "outputs": [
        {
          "output_type": "stream",
          "name": "stdout",
          "text": [
            "Olá, meu nome é Gabriel Gomes.\n"
          ]
        }
      ]
    },
    {
      "cell_type": "markdown",
      "source": [
        "11.Crie (instancie) outro objeto. Chame-o de usuario2, dê a ele o primeiro nome de “Jane” e o\n",
        "sobrenome de “Silva”, e depois diga “Olá” ao usuário."
      ],
      "metadata": {
        "id": "b6ET5gkUcLbk"
      }
    },
    {
      "cell_type": "code",
      "source": [
        "usuario2 = Usuario(\"Gabriel\", \"Gomes\")\n",
        "print(usuario1.apresentar_usuario())"
      ],
      "metadata": {
        "colab": {
          "base_uri": "https://localhost:8080/"
        },
        "id": "-SfggvODcWcy",
        "outputId": "b05dfd53-a1b8-4dd9-f15d-839a3b3b6dec"
      },
      "execution_count": 20,
      "outputs": [
        {
          "output_type": "stream",
          "name": "stdout",
          "text": [
            "Olá, meu nome é Gabriel Gomes.\n"
          ]
        }
      ]
    }
  ]
}