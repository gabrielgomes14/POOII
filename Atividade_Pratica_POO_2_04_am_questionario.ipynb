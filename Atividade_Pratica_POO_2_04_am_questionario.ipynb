{
  "nbformat": 4,
  "nbformat_minor": 0,
  "metadata": {
    "colab": {
      "provenance": [],
      "authorship_tag": "ABX9TyOFPLME2ZQAAQ504yNqVuEb"
    },
    "kernelspec": {
      "name": "python3",
      "display_name": "Python 3"
    },
    "language_info": {
      "name": "python"
    }
  },
  "cells": [
    {
      "cell_type": "markdown",
      "source": [
        "#Atividade Prática 04\n",
        "\n",
        "# Design Patterns (Padrões de Projeto) – Abstract Factory\n",
        "\n",
        "# Questionário"
      ],
      "metadata": {
        "id": "wuYwXzGCha5L"
      }
    },
    {
      "cell_type": "markdown",
      "source": [
        "**1. O que é o padrão de projeto Abstract Factory e qual é o seu objetivo principal?**"
      ],
      "metadata": {
        "id": "7h0lx5GbfvmJ"
      }
    },
    {
      "cell_type": "markdown",
      "source": [
        "O Abstract Factory é um padrão criacional que fornece uma interface para criar famílias de objetos relacionados sem especificar suas classes concretas. Seu objetivo principal é garantir a criação de objetos compatíveis entre si, promovendo flexibilidade e independência na criação de instâncias."
      ],
      "metadata": {
        "id": "UNVWhaUFft0y"
      }
    },
    {
      "cell_type": "markdown",
      "source": [
        "**2. Como o padrão Abstract Factory ajuda a promover o princípio de \"programe para\n",
        "uma interface, não para uma implementação\"?**"
      ],
      "metadata": {
        "id": "iH59OVGNfzRM"
      }
    },
    {
      "cell_type": "markdown",
      "source": [
        "O Abstract Factory promove esse princípio ao fazer o código cliente depender de interfaces, não de implementações concretas. Isso permite trocar facilmente as instâncias criadas sem modificar o código, tornando o sistema mais flexível e modular."
      ],
      "metadata": {
        "id": "2pW2N5T5f41X"
      }
    },
    {
      "cell_type": "markdown",
      "source": [
        "**3. Quais são os componentes principais do padrão Abstract Factory? Explique cada um.**"
      ],
      "metadata": {
        "id": "7VFtQMgTf_0l"
      }
    },
    {
      "cell_type": "markdown",
      "source": [
        "**Abstract Factory** – Interface ou classe abstrata que declara métodos para criar objetos da mesma família.\n",
        "\n",
        "**Concrete Factories** – Implementações da Abstract Factory que criam objetos concretos específicos.\n",
        "Abstract Products – Interfaces ou classes abstratas que definem os tipos de objetos a serem criados.\n",
        "\n",
        "**Concrete Products** – Implementações dos Abstract Products, representando os objetos reais criados pelas fábricas concretas.\n",
        "\n",
        "**Client** – Usa a Abstract Factory para criar produtos sem depender de implementações concretas."
      ],
      "metadata": {
        "id": "-_PilriHgEGK"
      }
    },
    {
      "cell_type": "markdown",
      "source": [
        "**4. No exemplo da pizzaria, como o padrão Abstract Factory contribui para garantir\n",
        "consistência nos ingredientes utilizados?**"
      ],
      "metadata": {
        "id": "hcuRQtgOgPdk"
      }
    },
    {
      "cell_type": "markdown",
      "source": [
        "No exemplo da pizzaria, o Abstract Factory garante que todos os ingredientes de uma pizza sejam compatíveis ao criar famílias de ingredientes padronizadas.\n",
        "\n",
        "Cada fábrica concreta representa um estilo de pizzaria (ex: Pizzaria Italiana ou Pizzaria Americana) e fornece ingredientes consistentes dentro desse estilo, como queijo, molho e massa específicos.\n",
        "\n",
        "Dessa forma, evita-se a mistura indevida de ingredientes (ex: molho italiano com queijo americano), garantindo padronização e coerência nas pizzas produzidas."
      ],
      "metadata": {
        "id": "u5ITi3mvgS1N"
      }
    },
    {
      "cell_type": "markdown",
      "source": [
        "**5. Explique a diferença entre os padrões Abstract Factory e Factory Method.**"
      ],
      "metadata": {
        "id": "wCG_ewfOgZko"
      }
    },
    {
      "cell_type": "markdown",
      "source": [
        "O Abstract Factory cria famílias de objetos relacionados, garantindo compatibilidade entre eles. Já o Factory Method cria um único objeto, delegando a escolha da classe concreta para subclasses. O Abstract Factory é mais abrangente, enquanto o Factory Method é mais flexível."
      ],
      "metadata": {
        "id": "KEsSguOvgei5"
      }
    },
    {
      "cell_type": "markdown",
      "source": [
        "**6. Quais são as vantagens do uso do padrão Abstract Factory em projetos de software?**"
      ],
      "metadata": {
        "id": "mBjPJUosgpyv"
      }
    },
    {
      "cell_type": "markdown",
      "source": [
        "O Abstract Factory oferece consistência, desacoplamento, facilidade de manutenção, flexibilidade para trocar implementações e organização do código ao centralizar a criação de objetos."
      ],
      "metadata": {
        "id": "Y_yG5Zs4giFl"
      }
    },
    {
      "cell_type": "markdown",
      "source": [
        "**7. Como o padrão Abstract Factory pode ser aplicado para criar famílias de objetos\n",
        "relacionados ou dependentes sem especificar suas classes concretas?**"
      ],
      "metadata": {
        "id": "uBDMVUSOgnp9"
      }
    },
    {
      "cell_type": "markdown",
      "source": [
        "O **Abstract Factory** permite criar **famílias de objetos relacionados** ao fornecer interfaces ou classes abstratas que definem os métodos para criar os objetos. Através de **fábricas concretas**, que implementam essas interfaces, o padrão garante que os objetos criados pertençam à mesma família, sem precisar especificar diretamente suas classes concretas.  \n",
        "\n",
        "Por exemplo, em um sistema que cria interfaces gráficas, uma **Abstract Factory** pode definir métodos para criar botões, caixas de texto e menus. As **fábricas concretas** (como uma fábrica para Windows e outra para macOS) criam as implementações específicas desses objetos para cada sistema operacional, mantendo a coerência entre eles."
      ],
      "metadata": {
        "id": "194h-cmDgtVU"
      }
    },
    {
      "cell_type": "markdown",
      "source": [
        "**8. Descreva uma situação do mundo real, diferente da pizzaria, onde o padrão Abstract\n",
        "Factory seria uma boa escolha.**"
      ],
      "metadata": {
        "id": "OoCO4HLPg2zh"
      }
    },
    {
      "cell_type": "markdown",
      "source": [
        "No desenvolvimento de jogos multiplataforma, o Abstract Factory pode ser usado para criar interfaces gráficas específicas para cada plataforma (PC, console, dispositivo móvel). Ele garante que todos os elementos (botões, controles, menus) sejam compatíveis com a plataforma, facilitando manutenção e expansão para novas plataformas."
      ],
      "metadata": {
        "id": "afJTErmvg5lp"
      }
    },
    {
      "cell_type": "markdown",
      "source": [
        "**9. Quais são os possíveis desafios ou desvantagens do uso do padrão Abstract Factory\n",
        "em um sistema?**"
      ],
      "metadata": {
        "id": "DiZA_gryhFC3"
      }
    },
    {
      "cell_type": "markdown",
      "source": [
        "As desvantagens do Abstract Factory incluem complexidade adicional, dificuldade para adicionar novos tipos de produtos, sobrecarga de código com muitas classes e acoplamento do código cliente às interfaces das fábricas. Esses desafios devem ser considerados conforme a complexidade do sistema."
      ],
      "metadata": {
        "id": "9tb-7LpWg-Dj"
      }
    },
    {
      "cell_type": "markdown",
      "source": [
        "**10. Como o padrão Abstract Factory pode ser combinado com outros padrões de projeto,\n",
        "como o Singleton ou o Builder, para resolver problemas complexos de design?**"
      ],
      "metadata": {
        "id": "PAZlmsSBhDxN"
      }
    },
    {
      "cell_type": "markdown",
      "source": [
        "O **Abstract Factory** pode ser combinado com o **Singleton** para garantir uma única instância de uma fábrica, e com o **Builder** para construir objetos complexos de uma família passo a passo. Essas combinações tornam o design mais flexível, eficiente e controlado, aproveitando os benefícios de cada padrão."
      ],
      "metadata": {
        "id": "m1rp0GDAhNr2"
      }
    }
  ]
}