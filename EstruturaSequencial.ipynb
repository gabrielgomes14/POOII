{
  "nbformat": 4,
  "nbformat_minor": 0,
  "metadata": {
    "colab": {
      "provenance": [],
      "authorship_tag": "ABX9TyPJUadgOVj4K8DGTduIwOLT"
    },
    "kernelspec": {
      "name": "python3",
      "display_name": "Python 3"
    },
    "language_info": {
      "name": "python"
    }
  },
  "cells": [
    {
      "cell_type": "markdown",
      "source": [
        "1. Faça um Programa que mostre a mensagem \"Alo mundo\" na tela."
      ],
      "metadata": {
        "id": "emEki9Y_pDTu"
      }
    },
    {
      "cell_type": "code",
      "execution_count": null,
      "metadata": {
        "colab": {
          "base_uri": "https://localhost:8080/"
        },
        "id": "rM348Z3YF0mW",
        "outputId": "394a3604-d4ce-4936-99de-7ffbab4723d0"
      },
      "outputs": [
        {
          "output_type": "stream",
          "name": "stdout",
          "text": [
            "Alo mundo\n"
          ]
        }
      ],
      "source": [
        "print('Alo mundo')"
      ]
    },
    {
      "cell_type": "markdown",
      "source": [
        "2. Faça um Programa que peça um número e então mostre a mensagem O número informado foi [número]."
      ],
      "metadata": {
        "id": "XPFH1nlspJJv"
      }
    },
    {
      "cell_type": "markdown",
      "source": [],
      "metadata": {
        "id": "1gcDlsO3pI8c"
      }
    },
    {
      "cell_type": "code",
      "source": [
        "num = input('Informe o número: ')\n",
        "print('O número informado foi:', num)"
      ],
      "metadata": {
        "colab": {
          "base_uri": "https://localhost:8080/"
        },
        "id": "9gaft7eeGDiV",
        "outputId": "67458b95-961b-4d17-c04a-c2167be4d989"
      },
      "execution_count": null,
      "outputs": [
        {
          "output_type": "stream",
          "name": "stdout",
          "text": [
            "Informe o número: 5\n",
            "O número informado foi: 5\n"
          ]
        }
      ]
    },
    {
      "cell_type": "markdown",
      "source": [
        "3. Faça um Programa que peça dois números e imprima a soma."
      ],
      "metadata": {
        "id": "Eo1i1ErwpNUK"
      }
    },
    {
      "cell_type": "code",
      "source": [
        "num1 = int(input('Informe o primeiro número: '))  \n",
        "num2 = int(input('Informe o segundo número: '))\n",
        "\n",
        "valor = num1 + num2\n",
        "\n",
        "print('A soma dos números é', valor)\n"
      ],
      "metadata": {
        "id": "9Mi4o690GDYQ"
      },
      "execution_count": null,
      "outputs": []
    },
    {
      "cell_type": "markdown",
      "source": [
        "4. Faça um Programa que peça as 4 notas bimestrais e mostre a média."
      ],
      "metadata": {
        "id": "8TBRqNA7pPZ0"
      }
    },
    {
      "cell_type": "code",
      "source": [
        "a = float(input('Informe a primeira nota: '))\n",
        "b = float(input('Informe a segunda nota: '))\n",
        "c = float(input('Informe a terceira nota: '))\n",
        "d = float(input('Informe a quarta nota: '))\n",
        "\n",
        "media = (a + b + c + d) / 4\n",
        "\n",
        "print(f'A média final é {media}')"
      ],
      "metadata": {
        "colab": {
          "base_uri": "https://localhost:8080/"
        },
        "id": "bveI8Qk4JwY2",
        "outputId": "8d35579b-0ece-4170-b68d-5186d5953de6"
      },
      "execution_count": null,
      "outputs": [
        {
          "output_type": "stream",
          "name": "stdout",
          "text": [
            "Informe a primeira nota: 7.0\n",
            "Informe a segunda nota: 7.0\n",
            "Informe a terceira nota: 7.0\n",
            "Informe a quarta nota: 7.0\n",
            "A média bimestral é 7.0\n"
          ]
        }
      ]
    },
    {
      "cell_type": "markdown",
      "source": [
        "5. Faça um Programa que converta metros para centímetros."
      ],
      "metadata": {
        "id": "0kg6qtWipRzK"
      }
    },
    {
      "cell_type": "code",
      "source": [
        "valor = float(input('Informe o a metragem: '))\n",
        "\n",
        "conversao = (valor * 1000)\n",
        "\n",
        "print(f'{valor} metros é igual a {conversao} centímetros')"
      ],
      "metadata": {
        "colab": {
          "base_uri": "https://localhost:8080/"
        },
        "id": "_fnRoWwkJwUP",
        "outputId": "0a6bfb0c-caa1-4704-aaff-81ac31947e17"
      },
      "execution_count": null,
      "outputs": [
        {
          "output_type": "stream",
          "name": "stdout",
          "text": [
            "Informe o a metragem: 5.5\n",
            "5.5 metros é igual a 5500.0 centímetros\n"
          ]
        }
      ]
    },
    {
      "cell_type": "markdown",
      "source": [
        "6. Faça um Programa que peça o raio de um círculo, calcule e mostre sua área."
      ],
      "metadata": {
        "id": "QZEXzOYipUjb"
      }
    },
    {
      "cell_type": "code",
      "source": [
        "import math\n",
        "\n",
        "raio = float(input('Informe o raio: ' ))\n",
        "area = math.pi*(pow(raio, 2))\n",
        "\n",
        "print(f'O raio é:', round(area, 2))"
      ],
      "metadata": {
        "colab": {
          "base_uri": "https://localhost:8080/"
        },
        "id": "4JVKZK0PLasp",
        "outputId": "3dd3c189-eab8-4ce0-e615-ee81acdaf9d6"
      },
      "execution_count": null,
      "outputs": [
        {
          "output_type": "stream",
          "name": "stdout",
          "text": [
            "Informe o raio: 5\n",
            "O raio é:  78.54\n"
          ]
        }
      ]
    },
    {
      "cell_type": "markdown",
      "source": [
        "7. Faça um Programa que calcule a área de um quadrado, em seguida mostre o dobro desta área para o usuário."
      ],
      "metadata": {
        "id": "rg8G1gO-pWmO"
      }
    },
    {
      "cell_type": "code",
      "source": [
        "lado = int(input('Informe o comprimento do lado do quadrado: '))\n",
        "\n",
        "area = lado ** 2\n",
        "dobro = area ** 2\n",
        "\n",
        "print('A área do quadrado é:', area)\n",
        "print('O dobro da área do quadrado é:', dobro)"
      ],
      "metadata": {
        "colab": {
          "base_uri": "https://localhost:8080/"
        },
        "id": "QAxflsisTfZE",
        "outputId": "8ecbe003-dd18-4997-9d45-8e4b3bd0e1f0"
      },
      "execution_count": null,
      "outputs": [
        {
          "output_type": "stream",
          "name": "stdout",
          "text": [
            "Informe o comprimento do lado do quadrado: 6\n",
            "A área do quadrado é: 36\n",
            "O dobro da área do quadrado é: 1296\n"
          ]
        }
      ]
    },
    {
      "cell_type": "markdown",
      "source": [
        "8. Faça um Programa que pergunte quanto você ganha por hora e o número de horas trabalhadas no mês.\n",
        "Calcule e mostre o total do seu salário no referido mês."
      ],
      "metadata": {
        "id": "jo4hlkwwpyBS"
      }
    },
    {
      "cell_type": "code",
      "source": [
        "ganho_hora = float(input('Informe quanto você ganha por hora: '))\n",
        "hora_trabalhada = float(input('Informe as horas trabalhadas no mês: '))\n",
        "\n",
        "ganho = ganho_hora * hora_trabalhada\n",
        "\n",
        "print(f'O seu salário é de {ganho} R$')"
      ],
      "metadata": {
        "id": "cFeyBOUrp4Tn"
      },
      "execution_count": null,
      "outputs": []
    },
    {
      "cell_type": "markdown",
      "source": [
        "9.Faça um Programa que peça a temperatura em graus Farenheit, transforme e mostre a temperatura em graus\n",
        "Celsius."
      ],
      "metadata": {
        "id": "8QxuOvfVrgFV"
      }
    },
    {
      "cell_type": "code",
      "source": [
        "temperatura = int(input('Informe a temperatura em graus Fahrenheit: '))\n",
        "\n",
        "celsius = (5 * (temperatura-32) / 9)\n",
        "\n",
        "print('A temperatura em graus Celsius é:', celsius)"
      ],
      "metadata": {
        "colab": {
          "base_uri": "https://localhost:8080/"
        },
        "id": "hrUGY1QfrdY2",
        "outputId": "23e23da8-adbc-42cc-ab3d-3e414e95260d"
      },
      "execution_count": null,
      "outputs": [
        {
          "output_type": "stream",
          "name": "stdout",
          "text": [
            "Informe a temperatura em graus Fahrenheit: 32\n",
            "A temperatura é graus Celsius é: 0.0\n"
          ]
        }
      ]
    },
    {
      "cell_type": "markdown",
      "source": [
        "10. Faça um Programa que peça a temperatura em graus Celsius, transforme e mostre em graus Farenheit."
      ],
      "metadata": {
        "id": "7REPHNdmsTqp"
      }
    },
    {
      "cell_type": "code",
      "source": [
        "temperatura = int(input('Informe a temperatura em graus Celsius: '))\n",
        "\n",
        "fahrenheit = (temperatura * 1.8) + 32\n",
        "\n",
        "print('A temperatura em graus fahrenheit é:', fahrenheit)"
      ],
      "metadata": {
        "colab": {
          "base_uri": "https://localhost:8080/"
        },
        "id": "VmaWNqFwsX6x",
        "outputId": "df97a384-977f-4379-ca08-e4c3b77b7cdb"
      },
      "execution_count": null,
      "outputs": [
        {
          "output_type": "stream",
          "name": "stdout",
          "text": [
            "Informe a temperatura em graus Celsius: 32\n",
            "A temperatura em graus fahrenheit é: 89.6\n"
          ]
        }
      ]
    },
    {
      "cell_type": "markdown",
      "source": [
        "11. Faça um Programa que peça 2 números inteiros e um número real. Calcule e mostre:\n",
        "\n",
        " a. o produto do dobro do primeiro com metade do segundo.\n",
        "\n",
        " b. a soma do triplo do primeiro com o terceiro.\n",
        "\n",
        " c. o terceiro elevado ao cubo."
      ],
      "metadata": {
        "id": "NKHs0iVvtH9W"
      }
    },
    {
      "cell_type": "code",
      "source": [
        "num1 = int(input('Informe o primeiro número inteiro: '))\n",
        "num2 = int(input('Informe o segundo número inteiro: '))\n",
        "num3 = float(input('Informe o número real: '))\n",
        "\n",
        "a = (2*num1) * (num2/2)\n",
        "\n",
        "b = (3*num1) + 3*num3\n",
        "\n",
        "c = num3 ** 3\n",
        "\n",
        "print('Resultado da expressão (a):', a )\n",
        "print('Resultado da expressão (b):', b )\n",
        "print('Resultado da expressão (c):', c )\n"
      ],
      "metadata": {
        "colab": {
          "base_uri": "https://localhost:8080/"
        },
        "id": "i9tLVdbltqiT",
        "outputId": "8c50c310-ea82-43f9-9148-078b3c56f396"
      },
      "execution_count": null,
      "outputs": [
        {
          "output_type": "stream",
          "name": "stdout",
          "text": [
            "Informe o primeiro número inteiro: 4\n",
            "Informe o segundo número inteiro: 4\n",
            "Informe o número real: 3\n",
            "Resultado da expressão (a): 16.0\n",
            "Resultado da expressão (b): 21.0\n",
            "Resultado da expressão (c): 27.0\n"
          ]
        }
      ]
    },
    {
      "cell_type": "markdown",
      "source": [
        "12. Tendo como dados de entrada a altura de uma pessoa, construa um algoritmo que calcule seu peso ideal,\n",
        "usando a seguinte fórmula: (72.7*altura) - 58"
      ],
      "metadata": {
        "id": "sgt40pryvWxE"
      }
    },
    {
      "cell_type": "code",
      "source": [
        "altura = float(input('Informe a altura (em metros): '))\n",
        "\n",
        "peso_ideal = (72.7*altura) - 58\n",
        "\n",
        "print('O peso ideal para uma pessoa com altura de', altura, 'é de:', peso_ideal, 'kg')"
      ],
      "metadata": {
        "colab": {
          "base_uri": "https://localhost:8080/"
        },
        "id": "yzDCZoKcvcDY",
        "outputId": "4de45af6-653f-425c-bc4d-4d656276cf96"
      },
      "execution_count": null,
      "outputs": [
        {
          "output_type": "stream",
          "name": "stdout",
          "text": [
            "Informe a altura (em metros): 1.75\n",
            "O peso ideal para uma pessoa com altura de 1.75 é de: 69.22500000000001 kg\n"
          ]
        }
      ]
    },
    {
      "cell_type": "markdown",
      "source": [
        "13. Tendo como dados de entrada a altura e o sexo de uma pessoa, construa um algoritmo que calcule seu peso\n",
        "ideal, utilizando as seguintes fórmulas:\n",
        "\n",
        " a. Para homens: (72.7*h) - 58\n",
        "\n",
        " b. Para mulheres: (62.1*h) - 44.7 (h = altura)\n",
        "\n",
        " c. Peça o peso da pessoa e informe se ela está dentro, acima ou abaixo do peso."
      ],
      "metadata": {
        "id": "FYJTK95awUtX"
      }
    },
    {
      "cell_type": "code",
      "source": [
        "altura = float(input('Informe a sua altura (em metros): '))\n",
        "sexo = input('Informe o seu sexo: ')\n",
        "\n",
        "if sexo.upper() == 'M':\n",
        "  peso_ideal = (72.7*altura) - 58\n",
        "\n",
        "elif sexo.upper() == 'F':\n",
        "  peso_ideal == 'F'\n",
        "\n",
        "else:\n",
        "  print('Sexo inválido1!')\n",
        "  exit()\n",
        "\n",
        "peso_atual = float(input('Informe o seu peso (em kg): '))\n",
        "\n",
        "if peso_atual == peso_ideal:\n",
        "  print('Você está dentro do peso!')\n",
        "\n",
        "elif peso_atual > peso_ideal:\n",
        "  print('Você está acima do peso!')\n",
        "\n",
        "else:\n",
        "  print('Você está abaixo do peso!')\n"
      ],
      "metadata": {
        "colab": {
          "base_uri": "https://localhost:8080/"
        },
        "id": "IK5gOcWKwaiS",
        "outputId": "2ab30896-7b22-4465-a575-628b9fac4050"
      },
      "execution_count": null,
      "outputs": [
        {
          "output_type": "stream",
          "name": "stdout",
          "text": [
            "Informe a sua altura (em metros): 192\n",
            "Informe o seu sexo: M\n",
            "Informe o seu peso (em kg): 80\n",
            "Você está abaixo do peso!\n"
          ]
        }
      ]
    },
    {
      "cell_type": "markdown",
      "source": [
        "14. João Papo-de-Pescador, homem de bem, comprou um microcomputador para controlar o rendimento diário de\n",
        "seu trabalho. Toda vez que ele traz um peso de peixes maior que o estabelecido pelo regulamento de pesca do\n",
        "estado de São Paulo (50 quilos) deve pagar uma multa de R$ 4,00 por quilo excedente. João precisa que você\n",
        "faça um programa que leia a variável peso (peso de peixes) e verifique se há excesso. Se houver, gravar na\n",
        "variável excesso e na variável multa o valor da multa que João deverá pagar. Caso contrário mostrar tais\n",
        "variáveis com o conteúdo ZERO.\n"
      ],
      "metadata": {
        "id": "qpnWG3Ec0qFQ"
      }
    },
    {
      "cell_type": "code",
      "source": [
        "peso = float(input('Informe o peso (em kg): '))\n",
        "\n",
        "if peso > 50:\n",
        "  excesso = peso - 50\n",
        "  multa = excesso * 4\n",
        "\n",
        "else:\n",
        "  excesso = 0\n",
        "  multa = 0\n",
        "\n",
        "print('Execesso:', excesso, 'kg')\n",
        "print('Multa:', multa, 'R$')"
      ],
      "metadata": {
        "colab": {
          "base_uri": "https://localhost:8080/"
        },
        "id": "DLF-V1JQ0w_y",
        "outputId": "2b02976e-215e-419e-9812-7794df4d9c2d"
      },
      "execution_count": null,
      "outputs": [
        {
          "output_type": "stream",
          "name": "stdout",
          "text": [
            "Informe o peso (em kg): 53\n",
            "Execesso: 3.0 kg\n",
            "Multa: 12.0 R$\n"
          ]
        }
      ]
    },
    {
      "cell_type": "markdown",
      "source": [
        "15. Faça um Programa que pergunte quanto você ganha por hora e o número de horas trabalhadas no mês.\n",
        "Calcule e mostre o total do seu salário no referido mês, sabendo-se que são descontados 11% para o Imposto\n",
        "de Renda, 8% para o INSS e 5% para o sindicato, faça um programa que nos dê:\n",
        "\n",
        " a. salário bruto.\n",
        "\n",
        " b. quanto pagou ao INSS.\n",
        "\n",
        " c. quanto pagou ao sindicato.\n",
        "\n",
        " d. o salário líquido.\n",
        "\n",
        " calcule os descontos e o salário líquido, conforme a tabela abaixo:\n",
        "\n",
        " + Salário Bruto : R$\n",
        "\n",
        " - IR (11%) : R$\n",
        "\n",
        " - INSS (8%) : R$\n",
        "\n",
        " - Sindicato ( 5%) : R$\n",
        "\n",
        " = Salário Liquido : R$\n",
        "\n",
        " Obs.: Salário Bruto - Descontos = Salário Líquido."
      ],
      "metadata": {
        "id": "YjtOxAmL2tSM"
      }
    },
    {
      "cell_type": "code",
      "source": [
        "ganho_hora = float(input('Informe quanto você ganha por hora trabalhada: '))\n",
        "horas_trabalhadas = int(input('Informe o número de horas trabalhadas no mês: '))\n",
        "\n",
        "salario_bruto = ganho_hora * horas_trabalhadas\n",
        "\n",
        "i_r = salario_bruto * 0.11\n",
        "\n",
        "inss = salario_bruto * 0.08\n",
        "\n",
        "sindicato = salario_bruto * 0.05\n",
        "\n",
        "salario_liquido = salario_bruto - i_r - inss - sindicato\n",
        "\n",
        "print(f'Salário bruto: {salario_bruto:.2f} R$')\n",
        "print(f'Desconto do imposto de renda: {i_r:.2f} R$')\n",
        "print(f'Desconto do INSS: {inss:.2f} R$')\n",
        "print(f'Desconto do sindicato: {sindicato:.2f} R$')\n",
        "print(f'Salário líquido: {salario_liquido:.2f} R$')"
      ],
      "metadata": {
        "id": "LpEag67i23k0"
      },
      "execution_count": null,
      "outputs": []
    },
    {
      "cell_type": "markdown",
      "source": [
        " 16. Faça um programa para uma loja de tintas. O programa deverá pedir o tamanho em metros quadrados da área\n",
        "a ser pintada. Considere que a cobertura da tinta é de 1 litro para cada 3 metros quadrados e que a tinta é\n",
        "vendida em latas de 18 litros, que custam R$ 80,00. Informe ao usuário a quantidades de latas de tinta a serem\n",
        "compradas e o preço total."
      ],
      "metadata": {
        "id": "s3VNKHdi2tHz"
      }
    },
    {
      "cell_type": "code",
      "source": [
        "import math\n",
        "\n",
        "tamanho_area = float(input('Informe o tamanho da área a ser pintada (em metros): '))\n",
        "\n",
        "litros_tinta = tamanho_area / 3\n",
        "\n",
        "quantidade_latas = math.ceil (litros_tinta / 18)\n",
        "\n",
        "preco_total = quantidade_latas * 80\n",
        "\n",
        "print('Você precisa de', quantidade_latas, 'lata(s) de tinta' )\n",
        "print('O preço total é', preco_total, 'R$')\n"
      ],
      "metadata": {
        "colab": {
          "base_uri": "https://localhost:8080/"
        },
        "id": "sJSabaAWC6TJ",
        "outputId": "19bdcfc4-6627-40e8-bc9d-c7bf9e8423d6"
      },
      "execution_count": null,
      "outputs": [
        {
          "output_type": "stream",
          "name": "stdout",
          "text": [
            "Informe o tamanho da área a ser pintada (em metros): 12\n",
            "Você precisa de 1 latas de tinta\n",
            "O preço total é 80 R$\n"
          ]
        }
      ]
    },
    {
      "cell_type": "markdown",
      "source": [
        "17. Faça um Programa para uma loja de tintas. O programa deverá pedir o tamanho em metros quadrados da área a ser pintada. Considere que a cobertura da tinta é de 1 litro para cada 6 metros quadrados e que a tinta é vendida em latas de 18 litros, que custam 80,00 reais ou em galões de 3,6 litros, que custam 25,00 reais. Informe ao usuário as quantidades de tinta a serem compradas e os respectivos preços em 3 situações:\n",
        "\n",
        "comprar apenas latas de 18 litros;\n",
        "\n",
        "comprar apenas galões de 3,6 litros;\n",
        "\n",
        "misturar latas e galões, de forma que o preço seja o menor. Acrescente 10% de folga e sempre arredonde os valores para cima, isto é, considere latas cheias."
      ],
      "metadata": {
        "id": "XbQy3FeJC6sW"
      }
    },
    {
      "cell_type": "code",
      "source": [
        "import math\n",
        "\n",
        "area = float(input('Informe o tamanho da área em metros quadrados: '))\n",
        "\n",
        "litros = area / 6 * 1.1\n",
        "\n",
        "latas = math.ceil(litros / 18)\n",
        "\n",
        "preco_latas = latas * 80.0\n",
        "\n",
        "galoes = math.ceil(litros / 3.6)\n",
        "\n",
        "preco_galoes = galoes * 25.0\n",
        "\n",
        "latas_mistas = math.floor(litros / 18)\n",
        "\n",
        "latas_mistas = math.floor(litros / 18)\n",
        "litros_resto = litros - latas_mistas * 18\n",
        "galoes_mistos = math.ceil(litros_resto / 3.6)\n",
        "preco_misto = latas_mistas * 80.0 + galoes_mistos * 25.0\n",
        "\n",
        "print(f\"Quantidade de latas de tinta de 18 litros: {latas}\")\n",
        "print(f\"Preço total das latas de tinta de 18 litros: R$ {preco_latas:.2f}\")\n",
        "print(f\"Quantidade de galões de 3,6 litros: {galoes}\")\n",
        "print(f\"Preço total dos galões de 3,6 litros: R$ {preco_galoes:.2f}\")\n",
        "print(f\"Quantidade de latas e galões mistos: {latas_mistas} latas e {galoes_mistos} galões\")\n",
        "print(f\"Preço total das latas e galões mistos: R$ {preco_misto:.2f}\")"
      ],
      "metadata": {
        "colab": {
          "base_uri": "https://localhost:8080/"
        },
        "id": "5CBCDUjbDSxT",
        "outputId": "4488377e-0def-4621-9c08-3a542a480d57"
      },
      "execution_count": null,
      "outputs": [
        {
          "output_type": "stream",
          "name": "stdout",
          "text": [
            "Informe o tamanho da área em metros quadrados: 34\n",
            "Quantidade de latas de tinta de 18 litros: 1\n",
            "Preço total das latas de tinta de 18 litros: R$ 80.00\n",
            "Quantidade de galões de 3,6 litros: 2\n",
            "Preço total dos galões de 3,6 litros: R$ 50.00\n",
            "Quantidade de latas e galões mistos: 0 latas e 2 galões\n",
            "Preço total das latas e galões mistos: R$ 50.00\n"
          ]
        }
      ]
    },
    {
      "cell_type": "markdown",
      "source": [
        " 18. Faça um programa que peça o tamanho de um arquivo para download (em MB) e a velocidade de um link de\n",
        "Internet (em Mbps), calcule e informe o tempo aproximado de download do arquivo usando este link (em\n",
        "minutos)."
      ],
      "metadata": {
        "id": "fU3AyJykIDWk"
      }
    },
    {
      "cell_type": "code",
      "source": [
        "tamanho_arquivo = float(input('Informe o tamanho do arquivo (em MB): '))\n",
        "velocidade = float(input('Informe a velocidade do linkk de internet em Mbps: '))\n",
        "\n",
        "download = (tamanho_arquivo * 8) / (velocidade * 60)\n",
        "\n",
        "print(\"O tempo aproximado de download do arquivo é de\", round(download, 2), \"minutos.\")"
      ],
      "metadata": {
        "id": "TBrEJ_i5IHb5"
      },
      "execution_count": null,
      "outputs": []
    }
  ]
}