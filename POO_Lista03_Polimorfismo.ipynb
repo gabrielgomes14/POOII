{
  "nbformat": 4,
  "nbformat_minor": 0,
  "metadata": {
    "colab": {
      "provenance": [],
      "authorship_tag": "ABX9TyOGRK9pLjIPmB23/Ywk1sGh"
    },
    "kernelspec": {
      "name": "python3",
      "display_name": "Python 3"
    },
    "language_info": {
      "name": "python"
    }
  },
  "cells": [
    {
      "cell_type": "markdown",
      "source": [
        "1. Crie uma hierarquia de classes para animais, com uma classe mãe Animal e subclasses Cachorro,\n",
        "Gato e Peixe. Cada subclasse deve ter um método falar() que retorne uma string\n",
        "representando o som que o animal faz. Demonstre o polimorfismo chamando falar() nas\n",
        "instâncias de cada subclasse."
      ],
      "metadata": {
        "id": "brtW0q1C4rQx"
      }
    },
    {
      "cell_type": "code",
      "execution_count": null,
      "metadata": {
        "id": "rSSu2bUj4CFs"
      },
      "outputs": [],
      "source": [
        "class Animal:\n",
        "    def falar(self):\n",
        "        pass\n",
        "\n",
        "class Cachorro(Animal):\n",
        "    def falar(self):\n",
        "        return \"Au Au!\"\n",
        "\n",
        "class Gato(Animal):\n",
        "    def falar(self):\n",
        "        return \"Miau!\"\n",
        "\n",
        "class Peixe(Animal):\n",
        "    def falar(self):\n",
        "        return \"Glub Glub!\"\n",
        "\n",
        "cachorro = Cachorro()\n",
        "gato = Gato()\n",
        "peixe = Peixe()\n",
        "print(\"O cachorro faz:\", cachorro.falar())\n",
        "print(\"O gato faz:\", gato.falar())\n",
        "print(\"O peixe faz:\", peixe.falar())"
      ]
    },
    {
      "cell_type": "markdown",
      "source": [
        "2. Crie uma classe Animal com um método falar(). Em seguida, crie duas classes filhas,\n",
        "Cachorro e Gato, que herdam da classe Animal. Cada uma destas classes filhas deve ter seu\n",
        "próprio método falar() que retorne um som diferente (e.g. latidos para o cachorro e miados para\n",
        "o gato). Em seguida, crie uma lista de animais que inclua um cachorro e um gato. Por fim, itere\n",
        "sobre a lista e chame o método falar() de cada animal."
      ],
      "metadata": {
        "id": "XeEx_CJM46qr"
      }
    },
    {
      "cell_type": "code",
      "source": [
        "class Animal:\n",
        "    def falar(self):\n",
        "        pass\n",
        "\n",
        "class Cachorro(Animal):\n",
        "    def falar(self):\n",
        "        return \"Au Au!\"\n",
        "\n",
        "class Gato(Animal):\n",
        "    def falar(self):\n",
        "        return \"Miau!\"\n",
        "\n",
        "animais = [Cachorro(), Gato()]\n",
        "\n",
        "for animal in animais:\n",
        "    print(animal.falar())"
      ],
      "metadata": {
        "colab": {
          "base_uri": "https://localhost:8080/"
        },
        "id": "D-KMxxTU48im",
        "outputId": "e236e307-859e-42fb-c256-195a9df4755b"
      },
      "execution_count": 1,
      "outputs": [
        {
          "output_type": "stream",
          "name": "stdout",
          "text": [
            "Au Au!\n",
            "Miau!\n"
          ]
        }
      ]
    },
    {
      "cell_type": "markdown",
      "source": [
        "3. Crie uma classe chamada Carro com um método dirigir(). Em seguida, crie duas subclasses,\n",
        "CarroGasolina e CarroEletrico, cada uma com sua própria implementação de dirigir().\n",
        "Demonstre o polimorfismo passando instâncias de ambas as subclasses para uma função que recebe\n",
        "um objeto Carro."
      ],
      "metadata": {
        "id": "Sl2toX2j5Dnl"
      }
    },
    {
      "cell_type": "code",
      "source": [
        "class Carro:\n",
        "    def dirigir(self):\n",
        "        pass\n",
        "\n",
        "class CarroGasolina(Carro):\n",
        "    def dirigir(self):\n",
        "        return \"Dirigindo um carro a gasolina\"\n",
        "\n",
        "class CarroEletrico(Carro):\n",
        "    def dirigir(self):\n",
        "        return \"Dirigindo um carro elétrico\"\n",
        "\n",
        "def testar_carro(carro):\n",
        "    return carro.dirigir()\n",
        "\n",
        "carro_gasolina = CarroGasolina()\n",
        "carro_eletrico = CarroEletrico()\n",
        "print(testar_carro(carro_gasolina))\n",
        "print(testar_carro(carro_eletrico))"
      ],
      "metadata": {
        "id": "JcoqGLsw5EDC"
      },
      "execution_count": null,
      "outputs": []
    },
    {
      "cell_type": "markdown",
      "source": [
        "4. Crie uma classe Forma com um método area(). Em seguida, crie duas classes filhas, Circulo e\n",
        "Quadrado, que herdam da classe Forma. Cada uma destas classes filhas deve ter seu próprio\n",
        "método area() que calcula a área do círculo ou do quadrado, respectivamente. Em seguida, crie\n",
        "uma lista de formas que inclua um círculo e um quadrado. Por fim, itere sobre a lista e chame o\n",
        "método area() de cada forma."
      ],
      "metadata": {
        "id": "Eh4u9OpJ5SF7"
      }
    },
    {
      "cell_type": "code",
      "source": [
        "import math\n",
        "\n",
        "class Forma:\n",
        "    def area(self):\n",
        "        pass\n",
        "\n",
        "class Circulo(Forma):\n",
        "    def __init__(self, raio):\n",
        "        self.raio = raio\n",
        "\n",
        "    def area(self):\n",
        "        return math.pi * self.raio ** 2\n",
        "\n",
        "class Quadrado(Forma):\n",
        "    def __init__(self, lado):\n",
        "        self.lado = lado\n",
        "\n",
        "    def area(self):\n",
        "        return self.lado ** 2\n",
        "\n",
        "formas = [Circulo(5), Quadrado(4)]\n",
        "\n",
        "for forma in formas:\n",
        "    print(\"Área da forma:\", forma.area())"
      ],
      "metadata": {
        "id": "oLlNttnV5S20"
      },
      "execution_count": null,
      "outputs": []
    },
    {
      "cell_type": "markdown",
      "source": [
        "5. Crie uma classe Empregado com um método pagar_salario(). Em seguida, crie duas classes\n",
        "filhas, EmpregadoHora e EmpregadoMes, que herdam da classe Empregado. Cada uma das\n",
        "classes filhas deve ter seu próprio método pagar_salario() que calcula o salário com base no\n",
        "número de horas trabalhadas ou no salário mensal, respectivamente. Em seguida, crie uma lista de\n",
        "funcionários que inclua um funcionário horista e um funcionário mensalista. Por fim, itere sobre a\n",
        "lista e chame o método pagar_salario() de cada funcionário."
      ],
      "metadata": {
        "id": "r0FW64Pc5TH8"
      }
    },
    {
      "cell_type": "code",
      "source": [
        "class Empregado:\n",
        "    def pagar_salario(self):\n",
        "        pass\n",
        "\n",
        "class EmpregadoHora(Empregado):\n",
        "    def __init__(self, horas_trabalhadas, taxa_hora):\n",
        "        self.horas_trabalhadas = horas_trabalhadas\n",
        "        self.taxa_hora = taxa_hora\n",
        "\n",
        "    def pagar_salario(self):\n",
        "        return self.horas_trabalhadas * self.taxa_hora\n",
        "\n",
        "class EmpregadoMes(Empregado):\n",
        "    def __init__(self, salario_mensal):\n",
        "        self.salario_mensal = salario_mensal\n",
        "\n",
        "    def pagar_salario(self):\n",
        "        return self.salario_mensal\n",
        "\n",
        "funcionarios = [EmpregadoHora(40, 10), EmpregadoMes(2000)]\n",
        "\n",
        "for funcionario in funcionarios:\n",
        "    print(\"Salário do funcionário:\", funcionario.pagar_salario())"
      ],
      "metadata": {
        "id": "yi5-zwrG5Tdl"
      },
      "execution_count": null,
      "outputs": []
    },
    {
      "cell_type": "markdown",
      "source": [
        "6. Crie uma classe chamada ContaBancaria com os métodos deposito() e retirada(). Crie\n",
        "duas subclasses: ContaPoupanca e ContaCorrente. Cada uma dessas subclasses deve ter sua\n",
        "própria taxa de juros (a taxa de juros da Conta Poupança é maior que a da Conta Corrente)."
      ],
      "metadata": {
        "id": "hWSRO-Ty6Sz-"
      }
    },
    {
      "cell_type": "code",
      "source": [
        "class ContaBancaria:\n",
        "    def __init__(self, saldo=0):\n",
        "        self.saldo = saldo\n",
        "\n",
        "    def deposito(self, valor):\n",
        "        self.saldo += valor\n",
        "\n",
        "    def retirada(self, valor):\n",
        "        if valor <= self.saldo:\n",
        "            self.saldo -= valor\n",
        "        else:\n",
        "            print(\"Saldo insuficiente.\")\n",
        "\n",
        "class ContaPoupanca(ContaBancaria):\n",
        "    def __init__(self, saldo=0):\n",
        "        super().__init__(saldo)\n",
        "\n",
        "    def calcular_juros(self):\n",
        "        self.saldo *= 1.05\n",
        "\n",
        "class ContaCorrente(ContaBancaria):\n",
        "    def __init__(self, saldo=0):\n",
        "        super().__init__(saldo)\n",
        "\n",
        "    def calcular_juros(self):\n",
        "        self.saldo *= 1.02\n",
        "\n",
        "conta_poupanca = ContaPoupanca(1000)\n",
        "conta_corrente = ContaCorrente(1500)\n",
        "conta_poupanca.deposito(500)\n",
        "conta_corrente.deposito(700)\n",
        "conta_poupanca.calcular_juros()\n",
        "conta_corrente.calcular_juros()\n",
        "print(\"Saldo da conta poupança:\", conta_poupanca.saldo)\n",
        "print(\"Saldo da conta corrente:\", conta_corrente.saldo)"
      ],
      "metadata": {
        "colab": {
          "base_uri": "https://localhost:8080/"
        },
        "id": "tKen1dBJ6UoU",
        "outputId": "47be0410-6de3-4fc1-f49b-d09cbff49c75"
      },
      "execution_count": 2,
      "outputs": [
        {
          "output_type": "stream",
          "name": "stdout",
          "text": [
            "Saldo da conta poupança: 1575.0\n",
            "Saldo da conta corrente: 2244.0\n"
          ]
        }
      ]
    }
  ]
}