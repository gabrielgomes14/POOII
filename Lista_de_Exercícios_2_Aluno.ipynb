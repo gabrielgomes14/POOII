{
  "nbformat": 4,
  "nbformat_minor": 0,
  "metadata": {
    "colab": {
      "provenance": [],
      "authorship_tag": "ABX9TyNXdc9z2jxQkSngbJgDttEv"
    },
    "kernelspec": {
      "name": "python3",
      "display_name": "Python 3"
    },
    "language_info": {
      "name": "python"
    }
  },
  "cells": [
    {
      "cell_type": "markdown",
      "source": [],
      "metadata": {
        "id": "iKAM1imnILjo"
      }
    },
    {
      "cell_type": "markdown",
      "source": [
        "Questão 1"
      ],
      "metadata": {
        "id": "Kbl4rxBeGyCX"
      }
    },
    {
      "cell_type": "code",
      "source": [
        "pessoa = {'nome': 'Ana', 'idade': 30, 'cidade': 'São Paulo'}"
      ],
      "metadata": {
        "id": "v7oB8bxFFXGs"
      },
      "execution_count": null,
      "outputs": []
    },
    {
      "cell_type": "markdown",
      "source": [
        "Questão 2"
      ],
      "metadata": {
        "id": "8kP47FyiG1YN"
      }
    },
    {
      "cell_type": "code",
      "source": [
        "idade = pessoa['idade']\n",
        "print(\"Idade:\", idade)"
      ],
      "metadata": {
        "id": "ADcToC-FFbei"
      },
      "execution_count": null,
      "outputs": []
    },
    {
      "cell_type": "markdown",
      "source": [
        "Questão 3"
      ],
      "metadata": {
        "id": "3KSXh4a4G3sD"
      }
    },
    {
      "cell_type": "code",
      "source": [
        "pessoa['profissão'] = 'Engenheira'\n",
        "print(\"Com profissão:\", pessoa)"
      ],
      "metadata": {
        "id": "Q9E9_KR3FeAs"
      },
      "execution_count": null,
      "outputs": []
    },
    {
      "cell_type": "markdown",
      "source": [
        "Questão 4"
      ],
      "metadata": {
        "id": "XADDpKIxIRFt"
      }
    },
    {
      "cell_type": "code",
      "source": [
        "del pessoa['cidade']\n",
        "print(\"Sem cidade:\", pessoa)"
      ],
      "metadata": {
        "id": "Qv6x_CnWFqFg"
      },
      "execution_count": null,
      "outputs": []
    },
    {
      "cell_type": "markdown",
      "source": [
        "Questão 5"
      ],
      "metadata": {
        "id": "vfLwdz1SIU4t"
      }
    },
    {
      "cell_type": "code",
      "source": [
        "existe_nome = 'nome' in pessoa\n",
        "print(\"A chave 'nome' existe?\", existe_nome)"
      ],
      "metadata": {
        "id": "9KHJI9egF0-D"
      },
      "execution_count": null,
      "outputs": []
    },
    {
      "cell_type": "markdown",
      "source": [
        "Questão 6"
      ],
      "metadata": {
        "id": "8HvpniYnH40Z"
      }
    },
    {
      "cell_type": "code",
      "source": [
        "conjunto1 = set(range(1, 6))  # {1, 2, 3, 4, 5}\n",
        "conjunto2 = set(range(3, 8))  # {3, 4, 5, 6, 7}\n",
        "print(\"Conjunto 1:\", conjunto1)\n",
        "print(\"Conjunto 2:\", conjunto2)"
      ],
      "metadata": {
        "id": "1MFqsykVGW6H"
      },
      "execution_count": null,
      "outputs": []
    },
    {
      "cell_type": "markdown",
      "source": [
        "Questão 7"
      ],
      "metadata": {
        "id": "OYs0zbo6H5pI"
      }
    },
    {
      "cell_type": "code",
      "source": [
        "uniao = conjunto1 | conjunto2\n",
        "print(\"União:\", uniao)"
      ],
      "metadata": {
        "id": "41MRRyIBGaIq"
      },
      "execution_count": null,
      "outputs": []
    },
    {
      "cell_type": "markdown",
      "source": [
        "Questão 8"
      ],
      "metadata": {
        "id": "QtD4lhCGH9P5"
      }
    },
    {
      "cell_type": "code",
      "source": [
        "intersecao = conjunto1 & conjunto2\n",
        "print(\"Interseção:\", intersecao)"
      ],
      "metadata": {
        "id": "2HtnmSwLGid6"
      },
      "execution_count": null,
      "outputs": []
    },
    {
      "cell_type": "markdown",
      "source": [
        "Questão 9"
      ],
      "metadata": {
        "id": "ifGcLW-nICq9"
      }
    },
    {
      "cell_type": "code",
      "source": [
        "diferenca = conjunto1 - conjunto2\n",
        "print(\"Diferença (conjunto1 - conjunto2):\", diferenca)"
      ],
      "metadata": {
        "id": "gLDhOpccGr-W"
      },
      "execution_count": null,
      "outputs": []
    },
    {
      "cell_type": "markdown",
      "source": [
        "Questão 10"
      ],
      "metadata": {
        "id": "c98MRnr-IFqh"
      }
    },
    {
      "cell_type": "code",
      "source": [
        "pertence = 4 in conjunto1\n",
        "print(\"O número 4 pertence ao conjunto1?\", pertence)"
      ],
      "metadata": {
        "id": "RKkDhS0wGucI"
      },
      "execution_count": null,
      "outputs": []
    }
  ]
}