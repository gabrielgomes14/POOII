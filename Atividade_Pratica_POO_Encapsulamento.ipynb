{
  "nbformat": 4,
  "nbformat_minor": 0,
  "metadata": {
    "colab": {
      "provenance": [],
      "authorship_tag": "ABX9TyOvvtw1/fy8Rhy1fuU3cqp3"
    },
    "kernelspec": {
      "name": "python3",
      "display_name": "Python 3"
    },
    "language_info": {
      "name": "python"
    }
  },
  "cells": [
    {
      "cell_type": "markdown",
      "source": [
        "1.Nós usamos o modificador de acesso private a fim de:\n",
        "\n",
        "a) Limitar o acesso a uma classe\n",
        "\n",
        "b) Limitar o acesso às propriedades\n",
        "\n",
        "c) Limitar o acesso aos métodos\n",
        "\n",
        "d) B e C estão corretas\n",
        "\n",
        "**R: c) Limitar o acesso aos métodos**"
      ],
      "metadata": {
        "id": "pRCUEMAQg1He"
      }
    },
    {
      "cell_type": "markdown",
      "source": [
        "2.Vamos voltar para a classe Usuario que desenvolvemos nas atividades anteriores. Agora vamos\n",
        "definir o primeiroNome do usuário como uma propriedade privada (private)."
      ],
      "metadata": {
        "id": "wMnjcTQlhSzB"
      }
    },
    {
      "cell_type": "code",
      "source": [
        "class Usuario:\n",
        "    def __init__(self, primeiroNome, sobrenome):\n",
        "        self.__primeiroNome = primeiroNome\n",
        "        self.sobrenome = sobrenome\n",
        "\n",
        "    def get_primeiroNome(self):\n",
        "        return self.__primeiroNome\n",
        "\n",
        "    def set_primeiroNome(self, novo_nome):\n",
        "        self.__primeiroNome = novo_nome"
      ],
      "metadata": {
        "id": "yHlpwjZ_hlCG"
      },
      "execution_count": 8,
      "outputs": []
    },
    {
      "cell_type": "markdown",
      "source": [
        "2.1 Crie uma propriedade na classe Usuario chamada primeiroNome e evite que qualquer código\n",
        "de fora da classe altere o seu valor, usando o modificador de acesso apropriado."
      ],
      "metadata": {
        "id": "tvpxx8P1iB7c"
      }
    },
    {
      "cell_type": "code",
      "source": [
        "class Usuario:\n",
        "    def __init__(self, primeiroNome, sobrenome):\n",
        "        self.__primeiroNome = primeiroNome\n",
        "        self.sobrenome = sobrenome\n",
        "\n",
        "    @property\n",
        "    def primeiroNome(self):\n",
        "        return self.__primeiroNome\n",
        "\n",
        "    @primeiroNome.setter\n",
        "    def primeiroNome(self, novo_nome):\n",
        "        self.__primeiroNome = novo_nome"
      ],
      "metadata": {
        "id": "gVvBn7XbjMfi"
      },
      "execution_count": 9,
      "outputs": []
    },
    {
      "cell_type": "markdown",
      "source": [
        "2.2 Crie um método para definir o valor da propriedade primeiroNome. Use o modificador de\n",
        "acesso correto para ele."
      ],
      "metadata": {
        "id": "yQ9rL6UxjWDy"
      }
    },
    {
      "cell_type": "code",
      "source": [
        "class Usuario:\n",
        "    def __init__(self, primeiroNome, sobrenome):\n",
        "        self.__primeiroNome = primeiroNome\n",
        "        self.sobrenome = sobrenome\n",
        "\n",
        "    @property\n",
        "    def primeiroNome(self):\n",
        "        return self.__primeiroNome\n",
        "\n",
        "    @primeiroNome.setter\n",
        "    def primeiroNome(self, novo_nome):\n",
        "        self.__primeiroNome = novo_nome"
      ],
      "metadata": {
        "id": "eQJuK0J5j2-D"
      },
      "execution_count": 10,
      "outputs": []
    },
    {
      "cell_type": "markdown",
      "source": [
        "2.3 Agora, crie um método para retornar o valor primeiroNome."
      ],
      "metadata": {
        "id": "YvtI8EO4j8q4"
      }
    },
    {
      "cell_type": "code",
      "source": [
        "class Usuario:\n",
        "    def __init__(self, primeiroNome, sobrenome):\n",
        "        self.__primeiroNome = primeiroNome\n",
        "        self.sobrenome = sobrenome\n",
        "\n",
        "    @property\n",
        "    def primeiroNome(self):\n",
        "        return self.__primeiroNome\n",
        "\n",
        "    @primeiroNome.setter\n",
        "    def primeiroNome(self, novo_nome):\n",
        "        self.__primeiroNome = novo_nome\n",
        "\n",
        "    def get_primeiroNome(self):\n",
        "        return self.__primeiroNome"
      ],
      "metadata": {
        "id": "_ZDBBUdej_yZ"
      },
      "execution_count": null,
      "outputs": []
    },
    {
      "cell_type": "markdown",
      "source": [
        "2.4 Crie um objeto chamado usuario1. Depois defina seu primeiro nome como \"Joe\" e faça com\n",
        "que ele retorne este nome."
      ],
      "metadata": {
        "id": "ZNPQZAJtkOyv"
      }
    },
    {
      "cell_type": "code",
      "source": [
        "class Usuario:\n",
        "    def __init__(self, primeiroNome, sobrenome):\n",
        "        self.__primeiroNome = primeiroNome\n",
        "        self.sobrenome = sobrenome\n",
        "\n",
        "    def get_primeiroNome(self):\n",
        "        return self.__primeiroNome\n",
        "\n",
        "usuario1 = Usuario(\"Joe\", \"Doe\")\n",
        "\n",
        "nome_do_usuario = usuario1.get_primeiroNome()\n",
        "print(f\"O primeiro nome do usuário é: {nome_do_usuario}\")"
      ],
      "metadata": {
        "id": "txCB5qJJkiKw"
      },
      "execution_count": null,
      "outputs": []
    },
    {
      "cell_type": "markdown",
      "source": [
        "3.Crie uma classe chamada Empregado(), com três propriedades: nome, salario (deve ser\n",
        "privada) e projeto. Ela também possui um método chamado “trabalho()”, que deverá\n",
        "imprimir o nome do funcionário e o projeto em que ele está trabalhando e um outro método\n",
        "chamado “mostrar()” para exibir os detalhes desse empregado (i.e. nome e salário). Atente\n",
        "para o modificador de acesso da propriedade “salario”. Use o método adequado para ter\n",
        "acesso a ela. Crie um objeto desta classe (i.e. instância) e use os métodos para visualizar os\n",
        "dados."
      ],
      "metadata": {
        "id": "_-WtgTSGlI_Q"
      }
    },
    {
      "cell_type": "code",
      "source": [
        "class Empregado:\n",
        "    def __init__(self, nome, salario, projeto):\n",
        "        self.nome = nome\n",
        "        self.__salario = salario\n",
        "        self.projeto = projeto\n",
        "\n",
        "    def trabalho(self):\n",
        "        print(f\"{self.nome} está trabalhando no projeto {self.projeto}\")\n",
        "\n",
        "    def mostrar(self):\n",
        "        print(f\"Detalhes do empregado:\\nNome: {self.nome}\\nSalário: R${self.__salario:.2f}\")\n",
        "\n",
        "empregado1 = Empregado(\"Gabriel\", 9000.0, \"olá mundo\")\n",
        "\n",
        "empregado1.trabalho()\n",
        "empregado1.mostrar()\n"
      ],
      "metadata": {
        "colab": {
          "base_uri": "https://localhost:8080/"
        },
        "id": "yRnBlRsXlXFn",
        "outputId": "6010c7fe-dadf-440f-9062-bf33c72c45b9"
      },
      "execution_count": 6,
      "outputs": [
        {
          "output_type": "stream",
          "name": "stdout",
          "text": [
            "Gabriel está trabalhando no projeto olá mundo\n",
            "Detalhes do empregado:\n",
            "Nome: Gabriel\n",
            "Salário: R$9000.00\n"
          ]
        }
      ]
    },
    {
      "cell_type": "markdown",
      "source": [
        "4.Crie uma classe chamada Robo(). Ela deverá ter duas propriedades privadas: nome e\n",
        "ano_construcao. Também deverá ter um método de nome “diga_alo()”, para mostrar na\n",
        "tela o nome do robô e seu ano de construção. Crie os métodos “setters” e “getters”\n",
        "necessários. Instancie a classe e use os métodos criados para visualizar / atualizar os dados."
      ],
      "metadata": {
        "id": "GqVO9VIllu_P"
      }
    },
    {
      "cell_type": "code",
      "source": [
        "class Robo:\n",
        "    def __init__(self, nome, ano_construcao):\n",
        "        self.__nome = nome\n",
        "        self.__ano_construcao = ano_construcao\n",
        "\n",
        "    def diga_alo(self):\n",
        "        print(f\"Olá! Eu sou o robô {self.__nome}, construído no ano {self.__ano_construcao}.\")\n",
        "\n",
        "    def get_nome(self):\n",
        "        return self.__nome\n",
        "\n",
        "    def set_nome(self, novo_nome):\n",
        "        self.__nome = novo_nome\n",
        "\n",
        "    def get_ano_construcao(self):\n",
        "        return self.__ano_construcao\n",
        "\n",
        "    def set_ano_construcao(self, novo_ano):\n",
        "        self.__ano_construcao = novo_ano\n",
        "\n",
        "meu_robo = Robo(\"R2-D2\", 2020)\n",
        "\n",
        "meu_robo.diga_alo()\n",
        "\n",
        "meu_robo.set_nome(\"C-3PO\")\n",
        "meu_robo.set_ano_construcao(2022)\n",
        "meu_robo.diga_alo()"
      ],
      "metadata": {
        "id": "yLvHhTG0mAzD"
      },
      "execution_count": null,
      "outputs": []
    },
    {
      "cell_type": "markdown",
      "source": [
        "5.Implemente uma classe chamada Laptop que possua um atributo privado chamado “preco”\n",
        "que armazena o preço do laptop (sem qualquer validação). Em seguida, implemente um método\n",
        "para ler esse atributo chamado “get_preco()” e um método para modificar esse atributo\n",
        "chamado “set_preco()” sem validação também. Em seguida, crie uma instância da classe\n",
        "Laptop siga estas etapas:\n",
        "• usando o método “get_preco()” imprima o valor do atributo “preco” na tela\n",
        "• usando o método “set_preco()”, defina o valor do atributo “preco” para 3999”"
      ],
      "metadata": {
        "id": "tbA6BCh1mPzh"
      }
    },
    {
      "cell_type": "code",
      "source": [
        "class Laptop:\n",
        "    def __init__(self):\n",
        "        self.__preco = 0\n",
        "\n",
        "    def get_preco(self):\n",
        "        return self.__preco\n",
        "\n",
        "    def set_preco(self, preco):\n",
        "        self.__preco = preco\n",
        "\n",
        "laptop = Laptop()\n",
        "\n",
        "print(\"Valor inicial do preço do laptop:\", laptop.get_preco())\n",
        "laptop.set_preco(3999)\n",
        "print(\"Novo valor do preço do laptop:\", laptop.get_preco())"
      ],
      "metadata": {
        "id": "KqkTsYfcmPij"
      },
      "execution_count": null,
      "outputs": []
    },
    {
      "cell_type": "markdown",
      "source": [
        "6.Implemente uma classe chamada Pessoa que tenha dois atributos privados chamados\n",
        "“primeiroNome” e “ultimoNome”, respectivamente. Em seguida, implemente métodos\n",
        "chamados “getPrimeiroNome()” e “getUltimoNome()”, para ler os atributos, e os\n",
        "métodos “setPrimeiroNome()” e “setUltimoNome()” para atribuir valores a eles. Depois\n",
        "crie uma instância da classe Pessoa definindo os seguintes valores:\n",
        "primeiroNome = 'João'\n",
        "ultimoNome = 'Carvalho'\n",
        "Após, imprima os valores desses atributos no console."
      ],
      "metadata": {
        "id": "tDbzMOAMmgPw"
      }
    },
    {
      "cell_type": "code",
      "source": [
        "class Pessoa:\n",
        "    def __init__(self, primeiroNome, ultimoNome):\n",
        "        self.__primeiroNome = primeiroNome\n",
        "        self.__ultimoNome = ultimoNome\n",
        "\n",
        "    def getPrimeiroNome(self):\n",
        "        return self.__primeiroNome\n",
        "\n",
        "    def getUltimoNome(self):\n",
        "        return self.__ultimoNome\n",
        "\n",
        "    def setPrimeiroNome(self, novo_primeiroNome):\n",
        "        self.__primeiroNome = novo_primeiroNome\n",
        "\n",
        "    def setUltimoNome(self, novo_ultimoNome):\n",
        "        self.__ultimoNome = novo_ultimoNome\n",
        "\n",
        "pessoa1 = Pessoa(\"João\", \"Carvalho\")\n",
        "print(f\"Primeiro Nome: {pessoa1.getPrimeiroNome()}\")\n",
        "print(f\"Último Nome: {pessoa1.getUltimoNome()}\")"
      ],
      "metadata": {
        "colab": {
          "base_uri": "https://localhost:8080/"
        },
        "id": "NYWpNblEmnJM",
        "outputId": "09ad8264-3b4e-4253-f755-b845edcc01d8"
      },
      "execution_count": 7,
      "outputs": [
        {
          "output_type": "stream",
          "name": "stdout",
          "text": [
            "Primeiro Nome: João\n",
            "Último Nome: Carvalho\n"
          ]
        }
      ]
    }
  ]
}