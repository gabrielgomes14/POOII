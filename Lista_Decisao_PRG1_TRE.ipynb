{
  "nbformat": 4,
  "nbformat_minor": 0,
  "metadata": {
    "colab": {
      "provenance": [],
      "authorship_tag": "ABX9TyOnZ2vF4j+5yxhGtLKtf45u"
    },
    "kernelspec": {
      "name": "python3",
      "display_name": "Python 3"
    },
    "language_info": {
      "name": "python"
    }
  },
  "cells": [
    {
      "cell_type": "markdown",
      "source": [
        "2. Ler um valor e escrever se é positivo, negativo ou zero."
      ],
      "metadata": {
        "id": "orgTe7PAel0U"
      }
    },
    {
      "cell_type": "code",
      "execution_count": null,
      "metadata": {
        "colab": {
          "base_uri": "https://localhost:8080/"
        },
        "id": "MI_4EbpVa9tB",
        "outputId": "d66e0f38-baee-460b-f6b2-fb404bd26e2b"
      },
      "outputs": [
        {
          "output_type": "stream",
          "name": "stdout",
          "text": [
            "Informe um valor: 0\n",
            "0 É ZERO!\n"
          ]
        }
      ],
      "source": [
        "valor = int(input('Informe um valor: '))\n",
        "\n",
        "if valor < 0:\n",
        "  print(f'{valor} É NEGATIVO!')\n",
        "\n",
        "if valor > 0:\n",
        "  print(f'{valor} É POSITIVO!')\n",
        "\n",
        "if valor == 0:\n",
        "  print(f'{valor} É ZERO!')"
      ]
    },
    {
      "cell_type": "markdown",
      "source": [
        "3. Ler um valor e escrever a mensagem **É MAIOR QUE 10!** se o valor lido for maior que 10,\n",
        "caso contrário escrever **NÃO É MAIOR QUE 10!**"
      ],
      "metadata": {
        "id": "AfQy98-rep0X"
      }
    },
    {
      "cell_type": "code",
      "source": [
        "valor = int(input('Informe um valor: '))\n",
        "\n",
        "if valor > 10:\n",
        "    print(f'{valor} É MAIOR QUE 10!')\n",
        "\n",
        "if valor < 10:\n",
        "    print(f'{valor} É MENOR QUE 10!')"
      ],
      "metadata": {
        "colab": {
          "base_uri": "https://localhost:8080/"
        },
        "id": "ZNp49gWIcVD9",
        "outputId": "6aedbf86-796b-4adf-f14e-7a1deb255a6e"
      },
      "execution_count": null,
      "outputs": [
        {
          "name": "stdout",
          "output_type": "stream",
          "text": [
            "Informe um valor: 88\n"
          ]
        }
      ]
    },
    {
      "cell_type": "markdown",
      "source": [
        "4. Calcule a soma de dois números, se o resultado for maior que 10, mostre-o na tela."
      ],
      "metadata": {
        "id": "j5aqSHOwe1LW"
      }
    },
    {
      "cell_type": "code",
      "source": [
        "num1 = float(input('Informe o primeiro número: '))\n",
        "num2 = float(input('Informe o segundo número: '))\n",
        "\n",
        "soma = num1 + num2\n",
        "\n",
        "if soma > 10:\n",
        "  print(f'{soma}')\n",
        "\n",
        "else:\n",
        "  print(f'A soma de {num1} + {num2} é menor que 10! ')"
      ],
      "metadata": {
        "id": "FQRxLVf1KFim",
        "colab": {
          "base_uri": "https://localhost:8080/"
        },
        "outputId": "3211b837-5aea-4e99-ae94-53b10ce7fc9b"
      },
      "execution_count": null,
      "outputs": [
        {
          "output_type": "stream",
          "name": "stdout",
          "text": [
            "Informe o primeiro número: 12\n",
            "Informe o segundo número: 1\n",
            "13.0\n"
          ]
        }
      ]
    },
    {
      "cell_type": "markdown",
      "source": [
        "5. Entrar com um número e informar se ele é divisível por 5."
      ],
      "metadata": {
        "id": "CowTZNtxe3cS"
      }
    },
    {
      "cell_type": "code",
      "source": [
        "numero = int(input('Informe um número: '))\n",
        "\n",
        "if numero % 5 == 0:\n",
        "  print(f'{numero} é divisível por 5!')\n",
        "\n",
        "else:\n",
        "  print(f'{numero} não é divisível por 5!')"
      ],
      "metadata": {
        "colab": {
          "base_uri": "https://localhost:8080/"
        },
        "id": "PpjKsu4AMFHY",
        "outputId": "942a3b34-9142-4625-b615-2a7890b8e077"
      },
      "execution_count": null,
      "outputs": [
        {
          "output_type": "stream",
          "name": "stdout",
          "text": [
            "Informe um número: 12\n",
            "12 não é divisível por 5!\n"
          ]
        }
      ]
    },
    {
      "cell_type": "markdown",
      "source": [
        "6. Construir um algoritmo que indique se o número digitado está entre 20 e 90 ou não."
      ],
      "metadata": {
        "id": "_ii7Uen1e5pv"
      }
    },
    {
      "cell_type": "code",
      "source": [
        "numero = int(input('Informe um número: '))\n",
        "\n",
        "if numero > 20 and numero < 90:\n",
        "  print('O número digitado está entre 20 e 90.')\n",
        "\n",
        "else:\n",
        "  print('O número digitado não está entre 20 e 90.')"
      ],
      "metadata": {
        "id": "OIkJvbSFNHt0",
        "colab": {
          "base_uri": "https://localhost:8080/"
        },
        "outputId": "89683f50-acdb-4b2e-d618-be4d70d1ae36"
      },
      "execution_count": null,
      "outputs": [
        {
          "output_type": "stream",
          "name": "stdout",
          "text": [
            "Informe um número: 19\n",
            "O número digitado não está entre 20 e 90.\n"
          ]
        }
      ]
    },
    {
      "cell_type": "markdown",
      "source": [
        "7. Ler o ano atual e o ano de nascimento de uma pessoa. Escrever uma mensagem que\n",
        "diga se ela poderá ou não votar este ano (não é necessário considerar o mês em que a\n",
        "pessoa nasceu)."
      ],
      "metadata": {
        "id": "GJZ1n9O4e7jh"
      }
    },
    {
      "cell_type": "code",
      "source": [
        "ano_atual = int(input('Informe o ano atual: '))\n",
        "ano_nascimento = int(input('Informe o ano de nascimento: '))\n",
        "\n",
        "votar = ano_atual - ano_nascimento\n",
        "\n",
        "if votar > 18:\n",
        "  print('VOCÊ PODERÁ VOTAR ESTE ANO!')\n",
        "\n",
        "else: \n",
        "  print('VOCÊ NÃO PODERÁ VOTAR ESTE ANO!')"
      ],
      "metadata": {
        "colab": {
          "base_uri": "https://localhost:8080/"
        },
        "id": "2LxTSN_vNwME",
        "outputId": "a04d7d5b-86ad-4086-c6a8-0af72c7cf0d3"
      },
      "execution_count": null,
      "outputs": [
        {
          "output_type": "stream",
          "name": "stdout",
          "text": [
            "Informe o ano atual: 2023\n",
            "Informe o ano de nascimento: 2004\n",
            "VOCÊ PODERÁ VOTAR ESTE ANO!\n"
          ]
        }
      ]
    },
    {
      "cell_type": "markdown",
      "source": [
        "8. Entrar com o ano de nascimento de uma pessoa e imprimir a idade dela. Verificar se o\n",
        "ano digitado é válido."
      ],
      "metadata": {
        "id": "yd9-4hkegBTT"
      }
    },
    {
      "cell_type": "code",
      "source": [
        "import datetime\n",
        "\n",
        "ano_nascimento = int(input('Informe seu ano de nascimento: '))\n",
        "ano_atual = datetime.datetime.now().year\n",
        "\n",
        "if ano_nascimento > ano_atual:\n",
        "  print('ANO INFORMADO INVÁLIDO!')\n",
        "\n",
        "else:\n",
        "  print('ANO INFORMADO VÁLIDO')\n",
        "\n",
        "idade = ano_atual - ano_nascimento\n",
        "print(f'Sua idade é de: {idade} anos')"
      ],
      "metadata": {
        "colab": {
          "base_uri": "https://localhost:8080/"
        },
        "id": "DxOOBl3sgDor",
        "outputId": "ff90b318-a83b-427d-8600-4580e222b22e"
      },
      "execution_count": null,
      "outputs": [
        {
          "output_type": "stream",
          "name": "stdout",
          "text": [
            "Informe seu ano de nascimento: 2004\n",
            "ANO INFORMADO VÁLIDO\n",
            "Sua idade é de: 19 anos\n"
          ]
        }
      ]
    },
    {
      "cell_type": "markdown",
      "source": [
        "9. Entrar com a idade de uma pessoa e exibir a mensagem; Maior de idade, menor de\n",
        "idade ou acima de 65 anos."
      ],
      "metadata": {
        "id": "5HVSRnA8iQD0"
      }
    },
    {
      "cell_type": "code",
      "source": [
        "idade = int(input('Informe sua idade: '))\n",
        "\n",
        "if idade >= 65:\n",
        "  print('Acima de 65 anos')\n",
        "\n",
        "if idade >= 18:\n",
        "  print('Maior de idade')\n",
        "\n",
        "else:\n",
        "  print('Menor de idade')"
      ],
      "metadata": {
        "colab": {
          "base_uri": "https://localhost:8080/"
        },
        "id": "j0zH2mVniTeo",
        "outputId": "88b7dd8d-8fac-4a4d-c2a0-4bc43c179669"
      },
      "execution_count": null,
      "outputs": [
        {
          "output_type": "stream",
          "name": "stdout",
          "text": [
            "Informe sua idade: 18\n",
            "Maior de idade\n"
          ]
        }
      ]
    },
    {
      "cell_type": "markdown",
      "source": [
        "10. Ler as notas da 1a\n",
        ". e 2a\n",
        ". avaliações de um aluno. Calcular a média aritmética simples e\n",
        "escrever uma mensagem que diga se o aluno foi ou não aprovado (considerar que se a\n",
        "nota for igual ou maior que 6 o aluno é aprovado). Escrever também a média\n",
        "calculada."
      ],
      "metadata": {
        "id": "UFsHEB-ui0En"
      }
    },
    {
      "cell_type": "code",
      "source": [
        "nota1 = float(input('Digite a nota da 1ª avaliação: '))\n",
        "nota2 = float(input('Digite a nota da 2ª avaliação: '))\n",
        "\n",
        "media = (nota1 + nota2) / 2\n",
        "print(f'Média aritmética: {media:.1f}')\n",
        "\n",
        "if media >= 6.0:\n",
        "  print('APROVADO!')\n",
        "\n",
        "else:\n",
        "  print('REPROVADO :(')"
      ],
      "metadata": {
        "colab": {
          "base_uri": "https://localhost:8080/"
        },
        "id": "inNFBPdki-4j",
        "outputId": "7fcaa79c-c626-4b81-d20a-d7d1deb90b92"
      },
      "execution_count": null,
      "outputs": [
        {
          "output_type": "stream",
          "name": "stdout",
          "text": [
            "Primeira avaliação: 7\n",
            "Segunda avaliação: 7\n",
            "Média aritmética: 7.0\n",
            "APROVADO!\n"
          ]
        }
      ]
    },
    {
      "cell_type": "markdown",
      "source": [
        "11. Escrever um algoritmo para ler duas notas de um aluno e escrever na tela a palavra\n",
        "“Aprovado” se a média das duas notas for maior ou igual a 7,0. Caso a média seja\n",
        "inferior a 7,0, o programa deve ler a nota do exame e calcular a média final. Se esta\n",
        "média for maior ou igual a 5,0, o programa deve escrever “Aprovado”, caso contrário\n",
        "deve escrever “Reprovado”."
      ],
      "metadata": {
        "id": "-WCobG9OlvWN"
      }
    },
    {
      "cell_type": "code",
      "source": [
        "nota1 = float(input('Digite a nota da 1ª avaliação: '))\n",
        "nota2 = float(input('Digite a nota da 2ª avaliação: '))\n",
        "\n",
        "media = (nota1 + nota2) / 2\n",
        "\n",
        "if media >= 7.0:\n",
        "    print(\"Aprovado\")\n",
        "else:\n",
        "    nota_exame = float(input(\"Digite a nota do exame: \"))\n",
        "    media_final = (media + nota_exame) / 2\n",
        "    if media_final >= 5.0:\n",
        "        print(\"Aprovado\")\n",
        "    else:\n",
        "        print(\"Reprovado\")"
      ],
      "metadata": {
        "colab": {
          "base_uri": "https://localhost:8080/"
        },
        "id": "fBvIqhuvlxUc",
        "outputId": "aa2df8ab-a5de-4fd0-fef1-ce068b19bd86"
      },
      "execution_count": null,
      "outputs": [
        {
          "output_type": "stream",
          "name": "stdout",
          "text": [
            "Digite a nota da 1ª avaliação: 7.0\n",
            "Digite a nota da 2ª avaliação: 8.0\n",
            "Aprovado\n"
          ]
        }
      ]
    },
    {
      "cell_type": "markdown",
      "source": [
        "12. Escrever um algoritmo para ler a quantidade de horas aula dadas por dois professores\n",
        "e o valor por hora recebido por cada um. Mostrar na tela qual dos professores tem\n",
        "salário total maior."
      ],
      "metadata": {
        "id": "Pqkpx6sDzCbq"
      }
    },
    {
      "cell_type": "code",
      "source": [
        "horas_trabalhadas1 = int(input('Digite a quantidade de horas do primeiro professor: '))\n",
        "valor_hora1 = float(input('Digite o valor por hora do primeiro professor: '))\n",
        "\n",
        "horas_trabalhadas2 = int(input('Digite a quantidade de horas do segundo professor: '))\n",
        "valor_hora2 = float(input('Digite o valor por hora do segundo professor: '))\n",
        "\n",
        "ganho1 = horas_trabalhadas1 * valor_hora1\n",
        "print(f'Salário do primeiro professor: {ganho1} R$')\n",
        "\n",
        "ganho2 = horas_trabalhadas2 * valor_hora2\n",
        "print(f'Salário do segundo professor: {ganho2} R$')\n",
        "\n",
        "if ganho1 > ganho2:\n",
        "  print('Maior salário: segundo professor.')\n",
        "\n",
        "else:\n",
        "  print('Maior salário: Segundo professor.')\n"
      ],
      "metadata": {
        "colab": {
          "base_uri": "https://localhost:8080/"
        },
        "id": "wqtkHaQPzExb",
        "outputId": "ba4a8dd6-07ae-4768-f6f9-15a5e23ad47b"
      },
      "execution_count": null,
      "outputs": [
        {
          "output_type": "stream",
          "name": "stdout",
          "text": [
            "Digite a quantidade de horas do primeiro professor: 50\n",
            "Digite o valor por hora do primeiro professor: 12\n",
            "Digite a quantidade de horas do segundo professor: 50\n",
            "Digite o valor por hora do segundo professor: 13\n",
            "Salário do primeiro professor: 600.0 R$\n",
            "Salário do segundo professor: 650.0 R$\n",
            "Maior salário: Segundo professor\n"
          ]
        }
      ]
    },
    {
      "cell_type": "markdown",
      "source": [
        "\n",
        "13. Faça um algoritmo que leia um número inteiro e mostre uma mensagem indicando se\n",
        "este número é par ou ímpar."
      ],
      "metadata": {
        "id": "Fxn4UOHbuieh"
      }
    },
    {
      "cell_type": "code",
      "source": [
        "numero = int(input('Digite um número: '))\n",
        "\n",
        "if numero % 2:\n",
        "  print(f'{numero} é impar!')\n",
        "\n",
        "else:\n",
        "  print(f'{numero} é par!')"
      ],
      "metadata": {
        "colab": {
          "base_uri": "https://localhost:8080/"
        },
        "id": "wE4s3cRzujwV",
        "outputId": "2cb10009-d8e0-4ef4-9dcf-5660f3b86882"
      },
      "execution_count": null,
      "outputs": [
        {
          "output_type": "stream",
          "name": "stdout",
          "text": [
            "Digite um número: 2\n",
            "2 é par!\n"
          ]
        }
      ]
    },
    {
      "cell_type": "markdown",
      "source": [
        "14. Ler o nome de 2 times e o número de gols marcados na partida. Escrever o nome do\n",
        "vencedor. Caso não haja vencedor deverá ser impressa a palavra EMPATE."
      ],
      "metadata": {
        "id": "ojicHFTevgkw"
      }
    },
    {
      "cell_type": "code",
      "source": [
        "time1 = input('Informe o nome do primeiro time: ')\n",
        "gols1 = int(input(f'Informe o saldo de gols do {time1}: '))\n",
        "\n",
        "time2 = input('Informe o nome do segundo time: ')\n",
        "gols2 = int(input(f'Informe o número de gols do {time2}: '))\n",
        "\n",
        "if gols1 > gols2:\n",
        "  print(f'{time1} é o vencedor!')\n",
        "\n",
        "elif gols2 > gols1:\n",
        "  print(f'{time2} é o vencedor!')\n",
        "\n",
        "else:\n",
        "  print('Empate!')"
      ],
      "metadata": {
        "colab": {
          "base_uri": "https://localhost:8080/"
        },
        "id": "bEvHjtXbviqk",
        "outputId": "e46a95a6-97cc-4239-9e77-95dff3e1da5f"
      },
      "execution_count": null,
      "outputs": [
        {
          "output_type": "stream",
          "name": "stdout",
          "text": [
            "Informe o nome do primeiro time: vaxco\n",
            "Informe o saldo de gols do vaxco: 5\n",
            "Informe o nome do segundo time: flamidia\n",
            "Informe o número de gols do flamidia: 1\n",
            "vaxco é o vencedor!\n",
            "Empate!\n"
          ]
        }
      ]
    },
    {
      "cell_type": "markdown",
      "source": [
        "15. Entrar com a sigla do estado de uma pessoa e imprimir uma das mensagens: “Carioca,\n",
        "Paulista, Mineiro ou Outros”"
      ],
      "metadata": {
        "id": "Mnqp9R7YyzDQ"
      }
    },
    {
      "cell_type": "code",
      "source": [
        "carioca = ['RJ', 'Rio de Janeiro']\n",
        "paulista = ['SP', 'São Paulo']\n",
        "mineiro = ['MG', 'Minas Gerais']\n",
        "\n",
        "estado = input('Digite a sigla correspondente ao seu estado: ')\n",
        "\n",
        "if estado.upper() in carioca:\n",
        "  print('Carioca')\n",
        "\n",
        "elif estado.upper() in paulista:\n",
        "  print('Paulista')\n",
        "\n",
        "elif estado.upper() in mineiro:\n",
        "  print('Mineiro')\n",
        "\n",
        "else:\n",
        "  print('Outros')"
      ],
      "metadata": {
        "colab": {
          "base_uri": "https://localhost:8080/"
        },
        "id": "pKetnjm_yzpC",
        "outputId": "2a17a7a0-b8b1-4d0a-ef8d-62202838b8f2"
      },
      "execution_count": null,
      "outputs": [
        {
          "output_type": "stream",
          "name": "stdout",
          "text": [
            "Digite a sigla correspondente ao seu estado: rj\n",
            "Carioca\n"
          ]
        }
      ]
    },
    {
      "cell_type": "markdown",
      "source": [
        "16. Um comerciante comprou um produto e quer vendê-lo com um lucro de 45% se o valor\n",
        "da compra for menor que R$ 20,00; Caso contrário, o lucro será de 30%. Entrar com o\n",
        "valor do produto e imprimir o valor da venda."
      ],
      "metadata": {
        "id": "JWVGUUVa0oSS"
      }
    },
    {
      "cell_type": "code",
      "source": [
        "valor_compra = float(input('Informe o valor do produto: R$'))\n",
        "\n",
        "if valor_compra < 20.00:\n",
        "  percentual_lucro = 0.45\n",
        "\n",
        "else:\n",
        "  percentual_lucro = 0.30\n",
        "\n",
        "valor_venda = valor_compra * (1 + percentual_lucro)\n",
        "\n",
        "print(f'o valor da venda é de {valor_venda:.2f} R$')"
      ],
      "metadata": {
        "id": "CYhZMWRY0tAk"
      },
      "execution_count": null,
      "outputs": []
    },
    {
      "cell_type": "markdown",
      "source": [
        "17. Entrar com um número de 1 a 12 e exibir o mês correspondente."
      ],
      "metadata": {
        "id": "3w_DPM5J2LJf"
      }
    },
    {
      "cell_type": "code",
      "source": [
        "meses = ['Janeiro', 'Fevereiro', 'Março', 'Abril', 'Maio', 'Junho', 'Julho', 'Agosto', 'Setembro', 'Outubro', 'Novembro', 'Dezembro']\n",
        "\n",
        "numero = int(input('Digite um numero de 1 a 12: '))\n",
        "\n",
        "while numero < 1 or numero > 12:\n",
        "  numero = int(input('Número informado inválido. Digite um número válido de 1 a 12: '))\n",
        "\n",
        "mes = meses[numero - 1]\n",
        "\n",
        "print(f'O mês correspondente ao número {numero} é {mes}.')"
      ],
      "metadata": {
        "colab": {
          "base_uri": "https://localhost:8080/"
        },
        "id": "I4wrn5NB2Olg",
        "outputId": "c4986ab4-21ce-4a95-de0b-c18b7c27b6b4"
      },
      "execution_count": null,
      "outputs": [
        {
          "output_type": "stream",
          "name": "stdout",
          "text": [
            "Digite um numero de 1 a 12: 10\n",
            "O mês correspondente ao número 10 é Outubro.\n"
          ]
        }
      ]
    },
    {
      "cell_type": "markdown",
      "source": [
        "18. Faça um algoritmo que verifique se uma letra digitada é vogal ou consoante."
      ],
      "metadata": {
        "id": "LlnAtVyK3hXd"
      }
    },
    {
      "cell_type": "code",
      "source": [
        "vogais = ['A', 'E', 'I', 'O', 'U']\n",
        "\n",
        "letra = input('Informe a letra: ').upper()\n",
        "\n",
        "if letra in vogais:\n",
        "  print(f'{letra} é Vogal!')\n",
        "\n",
        "else:\n",
        "  print(f'{letra} é consoante!')"
      ],
      "metadata": {
        "colab": {
          "base_uri": "https://localhost:8080/"
        },
        "id": "bFkv-0yx3iba",
        "outputId": "b0e292ac-25f0-47b2-ac80-a143af5e2e7e"
      },
      "execution_count": null,
      "outputs": [
        {
          "output_type": "stream",
          "name": "stdout",
          "text": [
            "Informe a letra: b\n",
            "B é consoante!\n"
          ]
        }
      ]
    },
    {
      "cell_type": "markdown",
      "source": [
        "19. Ler 2 valores (considere que não serão lidos valores iguais) e escrever o maior deles."
      ],
      "metadata": {
        "id": "UmUdjw3T4rnD"
      }
    },
    {
      "cell_type": "code",
      "source": [
        "valor1 = float(input('Informe o primeiro valor: '))\n",
        "valor2 = float(input('Informe o segundo valor: '))\n",
        "\n",
        "if valor1 > valor2:\n",
        "  print(f'{valor1} é o maior valor!')\n",
        "\n",
        "elif valor2 > valor1:\n",
        "  print(f'{valor2} é o maior valor!')\n",
        "\n",
        "else:\n",
        "  print('Valores iguais não são considerados!')"
      ],
      "metadata": {
        "colab": {
          "base_uri": "https://localhost:8080/"
        },
        "id": "_g4wuPhf4rLK",
        "outputId": "fb859600-e122-4750-f091-dd2fbcccda5c"
      },
      "execution_count": null,
      "outputs": [
        {
          "output_type": "stream",
          "name": "stdout",
          "text": [
            "Informe o primeiro valor: 0\n",
            "Informe o segundo valor: 0\n",
            "Não valores iguais não são considerados!\n"
          ]
        }
      ]
    },
    {
      "cell_type": "markdown",
      "source": [
        "20. Ler 2 valores (considere que não serão lidos valores iguais) e escrevê-los em ordem\n",
        "crescente."
      ],
      "metadata": {
        "id": "yBfJ2XlM5ljZ"
      }
    },
    {
      "cell_type": "code",
      "source": [
        "valor1 = float(input('Informe o primeiro valor: '))\n",
        "valor2 = float(input('Informe o segundo valor: '))\n",
        "\n",
        "if valor1 > valor2:\n",
        "  print(f'{valor1} ; {valor2}')\n",
        "\n",
        "else:\n",
        "   print(f'{valor2} ; {valor1}')"
      ],
      "metadata": {
        "colab": {
          "base_uri": "https://localhost:8080/"
        },
        "id": "ARjHf20B5l-_",
        "outputId": "be22984a-79fb-4961-b8f4-81e0e9d33527"
      },
      "execution_count": null,
      "outputs": [
        {
          "output_type": "stream",
          "name": "stdout",
          "text": [
            "Informe o primeiro valor: 12\n",
            "Informe o segundo valor: 2\n",
            "12.0 ; 2.0\n"
          ]
        }
      ]
    },
    {
      "cell_type": "markdown",
      "source": [
        "21. Ler 3 valores (considere que não serão informados valores iguais) e escrever o maior\n",
        "deles."
      ],
      "metadata": {
        "id": "QFiCsEnV6PIf"
      }
    },
    {
      "cell_type": "code",
      "source": [
        "valor1 = float(input('Informe o primeiro valor: '))\n",
        "valor2 = float(input('Informe o segundo valor: '))\n",
        "valor3 = float(input('Informe o terceiro valor: '))\n",
        "\n",
        "maior = max(valor1, valor2, valor3)\n",
        "\n",
        "if valor1 == valor2 == valor3:\n",
        "  print('Valores iguais não são considerados!')\n",
        "\n",
        "else:\n",
        "  print(f'O maior valor é: {maior}')"
      ],
      "metadata": {
        "colab": {
          "base_uri": "https://localhost:8080/"
        },
        "id": "ovBQzPjX6PxV",
        "outputId": "0dbc234f-e93a-45c4-cf9f-58b22a1b8ace"
      },
      "execution_count": null,
      "outputs": [
        {
          "output_type": "stream",
          "name": "stdout",
          "text": [
            "Informe o primeiro valor: 0\n",
            "Informe o segundo valor: 0\n",
            "Informe o terceiro valor: 0\n",
            "Valores iguais não são considerados!\n"
          ]
        }
      ]
    },
    {
      "cell_type": "markdown",
      "source": [
        "22. Ler 3 valores (considere que não serão informados valores iguais) e escrever a soma\n",
        "dos 2 maiores."
      ],
      "metadata": {
        "id": "p9e-iyeY7WRK"
      }
    },
    {
      "cell_type": "code",
      "source": [
        "valor1 = float(input('Informe o primeiro valor: '))\n",
        "valor2 = float(input('Informe o segundo valor: '))\n",
        "valor3 = float(input('Informe o terceiro valor: '))\n",
        "\n",
        "if valor1 == valor2 == valor3:\n",
        "  print('Valores iguais não são considerados!')\n",
        "else:\n",
        "  maior = max(valor1, valor2, valor3)\n",
        "  \n",
        "  if valor1 == maior:\n",
        "    segundo_maior = max(valor2, valor3)\n",
        "  elif valor2 == maior:\n",
        "    segundo_maior = max(valor1, valor3)\n",
        "  else:\n",
        "    segundo_maior = max(valor1, valor2)\n",
        "\n",
        "  print(f'A soma dos dois maiores valores é: {maior + segundo_maior}')"
      ],
      "metadata": {
        "id": "psXa4vjHNOSy"
      },
      "execution_count": null,
      "outputs": []
    },
    {
      "cell_type": "markdown",
      "source": [
        "23. Ler 3 valores (considere que não serão informados valores iguais) e escrevê-los em\n",
        "ordem crescente."
      ],
      "metadata": {
        "id": "nedr088HPXTa"
      }
    },
    {
      "cell_type": "code",
      "source": [
        "valor1 = float(input('Informe o primeiro valor: '))\n",
        "valor2 = float(input('Informe o segundo valor: '))\n",
        "valor3 = float(input('Informe o terceiro valor: '))\n",
        "\n",
        "menor = min(valor1, valor2, valor3)\n",
        "\n",
        "maior = max(valor1, valor2, valor3)\n",
        "\n",
        "meio = valor1 + valor2 + valor3 - menor - maior\n",
        "\n",
        "print(f'{menor} ; {meio} ; {maior}')"
      ],
      "metadata": {
        "colab": {
          "base_uri": "https://localhost:8080/"
        },
        "id": "nFUvX195PZ68",
        "outputId": "9592a105-ac90-40bc-9f84-360cd596bf43"
      },
      "execution_count": null,
      "outputs": [
        {
          "output_type": "stream",
          "name": "stdout",
          "text": [
            "Informe o primeiro valor: 3\n",
            "Informe o segundo valor: 2\n",
            "Informe o terceiro valor: 1\n",
            "1.0 ; 2.0 ; 3.0\n"
          ]
        }
      ]
    },
    {
      "cell_type": "markdown",
      "source": [
        "24.Faça um algoritmo que leia as duas notas parciais obtidas por um aluno numa\n",
        "disciplina ao longo de um semestre, e calcule a sua média. A atribuição de conceitos\n",
        "obedece à tabela abaixo:\n",
        "\n",
        "Média de\n",
        "Aproveitamento Conceito\n",
        "\n",
        "Entre 9.0 e 10.0 A\n",
        "\n",
        "Entre 7.5 e 9.0 B\n",
        "\n",
        "\n",
        "Entre 6.0 e 7.5 C\n",
        "\n",
        "Entre 4.0 e 6.0 D\n",
        "\n",
        "Entre 4.0 e zero E\n",
        "\n",
        "O algoritmo deve mostrar na tela as notas, a média, o conceito correspondente e a\n",
        "mensagem “APROVADO” se o conceito for A, B ou C ou “REPROVADO” se o conceito for D\n",
        "ou E."
      ],
      "metadata": {
        "id": "Vkl5E7ssRByr"
      }
    },
    {
      "cell_type": "code",
      "source": [
        "nota1 = float(input('Digite a primeira nota: '))\n",
        "nota2 = float(input('Digite a segunda nota: '))\n",
        "\n",
        "media = (nota1 + nota2) / 2\n",
        "\n",
        "if media >= 9.0:\n",
        "  conceito = 'A'\n",
        "\n",
        "elif media >= 7.5:\n",
        "  conceito = 'B'\n",
        "  \n",
        "elif media >= 6.0:\n",
        "  conceito = 'C'\n",
        "\n",
        "elif media >= 4.0:\n",
        "  conceito = 'D'\n",
        "\n",
        "else:\n",
        "  conceito = 'E'\n",
        "\n",
        "print(f'Notas: {nota1} e {nota2}')\n",
        "print(f'Média: {media}')\n",
        "print(f'Conceito: {conceito}')\n",
        "\n",
        "if conceito in ['A', 'B', 'C']:\n",
        "  print('Aprovado!')\n",
        "\n",
        "else: \n",
        "  print('Reprovado!')"
      ],
      "metadata": {
        "colab": {
          "base_uri": "https://localhost:8080/"
        },
        "id": "uB9WNL03RFu2",
        "outputId": "e5989820-8d91-45db-b8b4-ba5a8dd124d1"
      },
      "execution_count": null,
      "outputs": [
        {
          "output_type": "stream",
          "name": "stdout",
          "text": [
            "Digite a primeira nota: 7.0\n",
            "Digite a segunda nota: 8.2\n",
            "Notas: 7.0 e 8.2\n",
            "Média: 7.6\n",
            "Conceito: B\n",
            "Aprovado!\n"
          ]
        }
      ]
    },
    {
      "cell_type": "markdown",
      "source": [
        "25. Escrever um algoritmo para ler dois valores e uma das seguintes operações a serem\n",
        "executadas (codificadas da seguinte forma: 1 – Adição, 2 – Subtração, 3 – Multiplicação\n",
        "e 4 – Divisão). Calcular e escrever o resultado dessa operação sobre os dois valores\n",
        "lidos."
      ],
      "metadata": {
        "id": "1uy8gSt393x2"
      }
    },
    {
      "cell_type": "code",
      "source": [
        "valor1 = float(input('Informe o primeiro valor: '))\n",
        "valor2 = float(input('Informe o segundo valor: '))\n",
        "operacao = int(input('Informe a operação a ser realizada (forma: 1 – Adição, 2 – Subtração, 3 – Multiplicação e 4 – Divisão): '))\n",
        "\n",
        "if operacao == 1:\n",
        "  print(valor1 + valor2)\n",
        "\n",
        "elif operacao == 2:\n",
        "  print(valor1 - valor2)\n",
        "\n",
        "elif operacao == 3:\n",
        "  print(valor1 * valor2)\n",
        "\n",
        "else:\n",
        "  print(valor1 / valor2)"
      ],
      "metadata": {
        "colab": {
          "base_uri": "https://localhost:8080/"
        },
        "id": "U2YZyYZ0-Abh",
        "outputId": "87ca35f8-b738-419d-c2ad-e1451b2d5dfb"
      },
      "execution_count": 3,
      "outputs": [
        {
          "output_type": "stream",
          "name": "stdout",
          "text": [
            "Informe o primeiro valor: 23\n",
            "Informe o segundo valor: 2\n",
            "Informe a operação a ser realizada (forma: 1 – Adição, 2 – Subtração, 3 – Multiplicação e 4 – Divisão): 4\n",
            "11.5\n"
          ]
        }
      ]
    },
    {
      "cell_type": "markdown",
      "source": [
        "26. Faça um algoritmo para calcular as raízes reais de uma equação quadrática: ax2 + bx +\n",
        "c = 0. Uma equação quadrática só tem raiz reais se (b2 - 4ac) for maior ou igual a\n",
        "zero. O algoritmo deverá informar as seguintes situações:\n",
        "• Se o delta calculado for negativo, a equação não possui raízes reais. Informe ao\n",
        "usuário e encerre o programa;\n",
        "• Se o delta calculado for igual a zero a equação possui apenas uma raiz real,\n",
        "informe-a ao usuário;\n",
        "• Se o delta for positivo, a equação possui duas raiz reais, informe-as ao usuário."
      ],
      "metadata": {
        "id": "BCT7huLH_kS-"
      }
    },
    {
      "cell_type": "code",
      "source": [
        "import math\n",
        "\n",
        "a = float(input('Digite o valor de a:'))\n",
        "b = float(input('Digite o valor de b:'))\n",
        "c = float(input('Digite o valor de c:'))\n",
        "\n",
        "delta = b**2 - 4*a*c\n",
        "\n",
        "if delta < 0:\n",
        "  print('A equação não possui raízes')\n",
        "\n",
        "elif delta == 0:\n",
        "  raiz =(-b + math.sqrt(delta)) / (2*a)\n",
        "  print(f'A raiz da equação possui uma raiz real: {raiz}')\n",
        "\n",
        "else:\n",
        "  raiz1 = (-b + math.sqrt(delta)) / (2*a) \n",
        "  raiz2 = (-b - math.sqrt(delta)) / (2*a) \n",
        "  print(f'A equação possui duas raízes reais: {raiz1} e {raiz2}')"
      ],
      "metadata": {
        "id": "9tmdF7Hv_nVj"
      },
      "execution_count": null,
      "outputs": []
    },
    {
      "cell_type": "markdown",
      "source": [
        "27. Faça um algoritmo que leia 3 valores a, b, c, e verifique se podem ser os\n",
        "comprimentos dos lados de um triângulo. Em caso afirmativo, verifique se é “triângulo\n",
        "equilátero”, “triângulo isósceles” ou “triângulo escaleno”. Em caso negativo, escreva\n",
        "uma mensagem: “os valores lidos não formam um triângulo”. Considere que:\n",
        "• o comprimento de cada lado de um triângulo é menor que a soma dos\n",
        "comprimentos dos outros lados\n",
        "• um triângulo equilátero tem três lados iguais\n",
        "• um triângulo isósceles tem dois lados iguais e um diferente"
      ],
      "metadata": {
        "id": "ZRvTSqXcBebF"
      }
    },
    {
      "cell_type": "code",
      "source": [
        "a = float(input('Digite o valor de a: '))\n",
        "b = float(input('Digite o valor de b:'))\n",
        "c = float(input('Digite o valor de c: '))\n",
        "\n",
        "if a == b == c:\n",
        "  print('Equilátero')\n",
        "\n",
        "elif a == b or a == c or b == c:\n",
        "  print('Isósceles')\n",
        "\n",
        "else:\n",
        "  print('Escaleno')"
      ],
      "metadata": {
        "colab": {
          "base_uri": "https://localhost:8080/"
        },
        "id": "U2j8yZZ8Bnpj",
        "outputId": "ebb9e557-ead6-4012-dccf-491c25dee0c7"
      },
      "execution_count": 4,
      "outputs": [
        {
          "output_type": "stream",
          "name": "stdout",
          "text": [
            "Digite o valor de a:12\n",
            "Digite o valor de b:12\n",
            "Digite o valor de c:23\n",
            "Isósceles\n"
          ]
        }
      ]
    },
    {
      "cell_type": "markdown",
      "source": [
        "28. Escreva um algoritmo que leia 4 valores (opção, a, b, c), onde opção é um valor\n",
        "inteiro e positivo e a, b, c são quaisquer valores reais. Escreva os valores lidos da\n",
        "seguinte maneira:\n",
        "se opção = 1 Þ escreva os 3 valores a, b, c em ordem crescente\n",
        "se opção = 2 Þ escreva os 3 valores a, b, c em ordem decrescente\n",
        "se opção = 3 Þ escreva os 3 valores de forma que o maior valor entre a, b, c fica\n",
        "entre os outros 2."
      ],
      "metadata": {
        "id": "HspqDUE3C17d"
      }
    },
    {
      "cell_type": "code",
      "source": [
        "def ordena_valores(a, b, c, opcao):\n",
        "  valores = [a, b, c]\n",
        "  if opcao == 1:\n",
        "    valores.sort()\n",
        "  elif opcao == 2:\n",
        "    valores.sort(reverse=True)\n",
        "  elif opcao == 3:\n",
        "    maior = max(valores)\n",
        "    valores.remove(maior)\n",
        "    valores.insert(1, maior)\n",
        "  return valores\n",
        "\n",
        "opcao = int(input('Digite a opção 1 para ordem crescente, 2 para ordem descrecente ou 3 para o maior valor no meio:  '))\n",
        "a = float(input('Digite o valor de a: '))\n",
        "b = float(input('Digite o valor de b: '))\n",
        "c = float(input('Digite o valor de c: '))\n",
        "\n",
        "valores_ordenados = ordena_valores(a, b, c, opcao)\n",
        "print(valores_ordenados)"
      ],
      "metadata": {
        "colab": {
          "base_uri": "https://localhost:8080/"
        },
        "id": "5oxEklKRC2dx",
        "outputId": "02319a0a-f831-447c-9f0b-69db5d1f2078"
      },
      "execution_count": 7,
      "outputs": [
        {
          "output_type": "stream",
          "name": "stdout",
          "text": [
            "Digite a opção 1 para ordem crescente, 2 para ordem descrecente ou 3 para o maior valor no meio:  1\n",
            "Digite o valor de a: 23\n",
            "Digite o valor de b: 23\n",
            "Digite o valor de c: 90\n",
            "[23.0, 23.0, 90.0]\n"
          ]
        }
      ]
    },
    {
      "cell_type": "markdown",
      "source": [
        "29.Uma empresa decidiu conceder um aumento de salário a seus funcionários de acordo\n",
        "com a tabela:\n",
        "\n",
        "em R$ Índice de\n",
        "Aumento\n",
        "\n",
        "salário £ 400.00 15%\n",
        "\n",
        "400.00 < salário £ 700.00 12%\n",
        "\n",
        "700.00 < salário £ 1000.00 10%\n",
        "\n",
        "1000.00 < salário £ 1500.00 7%\n",
        "\n",
        "1500.00 < salário £ 2000.00 4%\n",
        "\n",
        "salário > 2000.00 sem aumento\n",
        "\n",
        "Faça um algoritmo que leia o salário atual de um funcionário e escreva o índice de\n",
        "aumento e o valor do salário corrigido."
      ],
      "metadata": {
        "id": "h4C1tXYUIqdI"
      }
    },
    {
      "cell_type": "code",
      "source": [
        "salario_atual = float(input('Digite o salário atual: '))\n",
        "\n",
        "if salario_atual < 400:\n",
        "  indice = 0.15\n",
        "elif salario_atual < 700:\n",
        "  indice = 0.12\n",
        "elif salario_atual < 1000:\n",
        "  indice = 0.10\n",
        "elif salario_atual < 1500:\n",
        "  indice = 0.7\n",
        "elif salario_atual < 2000:\n",
        "  indice = 0.4\n",
        "else:\n",
        "  indice = 0\n",
        "\n",
        "if indice > 0:\n",
        "  aumento = salario_atual * indice\n",
        "  novo_salario = salario_atual + aumento\n",
        "  print(\"O índice de aumento é de {:.0%}\".format(indice))\n",
        "  print(\"O valor do aumento é de R$ {:.2f}\".format(aumento))\n",
        "  print(\"O novo salário é de R$ {:.2f}\".format(novo_salario))\n",
        "else:\n",
        "  print(\"Não há aumento para este salário.\")"
      ],
      "metadata": {
        "colab": {
          "base_uri": "https://localhost:8080/"
        },
        "id": "UslGXS_vIvnV",
        "outputId": "8c71c6de-ca89-4290-9355-4dd87cdadd91"
      },
      "execution_count": 9,
      "outputs": [
        {
          "output_type": "stream",
          "name": "stdout",
          "text": [
            "Digite o salário atual: 1200\n",
            "O índice de aumento é de 70%\n",
            "O valor do aumento é de R$ 840.00\n",
            "O novo salário é de R$ 2040.00\n"
          ]
        }
      ]
    },
    {
      "cell_type": "markdown",
      "source": [
        "30.Faça um algoritmo para calcular o reajuste salarial de um funcionário, de acordo com\n",
        "os critérios abaixo:\n",
        "\n",
        "*  se salário é inferior a 10.000,00 deve ter um reajuste de 55%\n",
        "*   se salário está entre 10.000,00 (inclusive) e 25.000,00 (inclusive) deve ter\n",
        "um reajuste de 20%\n",
        "\n",
        "* se salário é superior a 25.000,00 deve ter um reajuste de 20%."
      ],
      "metadata": {
        "id": "kypF8apKMFBN"
      }
    },
    {
      "cell_type": "code",
      "source": [
        "salario = float(input('Digite o salário: '))\n",
        "\n",
        "if salario < 10000:\n",
        "  indice = 0.55\n",
        "\n",
        "elif salario == 10000 and 25000:\n",
        "  indice = 0.20\n",
        "\n",
        "elif salario > 25000:\n",
        "  indice = 0.20\n",
        "\n",
        "reajuste = salario * (1 + indice)\n",
        "print(f'O novo salário é de: R$ {reajuste:.2f}')"
      ],
      "metadata": {
        "colab": {
          "base_uri": "https://localhost:8080/"
        },
        "id": "U8vEWInLMGrc",
        "outputId": "37274809-321c-4b2c-8923-bdc2cc2c1151"
      },
      "execution_count": 17,
      "outputs": [
        {
          "output_type": "stream",
          "name": "stdout",
          "text": [
            "Digite o salário: 10000\n",
            "O novo salário é de: R$ 12000.00\n"
          ]
        }
      ]
    },
    {
      "cell_type": "markdown",
      "source": [
        "31.Faça um algoritmo para controle de temperatura de um forno que derrete alumínio. O\n",
        "programa deverá perguntar qual a temperatura que o alumínio deverá ser trabalhado e\n",
        "operar nas seguintes condições:\n",
        "\n",
        "* Se temperatura for inferior ou igual 500°C enviar uma mensagem para tela\n",
        "\"Temperatura Inválida\";\n",
        "\n",
        "* Se temperatura for menor do que 700°C enviar uma mensagem para tela\n",
        "\"Aquecimento Ligado em 100%\";\n",
        "\n",
        "* Se temperatura for menor do que 735°C enviar uma mensagem para tela\n",
        "\"Aquecimento Ligado em 50%\";\n",
        "\n",
        "* Se temperatura for maior ou igual 735°C enviar uma mensagem para tela\n",
        "\"Aquecimento Desligado\";\n",
        "\n",
        "* Se temperatura for maior do que 780°C enviar uma mensagem para tela\n",
        "\"Superaquecimento\";\n",
        "\n",
        "Os valores digitados devem ser inteiros e inferiores a 1000."
      ],
      "metadata": {
        "id": "cKldsO3kOIVC"
      }
    },
    {
      "cell_type": "code",
      "source": [
        "temperatura = int(input('Informe a temperatura ao qual o alumínio será trabalhado: '))\n",
        "\n",
        "if temperatura < 0 or temperatura >= 1000:\n",
        "  print('Os valores digitados devem ser inteiros e inferiores a 1000!')\n",
        "elif temperatura <= 500:\n",
        "  print('Temperatura Inválida')\n",
        "elif temperatura < 700:\n",
        "  print('Aquecimento Ligado em 100%')\n",
        "elif temperatura < 735:\n",
        "  print('Aquecimento Ligado em 50%')\n",
        "elif temperatura > 735:\n",
        "  print('Aquecimento Ligado em 50%')\n",
        "else: \n",
        "  print('Superaquecimento')"
      ],
      "metadata": {
        "colab": {
          "base_uri": "https://localhost:8080/"
        },
        "id": "_LSRm36eOprU",
        "outputId": "314d82a6-eb5d-4935-97f0-74943025f7d2"
      },
      "execution_count": 20,
      "outputs": [
        {
          "output_type": "stream",
          "name": "stdout",
          "text": [
            "Informe a temperatura ao qual o alumínio será trabalhado: 1111\n",
            "Os valores digitados devem ser inteiros e inferiores a 1000!\n"
          ]
        }
      ]
    },
    {
      "cell_type": "markdown",
      "source": [
        "32. Faça um algoritmo que permita a entrada de um valor de 1 a 4. Em seguida, leia dois\n",
        "valores. Calcular e imprimir:\n",
        "\n",
        "* Se valor digitado for 0, calcular e exibir a soma dos números\n",
        "\n",
        "* Se valor digitado for 1, calcular e exibir a subtração dos números\n",
        "\n",
        "* Se valor digitado for 2, calcular e exibir a multiplicação dos números\n",
        "\n",
        "* Se valor digitado for 3, calcular e exibir a divisão dos números\n",
        "\n",
        "* Se valor digitado for 4, calcular e exibir a média dos números\n",
        "\n",
        "* Diferente de 1,2,3 ou 4, exibir a mensagem “Valor errado. Programa encerrado sem\n",
        "cálculos”"
      ],
      "metadata": {
        "id": "vRzci9iVQUB8"
      }
    },
    {
      "cell_type": "code",
      "source": [
        "valor = int(input('Digite um valor de 1 a 4: '))\n",
        "\n",
        "if valor >= 0 and valor <= 4:\n",
        "  num1 = float(input('Digite o primeiro número: '))\n",
        "  num2 = float(input('Digite o segundo número: '))\n",
        "\n",
        "  if valor == 0:\n",
        "    resultado = num1 + num2\n",
        "    print(f'Soma: {resultado}')\n",
        "  elif valor == 1:\n",
        "    resultado = num1 - num2\n",
        "    print(f'Subtraçao: {resultado}')\n",
        "  elif valor == 2:\n",
        "    resultado = num1 * num2\n",
        "    print(f'Multiplicação: {resultado}')\n",
        "  elif valor == 3:\n",
        "    resultado = num1 / num2\n",
        "    print(f'Divisão: {resultado}')\n",
        "  elif valor == 4:\n",
        "    resultado = (num1 + num2) / 2\n",
        "    print(f'Média: {resultado}')\n",
        "  else:\n",
        "    print('Valor errado! Programa encerrado sem cálculos.')"
      ],
      "metadata": {
        "colab": {
          "base_uri": "https://localhost:8080/"
        },
        "id": "glnKwfuoQeHn",
        "outputId": "d8fc0b3a-b13d-4cf1-bebc-f3b61814a024"
      },
      "execution_count": 31,
      "outputs": [
        {
          "output_type": "stream",
          "name": "stdout",
          "text": [
            "Digite um valor de 1 a 4: 2\n",
            "Digite o primeiro número: 2\n",
            "Digite o segundo número: 2\n",
            "Multiplicação: 4.0\n"
          ]
        }
      ]
    },
    {
      "cell_type": "markdown",
      "source": [
        "33. Escrever um algoritmo que leia valores inteiros em duas variáveis distintas e se o resto\n",
        "da divisão da primeira pela segunda for 1 mostre a soma dessas variáveis mais o resto\n",
        "da divisão; se for 2 escreva se o primeiro e o segundo valor são pares ou ímpares; se\n",
        "for igual a 3 multiplique a soma dos valores lidos pelo primeiro; se for igual a 4 divida\n",
        "a soma dos números lidos pelo segundo, se este for diferente de zero. Em qualquer\n",
        "outra situação mostre o quadrado dos números lidos."
      ],
      "metadata": {
        "id": "JhNkWdc-aDIL"
      }
    },
    {
      "cell_type": "code",
      "source": [
        "num1 = int(input('Digite o primeiro valor: '))\n",
        "num2 = int(input('Digite o segundo valor: '))\n",
        "\n",
        "resto = num1 % num2\n",
        "\n",
        "if resto == 1:\n",
        "  resultado = num1 + num2\n",
        "  print(f'A soma dos números e o resto da divisão é: {resultado}')\n",
        "\n",
        "elif resto == 2:\n",
        "  if num1 % 2 == 0 and num2 % 2 == 0:\n",
        "    print('Ambos são pares!')\n",
        "  elif num1 % 2 == 1 and num2 % 2 == 1:\n",
        "    print('Ambos são ímpares1')\n",
        "  else:\n",
        "    print('Um é par e o outro é ímpar!')\n",
        "\n",
        "elif resto == 3:\n",
        "   resultado = (num1 + num2) * num1\n",
        "   print(f'A multiplicação da soma pelo primeiro número é: {resultado}')\n",
        "  \n",
        "elif resto == 4:\n",
        "  if num2 == 0:\n",
        "    print('Não é possível dividir por zero.')\n",
        "  else:\n",
        "   resultado = (num1 + num2) / num2\n",
        "   print(f'A divisão da soma pelo segundo número é: {resultado}')\n",
        "else:\n",
        "  print(f'O quadrado do primeiro número é: {num1**2}')\n",
        "  print(f'O quadrado do segundo número é: {num2**2}')"
      ],
      "metadata": {
        "id": "bawGNenDaEBA"
      },
      "execution_count": null,
      "outputs": []
    },
    {
      "cell_type": "markdown",
      "source": [
        "34. Escreva um algoritmo que leia as idades de 2 homens e 2 mulheres (considere que as\n",
        "idades dos homens serão sempre diferentes, bem como as das mulheres). Calcule e\n",
        "escreva a soma das idades do homem mais velho com a mulher mais nova, e o\n",
        "produto das idades do homem mais novo com a mulher mais velha."
      ],
      "metadata": {
        "id": "yP6g-DGyegQ6"
      }
    },
    {
      "cell_type": "code",
      "source": [
        "homem1 = int(input('Digite a idade do primeiro homem: '))\n",
        "homem2 = int(input('Digite a idade do segundo homem: '))\n",
        "mulher1 = int(input('Digite a idade da primeira mulher: '))\n",
        "mulher2 = int(input('Digite a idade da segunda mulher: '))\n",
        "\n",
        "if homem1 > homem2:\n",
        "    idade_homem_mais_velho = homem1\n",
        "else:\n",
        "    idade_homem_mais_velho = homem2\n",
        "\n",
        "if homem1 < homem2:\n",
        "    idade_homem_mais_novo = homem1\n",
        "else:\n",
        "    idade_homem_mais_novo = homem2\n",
        "\n",
        "if mulher1 > mulher2:\n",
        "    idade_mulher_mais_velha = mulher1\n",
        "else:\n",
        "    idade_mulher_mais_velha = mulher2\n",
        "\n",
        "if mulher1 < mulher2:\n",
        "    idade_mulher_mais_nova = mulher1\n",
        "else:\n",
        "    idade_mulher_mais_nova = mulher2\n",
        "\n",
        "soma_idades = idade_homem_mais_velho + idade_mulher_mais_nova\n",
        "produto_idades = idade_homem_mais_novo * idade_mulher_mais_velha\n",
        "\n",
        "print(\"A soma das idades do homem mais velho com a mulher mais nova é:\", soma_idades)\n",
        "print(\"O produto das idades do homem mais novo com a mulher mais velha é:\", produto_idades)"
      ],
      "metadata": {
        "colab": {
          "base_uri": "https://localhost:8080/"
        },
        "id": "wRLN1UmCej8j",
        "outputId": "25701309-4903-4a05-a6d8-1eb782ff1f51"
      },
      "execution_count": 39,
      "outputs": [
        {
          "output_type": "stream",
          "name": "stdout",
          "text": [
            "Digite a idade do primeiro homem: 12\n",
            "Digite a idade do segundo homem: 11\n",
            "Digite a idade da primeira mulher: 12\n",
            "Digite a idade da segunda mulher: 11\n",
            "A soma das idades do homem mais velho com a mulher mais nova é: 23\n",
            "O produto das idades do homem mais novo com a mulher mais velha é: 132\n"
          ]
        }
      ]
    },
    {
      "cell_type": "markdown",
      "source": [
        "35.Existem números de 4 dígitos (entre 1000 e 9999) que obedecem à seguinte\n",
        "característica: se dividirmos o número em dois números de dois dígitos, um composto\n",
        "pela dezena e pela unidade, e outro pelo milhar e pela centena, e, ao somarmos estes\n",
        "dois novos números gerando um terceiro, o quadrado deste terceiro número é\n",
        "exatamente o número original de quatro dígitos. Por exemplo:\n",
        "2025 -> dividindo: 20 e 25 -> somando temos 45 -> 452 = 2025.\n",
        "Escreva um programa para ler um número e verificar se ele obedece a esta\n",
        "característica."
      ],
      "metadata": {
        "id": "TyQAqSrbhGDO"
      }
    },
    {
      "cell_type": "code",
      "source": [
        "num = int(input('Digite um número de 4 dígitos: '))\n",
        "\n",
        "parte1 = num //100\n",
        "parte2 = num % 100\n",
        "\n",
        "soma = parte1 + parte2\n",
        "\n",
        "if soma**2 == num:\n",
        "  print(f'O número {num} obedece a característica especificada')\n",
        "else:\n",
        "   print(f'O número {num} não obedece a característica especificada')"
      ],
      "metadata": {
        "id": "ZOESIKKbhJeh"
      },
      "execution_count": null,
      "outputs": []
    }
  ]
}