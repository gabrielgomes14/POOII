{
  "nbformat": 4,
  "nbformat_minor": 0,
  "metadata": {
    "colab": {
      "provenance": [],
      "authorship_tag": "ABX9TyNcdXE6wA4nuEwY0cMgsEbH"
    },
    "kernelspec": {
      "name": "python3",
      "display_name": "Python 3"
    },
    "language_info": {
      "name": "python"
    }
  },
  "cells": [
    {
      "cell_type": "markdown",
      "source": [
        "1.Faça uma função para converter uma temperatura em graus Fahrenheit para\n",
        "Celsius. A temperatura em Fahrenheit é o dado de entrada e a temperatura em\n",
        "Celsius é o dado de saída. Utilize a fórmula C = (F - 32) * 5/9, onde F é a\n",
        "temperatura em Fahrenheit e C é a temperatura em Celsius."
      ],
      "metadata": {
        "id": "SZS3YrIppy3s"
      }
    },
    {
      "cell_type": "code",
      "execution_count": 1,
      "metadata": {
        "colab": {
          "base_uri": "https://localhost:8080/"
        },
        "id": "I1F6LSm3oi6G",
        "outputId": "a734d539-02ea-47af-f48d-061f7805dda8"
      },
      "outputs": [
        {
          "output_type": "stream",
          "name": "stdout",
          "text": [
            "Digite a temperatura em Fahrenheit: 10\n",
            "A temperatura é: 10°F | -12°C\n"
          ]
        }
      ],
      "source": [
        "fahrenheit = float(input('Digite a temperatura em Fahrenheit: '))\n",
        "celsius = 0\n",
        "\n",
        "def fahrenheitToCelsius(fahrenheit):\n",
        "  celsius = (fahrenheit - 32) * (5/9)\n",
        "  return celsius\n",
        "\n",
        "print(f'A temperatura é: {fahrenheit:.0f}°F | {fahrenheitToCelsius(fahrenheit):.0f}°C')\n"
      ]
    },
    {
      "cell_type": "markdown",
      "source": [
        "2. Faça uma função que calcule a hipotenusa. Os catetos são os dados de entrada e a hipotenusa é o dado de saída. hipotenusa = (catetoA² + catetoB²)**(1/2)"
      ],
      "metadata": {
        "id": "reDdO0VGp6-L"
      }
    },
    {
      "cell_type": "code",
      "source": [
        "cateto1 = float(input('Digite o valor do primeiro cateto: '))\n",
        "cateto2 = float(input('Digite o valor do segundo cateto: '))\n",
        "\n",
        "def pitagoras(cateto1, cateto2):\n",
        "  hipotenusa = ((cateto1**2)+(cateto2**2))**(1/2)\n",
        "  return hipotenusa\n",
        "\n",
        "print(f'Catetos: {cateto1} e {cateto2} | Hipotenusa: {pitagoras(cateto1, cateto2):.2f}')"
      ],
      "metadata": {
        "id": "aq1CzbXhqFwh"
      },
      "execution_count": null,
      "outputs": []
    },
    {
      "cell_type": "markdown",
      "source": [
        "3. Escreva um programa para ler as notas das duas avaliações de um aluno no\n",
        "semestre. Faça uma função que receba as duas notas por parâmetro e calcule e\n",
        "escreva a média semestral e a mensagem “PARABÉNS! Você foi aprovado!”\n",
        "somente se o aluno foi aprovado (considere 6.0 a média mínima para aprovação)."
      ],
      "metadata": {
        "id": "Vex_gPugqJ0d"
      }
    },
    {
      "cell_type": "code",
      "source": [
        "notas = [float(input('Informe a primeira nota: ')), float(input('Informe a segunda nota: '))]\n",
        "media = 0\n",
        "\n",
        "def calcularMedia(notas):\n",
        "  media = sum(notas)/len(notas)\n",
        "  return media\n",
        "\n",
        "print(f'A média das duas notas do aluno é: {calcularMedia(notas)}')"
      ],
      "metadata": {
        "id": "SjkjPWNEqMc8"
      },
      "execution_count": null,
      "outputs": []
    },
    {
      "cell_type": "markdown",
      "source": [
        "4.Faça um programa que leia a altura e o sexo (codificado da seguinte forma:\n",
        "1-feminino 2-masculino) de uma pessoa. Depois faça uma função chamada\n",
        "pesoideal que receba a altura e o sexo via parâmetro e que calcule e retorne seu\n",
        "peso ideal, utilizando as seguintes fórmulas:\n",
        "\n",
        "• para homens: (72.7 * h) – 58\n",
        "\n",
        "• para mulheres: (62.1 * h) – 44.7\n",
        "Observação: Altura = h (na fórmula acima)."
      ],
      "metadata": {
        "id": "VZFfQLr_qO_x"
      }
    },
    {
      "cell_type": "code",
      "source": [
        "sexo = int(input('Informe o genero da pessoa (1 - feminino | 2 - masculino): '))\n",
        "altura = float(input('Informe a altura da pessoa (metros): '))\n",
        "peso = 0\n",
        "\n",
        "def pesoIdeal(sexo, altura):\n",
        "  if sexo == 1:\n",
        "    peso = (62.1 * altura) - 44.7\n",
        "    return peso\n",
        "  elif sexo == 2:\n",
        "    peso = (72.7 * altura) - 58\n",
        "    return peso\n",
        "  else: print('erro!')\n",
        "\n",
        "print(pesoIdeal(sexo, altura))"
      ],
      "metadata": {
        "id": "LvW9jqHjqa1_"
      },
      "execution_count": null,
      "outputs": []
    },
    {
      "cell_type": "markdown",
      "source": [
        "5.Escreva um programa para ler o número de lados de um polígono regular e a\n",
        "medida do lado (em cm). Faça uma função que receba como parâmetro o número\n",
        "de lados e a medida do lado deste polígono e calcule e imprima o seguinte:\n",
        "\n",
        "• Se o número de lados for igual a 3, escrever TRIÂNGULO e o valor do seu\n",
        "perímetro.\n",
        "\n",
        "• Se o número de lados for igual a 4, escrever QUADRADO e o valor da sua área.\n",
        "\n",
        "• Se o número de lados for igual a 5, escrever PENTÁGONO.\n",
        "Observação: Considere que o usuário só informará os valores 3, 4 ou 5."
      ],
      "metadata": {
        "id": "a0Bib-yWqgVL"
      }
    },
    {
      "cell_type": "code",
      "source": [
        "qtdlados = int(input('Informe a quantidade de lados do seu polígo regular (3, 4 ou 5): '))\n",
        "medidaLados = int(input('Informe a medida dos lados do poligono regular (metros): '))\n",
        "\n",
        "def definirPoligo(qtdLados, medidaLados):\n",
        "  if qtdLados == 3:\n",
        "    return f'TRIÂNGULO | Perímetro: {medidaLados * qtdLados}'\n",
        "  elif qtdLados == 4:\n",
        "    return f'QUADRADO | Área = {medidaLados * medidaLados}'\n",
        "  elif qtdLados == 5:\n",
        "    return f'PENTÁGONO'\n",
        "  else: return f'erro'\n",
        "\n",
        "print(f'{definirPoligo(qtdlados, medidaLados)}')"
      ],
      "metadata": {
        "id": "AH6dcFySqfrR"
      },
      "execution_count": null,
      "outputs": []
    },
    {
      "cell_type": "markdown",
      "source": [
        "6.Escreva uma função que recebe 2 números inteiros n1 e n2 como entrada e\n",
        "retorna a soma de todos os números inteiros contidos no intervalo [n1,n2]. Use\n",
        "esta função em um programa que lê n1 e n2 do usuário e imprime a soma."
      ],
      "metadata": {
        "id": "N96zxneIqsTK"
      }
    },
    {
      "cell_type": "code",
      "source": [
        "import numpy as np\n",
        "n1 = float(input('Informe o primeiro valor: '))\n",
        "n2 = float(input('Informe o segundo valor: '))\n",
        "\n",
        "def somaInteirosIntervalo(n1, n2):\n",
        "  inteiros = []\n",
        "  for i in np.arange(n1,n2):\n",
        "    inteiros.append(i)\n",
        "  return sum(inteiros)\n",
        "\n",
        "print(f'Soma dos inteiros no intervalo: {somaInteirosIntervalo(n1, n2)}')"
      ],
      "metadata": {
        "id": "mCeYE8mKqvnE"
      },
      "execution_count": null,
      "outputs": []
    },
    {
      "cell_type": "markdown",
      "source": [
        "7.Escreva uma função que receba um número inteiro e imprima o mês\n",
        "correspondente ao número. Por exemplo, 2 corresponde a “fevereiro”. O\n",
        "procedimento deve mostrar uma mensagem de erro caso o número recebido não\n",
        "faça sentido. Gere também um programa que leia um valor e chame a função\n",
        "criada."
      ],
      "metadata": {
        "id": "0yHOHSM7q-T0"
      }
    },
    {
      "cell_type": "code",
      "source": [
        "num = int(input(\"Insira um número inteiro entre 1 e 12: \"))\n",
        "\n",
        "def mes_correspondente(num):\n",
        "    try:\n",
        "        meses = [\"janeiro\", \"fevereiro\", \"março\", \"abril\", \"maio\", \"junho\",\n",
        "                 \"julho\", \"agosto\", \"setembro\", \"outubro\", \"novembro\", \"dezembro\"]\n",
        "        print(meses[num-1])\n",
        "    except IndexError:\n",
        "        print(\"Erro: número inválido\")\n",
        "\n",
        "mes_correspondente(num)"
      ],
      "metadata": {
        "id": "Jy9jYNr1rBbF"
      },
      "execution_count": null,
      "outputs": []
    },
    {
      "cell_type": "markdown",
      "source": [
        "8.Escreva uma função que receba um número natural e imprima os três primeiros\n",
        "caracteres do dia da semana correspondente ao número. Por exemplo, 7\n",
        "corresponde a “SAB”. O procedimento deve mostrar uma mensagem de erro caso\n",
        "o número recebido não corresponda a um dia da semana. Gere também um\n",
        "programa que utilize essa função, chamando-a, mas antes lendo um valor para\n",
        "passagem de parâmetro."
      ],
      "metadata": {
        "id": "PfjMNRZGsM-s"
      }
    },
    {
      "cell_type": "code",
      "source": [
        "num = int(input(\"Insira um número int entre 1 e 7: \"))\n",
        "\n",
        "def dia_da_semana(num):\n",
        "    try:\n",
        "        dias = [\"DOM\", \"SEG\", \"TER\", \"QUA\", \"QUI\", \"SEX\", \"SAB\"]\n",
        "        print(dias[num-1])\n",
        "    except IndexError:\n",
        "        print(\"Erro: número inválido\")\n",
        "dia_da_semana(num)"
      ],
      "metadata": {
        "colab": {
          "base_uri": "https://localhost:8080/"
        },
        "id": "oFGvAj_wsONt",
        "outputId": "a74ac64b-e611-4265-f902-06e7fa2dc8f4"
      },
      "execution_count": 7,
      "outputs": [
        {
          "output_type": "stream",
          "name": "stdout",
          "text": [
            "Insira um número int entre 1 e 7: 8\n",
            "Erro: número inválido\n"
          ]
        }
      ]
    },
    {
      "cell_type": "markdown",
      "source": [
        "9.Escreva uma função que receba dois números inteiros x e y. Essa função deve\n",
        "verificar se x é divisível por y. No caso positivo, a função deve retornar 1, caso\n",
        "contrário zero. Escreva também um programa para testar tal função."
      ],
      "metadata": {
        "id": "X1Nztoz9stoB"
      }
    },
    {
      "cell_type": "code",
      "source": [
        "def divisivel(x, y):\n",
        "    if x % y == 0:\n",
        "        return 1\n",
        "    else:\n",
        "        return 0\n",
        "\n",
        "x = int(input(\"Digite o valor de x: \"))\n",
        "y = int(input(\"Digite o valor de y: \"))\n",
        "\n",
        "resultado = divisivel(x, y)\n",
        "if resultado == 1:\n",
        "    print(f\"{x} é divisível por {y}\")\n",
        "else:\n",
        "    print(f\"{x} não é divisível por {y}\")"
      ],
      "metadata": {
        "id": "OmNtMZlKswOV"
      },
      "execution_count": null,
      "outputs": []
    },
    {
      "cell_type": "markdown",
      "source": [
        "10.Criar uma função que calcule e retorne o MAIOR entre dois valores recebidos como\n",
        "parâmetros. Um programa para testar tal função deve ser criado."
      ],
      "metadata": {
        "id": "ia-EIfqLswqt"
      }
    },
    {
      "cell_type": "code",
      "source": [
        "def calcularMaior(valor1, valor2):\n",
        "    if valor1 > valor2:\n",
        "        return valor1\n",
        "    else:\n",
        "        return valor2\n",
        "\n",
        "valor1 = float(input(\"Digite o primeiro valor: \"))\n",
        "valor2 = float(input(\"Digite o segundo valor: \"))\n",
        "maior = calcularMaior(valor1, valor2)\n",
        "print(f\"O maior valor entre {valor1} e {valor2} é: {maior}\")"
      ],
      "metadata": {
        "id": "I53vj8qeszkh"
      },
      "execution_count": null,
      "outputs": []
    },
    {
      "cell_type": "markdown",
      "source": [
        "11.Crie uma função que realize a conversão de Polegadas (pol) para Centímetros\n",
        "(cm), onde pol é passado como parâmetro e cm é retornado. Sabe-se que 1\n",
        "polegada tem 2.54 centímetros. Crie também um programa para testar tal função."
      ],
      "metadata": {
        "id": "2SPyV6Ies8uR"
      }
    },
    {
      "cell_type": "code",
      "source": [
        "pol = float(input(\"Digite o valor em polegadas: \"))\n",
        "\n",
        "def polToCm(pol):\n",
        "    cm = pol * 2.54\n",
        "    return cm\n",
        "\n",
        "print(f\"{pol} polegadas equivalem a {polToCm(pol)} centímetros.\")"
      ],
      "metadata": {
        "id": "ypKg-bYbs9y5"
      },
      "execution_count": null,
      "outputs": []
    }
  ]
}