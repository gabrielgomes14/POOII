{
  "nbformat": 4,
  "nbformat_minor": 0,
  "metadata": {
    "colab": {
      "provenance": [],
      "authorship_tag": "ABX9TyMc1VGY8oIqdA1bureQQjku"
    },
    "kernelspec": {
      "name": "python3",
      "display_name": "Python 3"
    },
    "language_info": {
      "name": "python"
    }
  },
  "cells": [
    {
      "cell_type": "markdown",
      "source": [
        "1. Crie uma classe chamada Usuario."
      ],
      "metadata": {
        "id": "uDZKwtbAkxj5"
      }
    },
    {
      "cell_type": "code",
      "execution_count": 2,
      "metadata": {
        "id": "piL_7Rlakv8e"
      },
      "outputs": [],
      "source": [
        "class Usuario:"
      ]
    },
    {
      "cell_type": "markdown",
      "source": [
        "2. Adicione à classe acima uma propriedade privada com o nome nomeUsuario."
      ],
      "metadata": {
        "id": "mM1S9oRNkyAE"
      }
    },
    {
      "cell_type": "code",
      "source": [
        " class Usuario:\n",
        "    def __init__(self, nome, idade, sexo):\n",
        "        self.nome = nome\n",
        "        self.idade = idade\n",
        "        self.sexo = sexo\n",
        "        self.__nomeUsuario = None #Propriedade privada\n",
        "\n",
        "usuario1 = Usuario(nome=\"Gabriel\", idade=19, sexo=\"Masculino\")\n",
        "print(f\"Nome: {usuario1.nome}\")\n",
        "print(f\"Idade: {usuario1.idade} anos\")\n",
        "print(f\"Sexo: {usuario1.sexo}\")\n",
        "\n",
        "usuario1._Usuario__nomeUsuario = \"gabriel1706\"\n",
        "print(f\"Nome do usuário: {usuario1._Usuario__nomeUsuario}\")"
      ],
      "metadata": {
        "id": "jZErId2JkySN"
      },
      "execution_count": null,
      "outputs": []
    },
    {
      "cell_type": "markdown",
      "source": [
        "3. Crie um método setter que possa definir o valor do nomeUsuario."
      ],
      "metadata": {
        "id": "aH6m2H8-kyoX"
      }
    },
    {
      "cell_type": "code",
      "source": [
        "class Usuario:\n",
        "    def __init__(self, nome, idade, sexo):\n",
        "        self.nome = nome\n",
        "        self.idade = idade\n",
        "        self.sexo = sexo\n",
        "        self.__nomeUsuario = None\n",
        "\n",
        "    def set_nomeUsuario(self, novo_nome):\n",
        "      self.__nomeUsuario = novo_nome\n",
        "\n",
        "usuario1 = Usuario(nome=\"Gabriel\", idade=19, sexo=\"Masculino\")\n",
        "print(f\"Nome: {usuario1.nome}\")\n",
        "print(f\"Idade: {usuario1.idade} anos\")\n",
        "print(f\"Sexo: {usuario1.sexo}\")\n",
        "\n",
        "usuario1._Usuario__nomeUsuario = \"gabriel1706\"\n",
        "print(f\"Nome do usuário: {usuario1._Usuario__nomeUsuario}\")"
      ],
      "metadata": {
        "colab": {
          "base_uri": "https://localhost:8080/"
        },
        "id": "PczMguHiky7d",
        "outputId": "9cc6834a-206e-4e16-ca2f-f40ea72ed18f"
      },
      "execution_count": 8,
      "outputs": [
        {
          "output_type": "stream",
          "name": "stdout",
          "text": [
            "Nome: Gabriel\n",
            "Idade: 19 anos\n",
            "Sexo: Masculino\n",
            "Nome do usuário: gabriel1706\n"
          ]
        }
      ]
    },
    {
      "cell_type": "markdown",
      "source": [
        "4. Crie uma classe Admin que herde a classe Usuario."
      ],
      "metadata": {
        "id": "eQOaQXOXkzIs"
      }
    },
    {
      "cell_type": "code",
      "source": [
        "class Usuario:\n",
        "    def __init__(self, nome, idade, sexo):\n",
        "        self.nome = nome\n",
        "        self.idade = idade\n",
        "        self.sexo = sexo\n",
        "        self.__nomeUsuario = None\n",
        "\n",
        "    def set_nomeUsuario(self, novo_nome):\n",
        "        self.__nomeUsuario = novo_nome\n",
        "\n",
        "class Admin(Usuario):\n",
        "    def __init__(self, nome, idade, sexo, cargo):\n",
        "        super().__init__(nome, idade, sexo)\n",
        "        self.cargo = cargo\n",
        "\n",
        "usuario1 = Usuario(nome=\"Gabriel\", idade=19, sexo=\"Masculino\")\n",
        "print(f\"Nome: {usuario1.nome}\")\n",
        "print(f\"Idade: {usuario1.idade} anos\")\n",
        "print(f\"Sexo: {usuario1.sexo}\")\n",
        "\n",
        "usuario1.set_nomeUsuario(\"gabriel1706\")\n",
        "print(f\"Nome do usuário: {usuario1._Usuario__nomeUsuario}\")"
      ],
      "metadata": {
        "colab": {
          "base_uri": "https://localhost:8080/"
        },
        "id": "03HU-Lcekzfk",
        "outputId": "c096cc0e-2b52-4dda-f417-2b5f9b5e0b4c"
      },
      "execution_count": 10,
      "outputs": [
        {
          "output_type": "stream",
          "name": "stdout",
          "text": [
            "Nome: Gabriel\n",
            "Idade: 19 anos\n",
            "Sexo: Masculino\n",
            "Nome do usuário: gabriel1706\n"
          ]
        }
      ]
    },
    {
      "cell_type": "markdown",
      "source": [
        "5. Agora, vamos acrescentar à classe Admin algum código. Primeiro, adicione um método público\n",
        "chamado de escrevaNome() e faça com que ele retorne a string: \"Admin\"."
      ],
      "metadata": {
        "id": "htMwvKPzkztf"
      }
    },
    {
      "cell_type": "code",
      "source": [
        "class Usuario:\n",
        "    def __init__(self, nome, idade, sexo):\n",
        "        self.nome = nome\n",
        "        self.idade = idade\n",
        "        self.sexo = sexo\n",
        "        self.__nomeUsuario = None\n",
        "\n",
        "    def set_nomeUsuario(self, novo_nome):\n",
        "        self.__nomeUsuario = novo_nome\n",
        "\n",
        "class Admin(Usuario):\n",
        "    def __init__(self, nome, idade, sexo, cargo):\n",
        "        super().__init__(nome, idade, sexo)\n",
        "        self.cargo = cargo\n",
        "\n",
        "    def escrevaNome(self):\n",
        "      return \"Admin\"\n",
        "\n",
        "usuario1 = Usuario(nome=\"Gabriel\", idade=19, sexo=\"Masculino\")\n",
        "print(f\"Nome: {usuario1.nome}\")\n",
        "print(f\"Idade: {usuario1.idade} anos\")\n",
        "print(f\"Sexo: {usuario1.sexo}\")\n",
        "\n",
        "usuario1.set_nomeUsuario(\"gabriel1706\")\n",
        "print(f\"Nome do usuário: {usuario1._Usuario__nomeUsuario}\")\n",
        "\n",
        "admin1 = Admin(nome=\"Gabriel\", idade=19, sexo=\"Masculino\", cargo=\"Administrador\")\n",
        "print(f\"Nome do usuário: {admin1.escrevaNome()}\")"
      ],
      "metadata": {
        "colab": {
          "base_uri": "https://localhost:8080/"
        },
        "id": "vU-LtT3Qk0AZ",
        "outputId": "8c885308-eb1f-49d9-ce6c-5f3a2f6cde81"
      },
      "execution_count": 11,
      "outputs": [
        {
          "output_type": "stream",
          "name": "stdout",
          "text": [
            "Nome: Gabriel\n",
            "Idade: 19 anos\n",
            "Sexo: Masculino\n",
            "Nome do usuário: gabriel1706\n",
            "Nome do usuário: Admin\n"
          ]
        }
      ]
    },
    {
      "cell_type": "markdown",
      "source": [
        "6. Adicione à classe Admin outro método público, digaOla(), que retorne a string \"Olá Admin,\n",
        "XXX\" onde XXX é o nome do usuário (nomeUsuario)."
      ],
      "metadata": {
        "id": "1LA13LqCzc3F"
      }
    },
    {
      "cell_type": "code",
      "source": [
        "class Usuario:\n",
        "    def __init__(self, nome, idade, sexo):\n",
        "        self.nome = nome\n",
        "        self.idade = idade\n",
        "        self.sexo = sexo\n",
        "        self.__nomeUsuario = None\n",
        "\n",
        "    def set_nomeUsuario(self, novo_nome):\n",
        "        self.__nomeUsuario = novo_nome\n",
        "\n",
        "    def escrevaNome(self):\n",
        "        return \"Usuário\"\n",
        "\n",
        "class Admin(Usuario):\n",
        "    def __init__(self, nome, idade, sexo, cargo):\n",
        "        super().__init__(nome, idade, sexo)\n",
        "        self.cargo = cargo\n",
        "\n",
        "    def digaOla(self):\n",
        "        return f\"Olá {self.escrevaNome()}, {self.nomeUsuario}\"\n",
        "\n",
        "usuario1 = Usuario(nome=\"Gabriel\", idade=19, sexo=\"Masculino\")\n",
        "print(f\"Nome: {usuario1.nome}\")\n",
        "print(f\"Idade: {usuario1.idade} anos\")\n",
        "print(f\"Sexo: {usuario1.sexo}\")\n",
        "\n",
        "usuario1.set_nomeUsuario(\"gabriel1706\")\n",
        "print(f\"Nome do usuário: {usuario1._Usuario__nomeUsuario}\")\n",
        "\n",
        "admin1 = Admin(nome=\"Gabriel\", idade=19, sexo=\"Masculino\", cargo=\"Administrador\")\n",
        "admin1.nomeUsuario = \"gabriel_admin\"\n",
        "print(admin1.digaOla())"
      ],
      "metadata": {
        "colab": {
          "base_uri": "https://localhost:8080/"
        },
        "id": "WvlC7UiKzdZS",
        "outputId": "12d9dde9-4736-492d-e023-069b123bab8b"
      },
      "execution_count": 14,
      "outputs": [
        {
          "output_type": "stream",
          "name": "stdout",
          "text": [
            "Nome: Gabriel\n",
            "Idade: 19 anos\n",
            "Sexo: Masculino\n",
            "Nome do usuário: gabriel1706\n",
            "Olá Usuário, gabriel_admin\n"
          ]
        }
      ]
    },
    {
      "cell_type": "markdown",
      "source": [
        "7. Crie um objeto chamado admin1 fora da classe Admin. Defina seu nome para \"Baltazar\" e diga\n",
        "olá ao usuário. Você vê algum problema?"
      ],
      "metadata": {
        "id": "MdpsP_rK0uAU"
      }
    },
    {
      "cell_type": "code",
      "source": [
        "class Usuario:\n",
        "    def __init__(self, nome, idade, sexo):\n",
        "        self.nome = nome\n",
        "        self.idade = idade\n",
        "        self.sexo = sexo\n",
        "        self.__nomeUsuario = None\n",
        "\n",
        "    def set_nomeUsuario(self, novo_nome):\n",
        "        self.__nomeUsuario = novo_nome\n",
        "\n",
        "    def escrevaNome(self):\n",
        "        return \"Usuário\"\n",
        "\n",
        "class Admin(Usuario):\n",
        "    def __init__(self, nome, idade, sexo, cargo):\n",
        "        super().__init__(nome, idade, sexo)\n",
        "        self.cargo = cargo\n",
        "\n",
        "    def digaOla(self):\n",
        "        return f\"Olá {self.escrevaNome()}, {self.nomeUsuario}\"\n",
        "\n",
        "usuario1 = Usuario(nome=\"Gabriel\", idade=19, sexo=\"Masculino\")\n",
        "print(f\"Nome: {usuario1.nome}\")\n",
        "print(f\"Idade: {usuario1.idade} anos\")\n",
        "print(f\"Sexo: {usuario1.sexo}\")\n",
        "\n",
        "usuario1.set_nomeUsuario(\"gabriel1706\")\n",
        "print(f\"Nome do usuário: {usuario1._Usuario__nomeUsuario}\")\n",
        "\n",
        "admin1 = Admin(nome=\"Gabriel\", idade=19, sexo=\"Masculino\", cargo=\"Administrador\")\n",
        "admin1.nomeUsuario = \"gabriel_admin\"\n",
        "\n",
        "admin2 = Admin(nome=\"Baltazar\", idade=35, sexo=\"Masculino\", cargo=\"Administrador\")\n",
        "admin2.nomeUsuario = \"baltazar_admin\"\n",
        "\n",
        "print(admin1.digaOla())\n",
        "print(admin2.digaOla())"
      ],
      "metadata": {
        "colab": {
          "base_uri": "https://localhost:8080/"
        },
        "id": "iLprWq8l0rUY",
        "outputId": "8a383514-f973-4def-bdad-ec5a507f92c0"
      },
      "execution_count": 18,
      "outputs": [
        {
          "output_type": "stream",
          "name": "stdout",
          "text": [
            "Nome: Gabriel\n",
            "Idade: 19 anos\n",
            "Sexo: Masculino\n",
            "Nome do usuário: gabriel1706\n",
            "Olá Usuário, gabriel_admin\n",
            "Olá Usuário, baltazar_admin\n"
          ]
        }
      ]
    },
    {
      "cell_type": "markdown",
      "source": [
        "8. Qual é a causa do problema?\n",
        "\n",
        "R: O problema ocorre porque o atributo __nomeUsuario da classe Usuario é privada. Isso significa que ele não deve ser acessado diretamente fora da classe. No entanto, no código acima, estamos definindo o nome de usuário diretamente usando admin1.nomeUsuario = \"baltazar_admin\". Isso não é apropriado, pois o atributo é privado e não deveria ser acessado dessa maneira."
      ],
      "metadata": {
        "id": "a0xb0n6Z1pEU"
      }
    },
    {
      "cell_type": "markdown",
      "source": [
        "9. Altere o código para corrigir o problema."
      ],
      "metadata": {
        "id": "jw7GW8JQ2Fdt"
      }
    },
    {
      "cell_type": "code",
      "source": [
        "class Usuario:\n",
        "    def __init__(self, nome, idade, sexo):\n",
        "        self.nome = nome\n",
        "        self.idade = idade\n",
        "        self.sexo = sexo\n",
        "        self.__nomeUsuario = None\n",
        "\n",
        "    def set_nomeUsuario(self, novo_nome):\n",
        "        self.__nomeUsuario = novo_nome\n",
        "\n",
        "    def escrevaNome(self):\n",
        "        return \"Usuário\"\n",
        "\n",
        "class Admin(Usuario):\n",
        "    def __init__(self, nome, idade, sexo, cargo):\n",
        "        super().__init__(nome, idade, sexo)\n",
        "        self.cargo = cargo\n",
        "\n",
        "    def digaOla(self):\n",
        "        return f\"Olá {self.escrevaNome()}, {self._Usuario__nomeUsuario}\"  # Aqui foi corrigido\n",
        "\n",
        "usuario1 = Usuario(nome=\"Gabriel\", idade=19, sexo=\"Masculino\")\n",
        "print(f\"Nome: {usuario1.nome}\")\n",
        "print(f\"Idade: {usuario1.idade} anos\")\n",
        "print(f\"Sexo: {usuario1.sexo}\")\n",
        "\n",
        "usuario1.set_nomeUsuario(\"gabriel1706\")\n",
        "print(f\"Nome do usuário: {usuario1._Usuario__nomeUsuario}\")\n",
        "\n",
        "admin1 = Admin(nome=\"Gabriel\", idade=19, sexo=\"Masculino\", cargo=\"Administrador\")\n",
        "admin1.set_nomeUsuario(\"gabriel_admin\")  # Aqui foi corrigido\n",
        "\n",
        "admin2 = Admin(nome=\"Baltazar\", idade=35, sexo=\"Masculino\", cargo=\"Administrador\")\n",
        "admin2.set_nomeUsuario(\"baltazar_admin\")  # Aqui foi corrigido\n",
        "\n",
        "print(admin1.digaOla())\n",
        "print(admin2.digaOla())"
      ],
      "metadata": {
        "id": "MQistzU32JYo"
      },
      "execution_count": null,
      "outputs": []
    },
    {
      "cell_type": "markdown",
      "source": [
        "10. Tente escrever a solução com um método getter dentro da classe mãe que pode ser usado a partir da\n",
        "classe filha."
      ],
      "metadata": {
        "id": "3S9AlHqn2HMM"
      }
    },
    {
      "cell_type": "code",
      "source": [
        "class Usuario:\n",
        "    def __init__(self, nome, idade, sexo):\n",
        "        self.nome = nome\n",
        "        self.idade = idade\n",
        "        self.sexo = sexo\n",
        "        self.__nomeUsuario = None\n",
        "\n",
        "    def set_nomeUsuario(self, novo_nome):\n",
        "        self.__nomeUsuario = novo_nome\n",
        "\n",
        "    def get_nomeUsuario(self):\n",
        "        return self.__nomeUsuario\n",
        "\n",
        "    def escrevaNome(self):\n",
        "        return \"Usuário\"\n",
        "\n",
        "class Admin(Usuario):\n",
        "    def __init__(self, nome, idade, sexo, cargo):\n",
        "        super().__init__(nome, idade, sexo)\n",
        "        self.cargo = cargo\n",
        "\n",
        "    def digaOla(self):\n",
        "        return f\"Olá {self.escrevaNome()}, {self.get_nomeUsuario()}\"\n",
        "\n",
        "admin1 = Admin(nome=\"Baltazar\", idade=42, sexo=\"Masculino\", cargo=\"Administrador\")\n",
        "admin1.set_nomeUsuario(\"baltazar_admin\")\n",
        "print(admin1.digaOla())"
      ],
      "metadata": {
        "colab": {
          "base_uri": "https://localhost:8080/"
        },
        "id": "c71954nh2I1g",
        "outputId": "2fbc72fc-bce3-471c-af03-04a969b1530f"
      },
      "execution_count": 20,
      "outputs": [
        {
          "output_type": "stream",
          "name": "stdout",
          "text": [
            "Olá Usuário, baltazar_admin\n"
          ]
        }
      ]
    }
  ]
}