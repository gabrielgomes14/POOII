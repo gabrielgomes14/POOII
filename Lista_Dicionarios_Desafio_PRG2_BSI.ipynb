{
  "nbformat": 4,
  "nbformat_minor": 0,
  "metadata": {
    "colab": {
      "provenance": [],
      "authorship_tag": "ABX9TyM4OKrqAnwgRTFguPCG/KMa"
    },
    "kernelspec": {
      "name": "python3",
      "display_name": "Python 3"
    },
    "language_info": {
      "name": "python"
    }
  },
  "cells": [
    {
      "cell_type": "markdown",
      "source": [
        "1. Mesclar Dicionários\n",
        "Combine dois dicionários, substituindo valores comuns pela soma dos valores\n",
        "correspondentes."
      ],
      "metadata": {
        "id": "McsMt8rglSm8"
      }
    },
    {
      "cell_type": "code",
      "execution_count": null,
      "metadata": {
        "id": "n1OQIQuZk8zs"
      },
      "outputs": [],
      "source": [
        "def mesclar_dicionarios(dic, dic2):\n",
        "    result = dic1\n",
        "    for key, value in dic2.items():\n",
        "        if key in result:\n",
        "            result[key] += value\n",
        "        else:\n",
        "            result[key] = value\n",
        "    return result\n",
        "\n",
        "dic1 = {\"a\": 1, \"b\": 2, \"c\": 3}\n",
        "dic2 = {\"b\": 3, \"c\": 4, \"d\": 5}\n",
        "print(mesclar_dicionarios(dic1, dic2))"
      ]
    },
    {
      "cell_type": "markdown",
      "source": [
        "2. Maior Valor em Dicionário de Dicionários\n",
        "Encontre a chave e valor com o maior valor em um dicionário de dicionários."
      ],
      "metadata": {
        "id": "cEI67qt0lwtY"
      }
    },
    {
      "cell_type": "code",
      "source": [
        "def find_max(nested_dict):\n",
        "    max_key = max_value = None\n",
        "    for k, v in nested_dict.items():\n",
        "        inner_key, inner_value = max(v.items(), key=lambda x: x[1])\n",
        "        if max_value is None or inner_value > max_value:\n",
        "            max_key, max_value = (k, inner_key), inner_value\n",
        "    return max_key, max_value\n",
        "\n",
        "d = {\"a\": {\"x\": 1, \"y\": 2}, \"b\": {\"z\": 3}}\n",
        "print(find_max(d))"
      ],
      "metadata": {
        "id": "g4YAcYJjmHbe"
      },
      "execution_count": null,
      "outputs": []
    },
    {
      "cell_type": "markdown",
      "source": [
        "3. Palavras Únicas por Chave\n",
        "Dado um dicionário de listas, encontre as palavras que são únicas para cada\n",
        "chave."
      ],
      "metadata": {
        "id": "PGwJkxnkmJ99"
      }
    },
    {
      "cell_type": "code",
      "source": [
        "def palavras_unicas(d):\n",
        "    todas_palavras = set(p for lista in d.values() for p in lista)\n",
        "    return {k: set(v) - (todas_palavras - set(v)) for k, v in d.items()}\n",
        "\n",
        "d = {\"a\": [\"apple\", \"banana\", \"cherry\"], \"b\": [\"banana\", \"kiwi\"], \"c\": [\"apple\", \"kiwi\", \"mango\"]}\n",
        "print(palavras_unicas(d))"
      ],
      "metadata": {
        "id": "nnpWruXcmMfb"
      },
      "execution_count": null,
      "outputs": []
    },
    {
      "cell_type": "markdown",
      "source": [
        "4. Aninhamento de Chaves\n",
        "Crie um dicionário aninhado com níveis de chaves fornecidos em uma lista."
      ],
      "metadata": {
        "id": "eDNmUVFDmgRG"
      }
    },
    {
      "cell_type": "code",
      "source": [
        "def aninhar_chaves(lista_chaves, valor_final):\n",
        "    if lista_chaves:\n",
        "        return {lista_chaves[0]: aninhar_chaves(lista_chaves[1:], valor_final)}\n",
        "    else:\n",
        "        return valor_final\n",
        "\n",
        "lista_chaves = [\"a\", \"b\", \"c\"]\n",
        "valor_final = 1\n",
        "print(aninhar_chaves(lista_chaves, valor_final))"
      ],
      "metadata": {
        "id": "asB87rm7mqn1"
      },
      "execution_count": null,
      "outputs": []
    },
    {
      "cell_type": "markdown",
      "source": [
        "5. Dicionário Circular\n",
        "Crie um dicionário em que a última chave aponte para a primeira chave."
      ],
      "metadata": {
        "id": "0jXwfwIhmwIx"
      }
    },
    {
      "cell_type": "code",
      "source": [
        "def criar_dicionario_circular(lista_chaves):\n",
        "    dicionario = {lista_chaves[i]: lista_chaves[i + 1] for i in range(len(lista_chaves) - 1)}\n",
        "    dicionario[lista_chaves[-1]] = lista_chaves[0]\n",
        "    return dicionario\n",
        "\n",
        "lista_chaves = [\"a\", \"b\", \"c\"]\n",
        "print(criar_dicionario_circular(lista_chaves))"
      ],
      "metadata": {
        "colab": {
          "base_uri": "https://localhost:8080/"
        },
        "id": "a2J7GNOGmx7c",
        "outputId": "c29b3128-9268-4630-8b13-ae5d0e3bc4ab"
      },
      "execution_count": 3,
      "outputs": [
        {
          "output_type": "stream",
          "name": "stdout",
          "text": [
            "{'a': 'b', 'b': 'c', 'c': 'a'}\n"
          ]
        }
      ]
    },
    {
      "cell_type": "markdown",
      "source": [
        "6. Compressão de Dicionário\n",
        "Comprima um dicionário removendo chaves com valores menores que um\n",
        "determinado limite."
      ],
      "metadata": {
        "id": "EYKq-EAUmyvJ"
      }
    },
    {
      "cell_type": "code",
      "source": [
        "def comprimir(d, limite):\n",
        "    return {k: v for k, v in d.items() if v >= limite}\n",
        "\n",
        "d = {\"a\": 1, \"b\": 2, \"c\": 3}\n",
        "limite = 2\n",
        "print(comprimir(d, limite))"
      ],
      "metadata": {
        "id": "kotyXyovmzV5"
      },
      "execution_count": null,
      "outputs": []
    },
    {
      "cell_type": "markdown",
      "source": [
        "7. Frequência de Palavras em Texto\n",
        "Conte a frequência de cada palavra em um texto usando um dicionário."
      ],
      "metadata": {
        "id": "gkjB8TAQmyp3"
      }
    },
    {
      "cell_type": "code",
      "source": [
        "def contar_frequencia(texto):\n",
        "    palavras = texto.split()\n",
        "    frequencias = {}\n",
        "    for palavra in palavras:\n",
        "        if palavra in frequencias:\n",
        "            frequencias[palavra] += 1\n",
        "        else:\n",
        "            frequencias[palavra] = 1\n",
        "    return frequencias\n",
        "\n",
        "texto = \"Só sei que nada sei\"\n",
        "print(contar_frequencia(texto))"
      ],
      "metadata": {
        "colab": {
          "base_uri": "https://localhost:8080/"
        },
        "id": "-3SdHAFnmz91",
        "outputId": "339f64c6-1088-43d0-fa10-e4fff4450098"
      },
      "execution_count": 4,
      "outputs": [
        {
          "output_type": "stream",
          "name": "stdout",
          "text": [
            "{'Só': 1, 'sei': 2, 'que': 1, 'nada': 1}\n"
          ]
        }
      ]
    },
    {
      "cell_type": "markdown",
      "source": [
        "8. Ordenação de Dicionário por Valor\n",
        "Ordene um dicionário com base nos valores, em ordem decrescente."
      ],
      "metadata": {
        "id": "tX6qjLTRnre5"
      }
    },
    {
      "cell_type": "code",
      "source": [
        "def ordenar_por_valor(dicionario):\n",
        "    return {k: v for k, v in sorted(dicionario.items(), key=lambda item: item[1], reverse=True)}\n",
        "\n",
        "dicionario = {\"a\": 1, \"b\": 2, \"c\": 3}\n",
        "print(ordenar_por_valor(dicionario))"
      ],
      "metadata": {
        "id": "8rfbU20pntPc"
      },
      "execution_count": null,
      "outputs": []
    },
    {
      "cell_type": "markdown",
      "source": [
        "9. Dicionário de Matrizes\n",
        "Crie um dicionário de matrizes, onde as chaves são coordenadas e os valores são\n",
        "os elementos correspondentes."
      ],
      "metadata": {
        "id": "IRByKq4Nn0zk"
      }
    },
    {
      "cell_type": "code",
      "source": [
        "def matriz_para_dict(matriz):\n",
        "    return {(i, j): matriz[i][j] for i in range(len(matriz)) for j in range(len(matriz[0]))}\n",
        "\n",
        "m = [[1, 2, 3], [4, 5, 6], [7, 8, 9]]\n",
        "print(matriz_para_dict(m))"
      ],
      "metadata": {
        "colab": {
          "base_uri": "https://localhost:8080/"
        },
        "id": "7cmeFdWDn6Pe",
        "outputId": "2dd913e0-68fc-4189-907c-5acab1a4678b"
      },
      "execution_count": 5,
      "outputs": [
        {
          "output_type": "stream",
          "name": "stdout",
          "text": [
            "{(0, 0): 1, (0, 1): 2, (0, 2): 3, (1, 0): 4, (1, 1): 5, (1, 2): 6, (2, 0): 7, (2, 1): 8, (2, 2): 9}\n"
          ]
        }
      ]
    },
    {
      "cell_type": "markdown",
      "source": [
        "10. Mapeamento de Palavras\n",
        "Crie um dicionário que mapeie palavras em um texto para palavras diferentes com\n",
        "base em um dicionário de substituição."
      ],
      "metadata": {
        "id": "qSYRlbbSn6sK"
      }
    },
    {
      "cell_type": "code",
      "source": [
        "def mapear_palavras(texto, dicionario_substituicao):\n",
        "    palavras = texto.split()\n",
        "    return ' '.join(dicionario_substituicao.get(palavra, palavra) for palavra in palavras)\n",
        "\n",
        "texto = \"Só sei que nada sei\"\n",
        "dicionario_substituicao = {\"Só\": \"Apenas\", \"sei\": \"conheço\", \"que\": \"o que\", \"nada\": \"nada mesmo\"}\n",
        "print(mapear_palavras(texto, dicionario_substituicao))"
      ],
      "metadata": {
        "colab": {
          "base_uri": "https://localhost:8080/"
        },
        "id": "l5F3B2rKn66H",
        "outputId": "83a79c99-0918-4ef0-f965-aed552f1c163"
      },
      "execution_count": 6,
      "outputs": [
        {
          "output_type": "stream",
          "name": "stdout",
          "text": [
            "Apenas conheço o que nada mesmo conheço\n"
          ]
        }
      ]
    }
  ]
}