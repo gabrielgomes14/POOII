{
  "nbformat": 4,
  "nbformat_minor": 0,
  "metadata": {
    "colab": {
      "provenance": [],
      "authorship_tag": "ABX9TyMNwACpjfmkNAyKafe6+3eU"
    },
    "kernelspec": {
      "name": "python3",
      "display_name": "Python 3"
    },
    "language_info": {
      "name": "python"
    }
  },
  "cells": [
    {
      "cell_type": "markdown",
      "source": [
        "Esta é a classe Usuario:\n",
        "\n",
        "class Usuario():\n",
        "\n",
        "primeiroNome = “”\n",
        "\n",
        "ultimoNome = “”\n",
        "\n",
        "1.Acrescente à classe Usuario um método construtor para definir um valor para a propriedade\n",
        "primeiroNome assim que o objeto for criado."
      ],
      "metadata": {
        "id": "WBazPZJQqY-g"
      }
    },
    {
      "cell_type": "code",
      "execution_count": null,
      "metadata": {
        "id": "Ul7FzVuBqJTI"
      },
      "outputs": [],
      "source": [
        "class Usuario:\n",
        "    def __init__(self, primeiroNome=\"\", ultimoNome=\"\"):\n",
        "        self.primeiroNome = primeiroNome\n",
        "        self.ultimoNome = ultimoNome\n",
        "\n",
        "    def hello(self):\n",
        "        return f\"Olá, {self.primeiroNome} {self.ultimoNome}!\""
      ]
    },
    {
      "cell_type": "markdown",
      "source": [
        "2. Acrescente ao construtor a capacidade de definir o valor da propriedade ultimoNome, bem como a\n",
        "propriedade primeiroNome."
      ],
      "metadata": {
        "id": "YY3V5BD7rFH-"
      }
    },
    {
      "cell_type": "code",
      "source": [
        "class Usuario:\n",
        "    def __init__(self, primeiroNome, ultimoNome=\"\"):\n",
        "        self.primeiroNome = primeiroNome\n",
        "        self.ultimoNome = ultimoNome\n",
        "\n",
        "usuario1 = Usuario(\"Gabriel\", \"Gomes\")\n",
        "print(f\"Nome completo do usuário: {usuario1.primeiroNome} {usuario1.ultimoNome}\")"
      ],
      "metadata": {
        "colab": {
          "base_uri": "https://localhost:8080/"
        },
        "id": "IRfq7YVfrTqZ",
        "outputId": "6df6ff99-ac24-453b-b142-f8a7039a6ce5"
      },
      "execution_count": 1,
      "outputs": [
        {
          "output_type": "stream",
          "name": "stdout",
          "text": [
            "Nome completo do usuário: Gabriel Gomes\n"
          ]
        }
      ]
    },
    {
      "cell_type": "markdown",
      "source": [
        "3.Adicione à classe Usuario um método chamado getNomeCompleto() que retorna o nome\n",
        "completo do usuário."
      ],
      "metadata": {
        "id": "upNi_8knrgKa"
      }
    },
    {
      "cell_type": "code",
      "source": [
        "class Usuario:\n",
        "    def __init__(self, primeiroNome, ultimoNome=\"\"):\n",
        "        self.primeiroNome = primeiroNome\n",
        "        self.ultimoNome = ultimoNome\n",
        "\n",
        "    def getNomeCompleto(self):\n",
        "        return f\"{self.primeiroNome} {self.ultimoNome}\"\n",
        "\n",
        "usuario1 = Usuario(\"Gabriel\", \"Gomes\")\n",
        "nome_completo = usuario1.getNomeCompleto()\n",
        "print(f\"Nome completo do usuário: {nome_completo}\")"
      ],
      "metadata": {
        "id": "dA_FmmDArvZ8"
      },
      "execution_count": null,
      "outputs": []
    },
    {
      "cell_type": "markdown",
      "source": [
        "4.Crie um novo objeto, usuario1, e passe para o construtor os valores do primeiro e último nome. O\n",
        "primeiro nome é \"Johnny\" e o sobrenome é \"Bravo\" (você pode escolher sua combinação preferida\n",
        "de primeiro e último nome)."
      ],
      "metadata": {
        "id": "mWsy7DoJsHde"
      }
    },
    {
      "cell_type": "code",
      "source": [
        "class Usuario:\n",
        "    def __init__(self, primeiroNome, ultimoNome=\"\"):\n",
        "        self.primeiroNome = primeiroNome\n",
        "        self.ultimoNome = ultimoNome\n",
        "\n",
        "    def getNomeCompleto(self):\n",
        "        return f\"{self.primeiroNome} {self.ultimoNome}\"\n",
        "\n",
        "usuario1 = Usuario(\"Johnny\", \"Bravo\")"
      ],
      "metadata": {
        "id": "MZMivoPusJd6"
      },
      "execution_count": 3,
      "outputs": []
    },
    {
      "cell_type": "markdown",
      "source": [
        "5.Obtenha o nome completo e imprima-o na tela."
      ],
      "metadata": {
        "id": "O1QmGmMusYPo"
      }
    },
    {
      "cell_type": "code",
      "source": [
        "nome_completo = usuario1.getNomeCompleto()\n",
        "print(f\"Nome completo do usuário: {nome_completo}\")"
      ],
      "metadata": {
        "colab": {
          "base_uri": "https://localhost:8080/"
        },
        "id": "vYAFm-IRsN-0",
        "outputId": "dbcd70ef-c843-40f2-baec-17c51a3241c9"
      },
      "execution_count": 4,
      "outputs": [
        {
          "output_type": "stream",
          "name": "stdout",
          "text": [
            "Nome completo do usuário: Johnny Bravo\n"
          ]
        }
      ]
    }
  ]
}