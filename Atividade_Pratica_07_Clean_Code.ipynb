{
  "nbformat": 4,
  "nbformat_minor": 0,
  "metadata": {
    "colab": {
      "provenance": []
    },
    "kernelspec": {
      "name": "python3",
      "display_name": "Python 3"
    },
    "language_info": {
      "name": "python"
    }
  },
  "cells": [
    {
      "cell_type": "markdown",
      "source": [
        "`Clean Code` é um conceito que se refere a escrever código que é fácil de ler, entender e manter. Existem vários princípios e práticas para melhorar a qualidade deste código, como usar nomes significativos, evitar comentários desnecessários, seguir convenções de estilo, refatorar código duplicado, aplicar testes automatizados, e assim por diante.\n",
        "\n",
        "Aqui estão sete exercícios que você pode fazer para praticar o `Clean Code`. Cada exercício tem uma descrição do problema e um exemplo de código ruim. Você deve resolver os exercícios sugerindo uma solução melhorada para ele.\n"
      ],
      "metadata": {
        "id": "TkEQV5UlqQqn"
      }
    },
    {
      "cell_type": "markdown",
      "source": [
        "### **Exercício 1: Nomes Significativos**\n",
        "\n",
        "> Nomes devem ser claros, precisos e consistentes. Evite usar nomes genéricos, abreviações, números mágicos ou comentários para explicar o que o código faz.\n",
        "\n",
        "#### **Problema**\n",
        "\n",
        "Escreva uma função que calcule o salário líquido de um funcionário a partir do seu salário bruto e dos impostos aplicados. Use nomes significativos para as variáveis e a função.\n",
        "\n",
        "##### **Código Ruim**"
      ],
      "metadata": {
        "id": "2vPDixoFBLXL"
      }
    },
    {
      "cell_type": "code",
      "execution_count": null,
      "metadata": {
        "id": "5282o7_bAkSV"
      },
      "outputs": [],
      "source": [
        "def f(x):\n",
        "  y = 0.15 * x  # INSS\n",
        "  z = 0.275 * x  # IRPF\n",
        "  return x - y - z\n",
        "\n",
        "# Example usage:\n",
        "sb = 10000\n",
        "sl = f(sb)\n",
        "print(sl)\n"
      ]
    },
    {
      "cell_type": "markdown",
      "source": [
        "##### **Código Melhorado**"
      ],
      "metadata": {
        "id": "-T-wSdthC0xs"
      }
    },
    {
      "cell_type": "code",
      "source": [
        "def calcular_salario_liquido(salario_bruto):\n",
        "    imposto_inss = 0.15 * salario_bruto  # INSS\n",
        "    imposto_irpf = 0.275 * salario_bruto  # IRPF\n",
        "    salario_liquido = salario_bruto - imposto_inss - imposto_irpf\n",
        "    return salario_liquido\n",
        "\n",
        "# Example usage:\n",
        "salario_bruto = 10000\n",
        "salario_liquido = calcular_salario_liquido(salario_bruto)\n",
        "print(salario_liquido)\n"
      ],
      "metadata": {
        "id": "woOsFn0-C6SV",
        "colab": {
          "base_uri": "https://localhost:8080/"
        },
        "outputId": "b1a1eb8f-8758-42d6-99a5-2967d495dbc5"
      },
      "execution_count": 1,
      "outputs": [
        {
          "output_type": "stream",
          "name": "stdout",
          "text": [
            "5750.0\n"
          ]
        }
      ]
    },
    {
      "cell_type": "markdown",
      "source": [
        "### **Exercício 2: Comentários Desnecessários**\n",
        "\n",
        "> Comentários devem ser usados com moderação e apenas quando o código não é suficiente para expressar a intenção. Comentários devem explicar o porquê do código, não o que ele faz. Evite usar comentários para justificar decisões ruins, documentar código óbvio ou repetir o que o código já diz.\n",
        "\n",
        "#### **Problema**\n",
        "\n",
        "Escreva uma função que verifique se um número é par ou ímpar. Remova os comentários desnecessários do código.\n",
        "\n",
        "\n",
        "##### **Código Ruim**"
      ],
      "metadata": {
        "id": "0BNKR5N2Y21p"
      }
    },
    {
      "cell_type": "code",
      "source": [
        "def isPar(numero):\n",
        "  # Verifica se o número é par\n",
        "  if numero % 2 == 0: # Usa o operador módulo para obter o resto da divisão por 2\n",
        "    return True # Retorna verdadeiro se o resto for zero\n",
        "  else:\n",
        "    return False # Retorna falso se o resto for diferente de zero\n",
        "\n"
      ],
      "metadata": {
        "id": "L5zLPY0oZk5i"
      },
      "execution_count": null,
      "outputs": []
    },
    {
      "cell_type": "markdown",
      "source": [
        "##### **Código Melhorado**"
      ],
      "metadata": {
        "id": "QeydVN13arzl"
      }
    },
    {
      "cell_type": "code",
      "source": [
        "def verificar_par(numero):\n",
        "    if numero % 2 == 0:\n",
        "        return True\n",
        "    else:\n",
        "        return False\n",
        "\n",
        "# Exemplo de uso:\n",
        "numero = 4\n",
        "print(verificar_par(numero))  # Saída: True"
      ],
      "metadata": {
        "id": "V68C05DsaydG"
      },
      "execution_count": null,
      "outputs": []
    },
    {
      "cell_type": "markdown",
      "source": [
        "### **Exercício 3: Funções (Métodos)**\n",
        "\n",
        "> Escreva funções que sejam pequenas, simples e façam apenas uma coisa. Use nomes descritivos para as funções e os parâmetros. Opcionalmente, use `docstrings` para documentar o propósito, os parâmetros e o retorno das funções.\n",
        "\n",
        "#### **Problema**\n",
        "\n",
        "Escreva uma função que efetue as quatro operações aritméticas (i.e. soma, subtração, divisão e multiplição), recebendo como parâmetro os dois números e a operação desejada (`+`, `-`, `*` e `/`) em forma de símbolos.\n",
        "\n",
        "##### **Código Ruim**"
      ],
      "metadata": {
        "id": "K3Ewj3U6bI5w"
      }
    },
    {
      "cell_type": "code",
      "source": [
        "def calc(x, y, op):\n",
        "  # faz uma operação entre dois números\n",
        "  if op == \"+\":\n",
        "    return x + y\n",
        "  elif op == \"-\":\n",
        "    return x - y\n",
        "  elif op == \"*\":\n",
        "    return x * y\n",
        "  elif op == \"/\":\n",
        "    return x / y\n",
        "  else:\n",
        "    return \"Operação inválida\"\n"
      ],
      "metadata": {
        "id": "jJhNjsUkcdmQ"
      },
      "execution_count": null,
      "outputs": []
    },
    {
      "cell_type": "markdown",
      "source": [
        "##### **Código Melhorado**"
      ],
      "metadata": {
        "id": "Zox8RYXDc62s"
      }
    },
    {
      "cell_type": "code",
      "source": [
        "def soma(numero1, numero2):\n",
        "    \"\"\"Retorna a soma de dois números.\"\"\"\n",
        "    return numero1 + numero2\n",
        "\n",
        "def subtracao(numero1, numero2):\n",
        "    \"\"\"Retorna a subtração de dois números.\"\"\"\n",
        "    return numero1 - numero2\n",
        "\n",
        "def multiplicacao(numero1, numero2):\n",
        "    \"\"\"Retorna a multiplicação de dois números.\"\"\"\n",
        "    return numero1 * numero2\n",
        "\n",
        "def divisao(numero1, numero2):\n",
        "    \"\"\"Retorna a divisão de dois números.\"\"\"\n",
        "    return numero1 / numero2\n",
        "\n",
        "def calcular(numero1, numero2, operacao):\n",
        "    \"\"\"\n",
        "    Efetua a operação aritmética entre dois números.\n",
        "\n",
        "    Parâmetros:\n",
        "    numero1 (float): O primeiro número.\n",
        "    numero2 (float): O segundo número.\n",
        "    operacao (str): O símbolo da operação desejada ('+', '-', '*', '/').\n",
        "\n",
        "    Retorna:\n",
        "    float: O resultado da operação aritmética.\n",
        "    \"\"\"\n",
        "    if operacao == \"+\":\n",
        "        return soma(numero1, numero2)\n",
        "    elif operacao == \"-\":\n",
        "        return subtracao(numero1, numero2)\n",
        "    elif operacao == \"*\":\n",
        "        return multiplicacao(numero1, numero2)\n",
        "    elif operacao == \"/\":\n",
        "        return divisao(numero1, numero2)\n",
        "    else:\n",
        "        return \"Operação inválida\"\n",
        "\n",
        "# Exemplo de uso:\n",
        "numero1 = 10\n",
        "numero2 = 5\n",
        "operacao = \"+\"\n",
        "resultado = calcular(numero1, numero2, operacao)\n",
        "print(resultado)  # Saída: 15"
      ],
      "metadata": {
        "id": "wgbdh9dDdBvS",
        "colab": {
          "base_uri": "https://localhost:8080/"
        },
        "outputId": "3309f864-35e2-4a04-ad4d-c797b1333506"
      },
      "execution_count": 2,
      "outputs": [
        {
          "output_type": "stream",
          "name": "stdout",
          "text": [
            "15\n"
          ]
        }
      ]
    },
    {
      "cell_type": "markdown",
      "source": [
        "### **Exercício 4: Estruturas de dados**\n",
        "\n",
        "> Use as estruturas de dados adequadas para armazenar e manipular os seus dados. Prefira listas, tuplas, dicionários e conjuntos em vez de sequências ou coleções genéricas. Aproveite as características e métodos dessas estruturas para simplificar o seu código.\n",
        "\n",
        "#### **Problema**\n",
        "\n",
        "Escreva um programa que armazene as oito notas e os nomes dos estudantes da disciplina de POO II. Calcule a média da turma e imprima os nomes e as notas daqueles ficaram acima da média.\n",
        "\n",
        "##### **Código Ruim**"
      ],
      "metadata": {
        "id": "aisvtxGtdmiC"
      }
    },
    {
      "cell_type": "code",
      "source": [
        "# armazena os nomes e as notas dos alunos em uma sequência\n",
        "alunos = \"Ana\", \"Bruno\", \"Carla\", \"Daniel\", \"Eduardo\", \"Fernanda\", \"Gabriel\", \"Helena\"\n",
        "notas = 8.5, 7.0, 9.0, 6.5, 10.0, 8.0, 7.5, 9.5\n",
        "\n",
        "# calcula a média das notas dos alunos\n",
        "soma = 0\n",
        "for i in range(len(notas)):\n",
        "  soma += notas[i]\n",
        "media = soma / len(notas)\n",
        "\n",
        "# imprime os nomes e as notas dos alunos que ficaram acima da média\n",
        "for i in range(len(alunos)):\n",
        "  if notas[i] > media:\n",
        "      print(alunos[i], notas[i])\n"
      ],
      "metadata": {
        "id": "a2OE0QeJesJl"
      },
      "execution_count": null,
      "outputs": []
    },
    {
      "cell_type": "markdown",
      "source": [
        "##### **Código Melhorado**"
      ],
      "metadata": {
        "id": "C9oGH7JMe0jj"
      }
    },
    {
      "cell_type": "code",
      "source": [
        "# Armazena os nomes e as notas dos alunos em um dicionário\n",
        "alunos_notas = {\n",
        "    \"Ana\": 8.5,\n",
        "    \"Bruno\": 7.0,\n",
        "    \"Carla\": 9.0,\n",
        "    \"Daniel\": 6.5,\n",
        "    \"Eduardo\": 10.0,\n",
        "    \"Fernanda\": 8.0,\n",
        "    \"Gabriel\": 7.5,\n",
        "    \"Helena\": 9.5\n",
        "}\n",
        "\n",
        "# Calcula a média das notas dos alunos\n",
        "media = sum(alunos_notas.values()) / len(alunos_notas)\n",
        "\n",
        "# Imprime os nomes e as notas dos alunos que ficaram acima da média\n",
        "for aluno, nota in alunos_notas.items():\n",
        "    if nota > media:\n",
        "        print(f\"{aluno}: {nota:.1f}\")\n",
        "\n",
        "# Exemplo de uso:\n",
        "print(f\"Média da turma: {media:.1f}\")\n",
        "print(\"Alunos acima da média:\")\n",
        "for aluno, nota in alunos_notas.items():\n",
        "    if nota > media:\n",
        "        print(f\"{aluno}: {nota:.1f}\")\n"
      ],
      "metadata": {
        "id": "HDdHI0Vhe4gt"
      },
      "execution_count": null,
      "outputs": []
    },
    {
      "cell_type": "markdown",
      "source": [
        "### **Exercício 5: Espaçamento em branco**\n",
        "\n",
        "> Use espaços em branco para melhorar a legibilidade do seu código. Evite espaços extras dentro dos parênteses ou colchetes, evite espaços em branco no final das linhas, circunde os operadores binários com um espaço em cada lado e não use espaços ao redor do sinal de igual quando usado para indicar um argumento com palavra-chave.\n",
        "\n",
        "#### **Problema**\n",
        "\n",
        "Escreva duas funções que calculem a área de um círculo e o volume da esfera. Passe como parâmetro o raio.\n",
        "\n",
        "##### **Código Ruim**"
      ],
      "metadata": {
        "id": "k0AsZojighO9"
      }
    },
    {
      "cell_type": "code",
      "source": [
        "def area_circulo ( raio ) :\n",
        "    return 3.14159 * ( raio ** 2 ) # calcula a área de um círculo dado o raio\n",
        "\n",
        "def volume_esfera( raio ):\n",
        "    return (4 / 3) * 3.14159 * (raio ** 3) # calcula o volume de uma esfera dado o raio\n",
        "\n",
        "print(area_circulo( 5 )) # imprime a área de um círculo de raio 5\n",
        "print(volume_esfera(raio = 5)) # imprime o volume de uma esfera de raio 5\n"
      ],
      "metadata": {
        "id": "4BOsUt9AgyHA"
      },
      "execution_count": null,
      "outputs": []
    },
    {
      "cell_type": "markdown",
      "source": [
        "##### **Código Melhorado**"
      ],
      "metadata": {
        "id": "8ZdUPBfIhA0W"
      }
    },
    {
      "cell_type": "code",
      "source": [
        "def area_circulo(raio):\n",
        "    \"\"\"Calcula a área de um círculo dado o raio.\"\"\"\n",
        "    return 3.14159 * (raio ** 2)\n",
        "\n",
        "def volume_esfera(raio):\n",
        "    \"\"\"Calcula o volume de uma esfera dado o raio.\"\"\"\n",
        "    return (4 / 3) * 3.14159 * (raio ** 3)\n",
        "\n",
        "# Exemplo de uso:\n",
        "print(area_circulo(5))  # Imprime a área de um círculo de raio 5\n",
        "print(volume_esfera(5))  # Imprime o volume de uma esfera de raio 5"
      ],
      "metadata": {
        "id": "11DP7e0DhD2d"
      },
      "execution_count": null,
      "outputs": []
    },
    {
      "cell_type": "markdown",
      "source": [
        "### **Exercício 6: Formatação de linhas**\n",
        "\n",
        "> Siga as regras do [PEP 8](https://peps.python.org/pep-0008/) para formatar as linhas do seu código. Use espaços para indentar, limite a largura das linhas a 79 caracteres, evite múltiplas instruções na mesma linha e separe as definições de funções e classes com duas linhas em branco.\n",
        "\n",
        "#### **Problema**\n",
        "\n",
        "Escreva quatro funções que calculem, respectivamente, a soma dos quadrados, a média, a variância e o desvio padrão de uma lista de dados.\n",
        "\n",
        "##### **Código Ruim**"
      ],
      "metadata": {
        "id": "UR1OoJ03hMh1"
      }
    },
    {
      "cell_type": "code",
      "source": [
        "def soma_quadrados(lista): return sum(x**2 for x in lista) # retorna a soma dos quadrados dos elementos da lista\n",
        "\n",
        "def media(lista): return sum(lista)/len(lista) # retorna a média dos elementos da lista\n",
        "\n",
        "def variancia(lista): m = media(lista); return soma_quadrados([x-m for x in lista])/len(lista) # retorna a variância dos elementos da lista\n",
        "\n",
        "def desvio_padrao(lista): return variancia(lista)**0.5 # retorna o desvio padrão dos elementos da lista\n"
      ],
      "metadata": {
        "id": "FJWReWs1jU-c"
      },
      "execution_count": null,
      "outputs": []
    },
    {
      "cell_type": "markdown",
      "source": [
        "##### **Código Melhorado**"
      ],
      "metadata": {
        "id": "HtMK93R4jZC-"
      }
    },
    {
      "cell_type": "code",
      "source": [
        "def soma_quadrados(lista):\n",
        "    \"\"\"Retorna a soma dos quadrados dos elementos da lista.\"\"\"\n",
        "    return sum(x**2 for x in lista)\n",
        "\n",
        "def media(lista):\n",
        "    \"\"\"Retorna a média dos elementos da lista.\"\"\"\n",
        "    return sum(lista) / len(lista)\n",
        "\n",
        "def variancia(lista):\n",
        "    \"\"\"Retorna a variância dos elementos da lista.\"\"\"\n",
        "    m = media(lista)\n",
        "    return soma_quadrados([x - m for x in lista]) / len(lista)\n",
        "\n",
        "def desvio_padrao(lista):\n",
        "    \"\"\"Retorna o desvio padrão dos elementos da lista.\"\"\"\n",
        "    return variancia(lista) ** 0.5\n",
        "\n",
        "# Exemplo de uso:\n",
        "dados = [10, 20, 30, 40, 50]\n",
        "\n",
        "print(f\"Soma dos quadrados: {soma_quadrados(dados)}\")\n",
        "print(f\"Média: {media(dados)}\")\n",
        "print(f\"Variância: {variancia(dados)}\")\n",
        "print(f\"Desvio padrão: {desvio_padrao(dados)}\")\n"
      ],
      "metadata": {
        "id": "YvIZa8X3jcIY",
        "colab": {
          "base_uri": "https://localhost:8080/"
        },
        "outputId": "f57f4bfc-35d4-4ae0-cbff-b94536d51af5"
      },
      "execution_count": 3,
      "outputs": [
        {
          "output_type": "stream",
          "name": "stdout",
          "text": [
            "Soma dos quadrados: 5500\n",
            "Média: 30.0\n",
            "Variância: 200.0\n",
            "Desvio padrão: 14.142135623730951\n"
          ]
        }
      ]
    },
    {
      "cell_type": "markdown",
      "source": [
        "### **Exercício 7: Funções com muitos parâmetros**\n",
        "\n",
        "> Evite funções com um grande número de parâmetros. Refatore para usar classes ou dicionários.\n",
        "\n",
        "##### **Código Ruim**"
      ],
      "metadata": {
        "id": "eUof8eCTm4oK"
      }
    },
    {
      "cell_type": "code",
      "source": [
        "# Ruim\n",
        "def criar_pessoa(nome, idade, cidade, pais, profissao, email):\n",
        "    # Código para criar uma pessoa\n"
      ],
      "metadata": {
        "id": "QlZ9HiuKn-rX"
      },
      "execution_count": null,
      "outputs": []
    },
    {
      "cell_type": "markdown",
      "source": [
        "##### **Código Melhorado**"
      ],
      "metadata": {
        "id": "UtTEbUHBoG1R"
      }
    },
    {
      "cell_type": "code",
      "source": [
        "class Pessoa:\n",
        "    def __init__(self, nome, idade, cidade, pais, profissao, email):\n",
        "        self.nome = nome\n",
        "        self.idade = idade\n",
        "        self.cidade = cidade\n",
        "        self.pais = pais\n",
        "        self.profissao = profissao\n",
        "        self.email = email\n",
        "\n",
        "    def __str__(self):\n",
        "        return (f\"Nome: {self.nome}\\nIdade: {self.idade}\\nCidade: {self.cidade}\\n\"\n",
        "                f\"País: {self.pais}\\nProfissão: {self.profissao}\\nEmail: {self.email}\")\n",
        "\n",
        "# Exemplo de uso:\n",
        "pessoa = Pessoa(nome=\"Ana\", idade=30, cidade=\"São Paulo\", pais=\"Brasil\", profissao=\"Engenheira\", email=\"ana@example.com\")\n",
        "print(pessoa)"
      ],
      "metadata": {
        "id": "sIjdAK6noB8v",
        "colab": {
          "base_uri": "https://localhost:8080/"
        },
        "outputId": "feb0a706-b65a-4287-81d9-fbed1b2514af"
      },
      "execution_count": 4,
      "outputs": [
        {
          "output_type": "stream",
          "name": "stdout",
          "text": [
            "Nome: Ana\n",
            "Idade: 30\n",
            "Cidade: São Paulo\n",
            "País: Brasil\n",
            "Profissão: Engenheira\n",
            "Email: ana@example.com\n"
          ]
        }
      ]
    }
  ]
}