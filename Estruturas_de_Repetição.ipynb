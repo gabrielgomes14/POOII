{
  "nbformat": 4,
  "nbformat_minor": 0,
  "metadata": {
    "colab": {
      "provenance": [],
      "authorship_tag": "ABX9TyMF6OREyohJpwpXJ6cqbvHU"
    },
    "kernelspec": {
      "name": "python3",
      "display_name": "Python 3"
    },
    "language_info": {
      "name": "python"
    }
  },
  "cells": [
    {
      "cell_type": "markdown",
      "source": [
        "1.Faça um algoritmo que:\n",
        "\n",
        "• leia 20 números inteiros;\n",
        "\n",
        "• escreva os números que são negativos;\n",
        "\n",
        "• escreva a média dos números positivos."
      ],
      "metadata": {
        "id": "icBEXItGQt7n"
      }
    },
    {
      "cell_type": "code",
      "execution_count": null,
      "metadata": {
        "id": "xKQnBxW2QUsd"
      },
      "outputs": [],
      "source": [
        "soma_positivos = 0\n",
        "contador_positivos = 0\n",
        "contador = 0\n",
        "\n",
        "while contador < 20:\n",
        "  numero = int(input('Digite um número inteiro: '))\n",
        "  if numero < 0:\n",
        "    print(f'O número {numero} é negativo')\n",
        "  else:\n",
        "    soma_positivos += numero\n",
        "    contador_positivos += 1\n",
        "  contador += 1\n",
        "\n",
        "  if contador_positivos > 0:\n",
        "    media_positivos = soma_positivos / contador_positivos\n",
        "    print(f'A média dos números positvos é: {media_positivos}')\n",
        "  else:\n",
        "    print('Não foram digitados números positivos2')"
      ]
    },
    {
      "cell_type": "markdown",
      "source": [
        "2.Faça um algoritmo que leia 15 números inteiros e escreva, para cada número lido, se é\n",
        "par ou ímpar."
      ],
      "metadata": {
        "id": "f3YBxN4Ac5Bw"
      }
    },
    {
      "cell_type": "code",
      "source": [
        "contador = 0\n",
        "\n",
        "while contador < 15:\n",
        "  valor = int(input('Informe um número inteiro: '))\n",
        "  if valor % 2 == 0:\n",
        "    print(valor, 'é par!')\n",
        "  else:\n",
        "    print(valor, 'é ímpar!')\n",
        "  contador += 1"
      ],
      "metadata": {
        "id": "B6ccCtFudBym"
      },
      "execution_count": null,
      "outputs": []
    },
    {
      "cell_type": "markdown",
      "source": [
        "3.Dado um conjunto de valores inteiros positivos, determinar qual o menor e qual o\n",
        "maior valor do conjunto. Um número com valor “0” (zero) indica o fim dos dados e\n",
        "não deve ser considerado."
      ],
      "metadata": {
        "id": "Jlpknt2vfIS-"
      }
    },
    {
      "cell_type": "code",
      "source": [
        "menor = float('inf')\n",
        "maior = float('-inf')\n",
        "\n",
        "while True:\n",
        "    valor = int(input(\"Digite um valor inteiro positivo (0 para sair): \"))\n",
        "    \n",
        "    if valor == 0:\n",
        "        break\n",
        "    \n",
        "    if valor < menor:\n",
        "        menor = valor\n",
        "    \n",
        "    if valor > maior:\n",
        "        maior = valor\n",
        "\n",
        "if menor == float('inf'):\n",
        "    print(\"Nenhum valor foi informado\")\n",
        "else:\n",
        "    print(\"Menor valor: \", menor)\n",
        "    print(\"Maior valor: \", maior)\n"
      ],
      "metadata": {
        "id": "DkLjyx7kfNNM"
      },
      "execution_count": null,
      "outputs": []
    },
    {
      "cell_type": "markdown",
      "source": [
        "4.Faça um algoritmo que calcule e escreva a soma dos números pares e a soma dos\n",
        "números ímpares entre 1 e 100."
      ],
      "metadata": {
        "id": "4xhP7RBmgEvx"
      }
    },
    {
      "cell_type": "code",
      "source": [
        "soma_pares = 0\n",
        "soma_impares = 0\n",
        "\n",
        "for num in range(1, 101):\n",
        "  if num % 2 == 0:\n",
        "    soma_pares += num\n",
        "  else:\n",
        "    soma_impares += num\n",
        "  \n",
        "print(f'Soma dos números pares entre 1 a 100: {soma_pares}')\n",
        "print(f'Soma dos números ímpares entre 1 a 100: {soma_impares}')"
      ],
      "metadata": {
        "colab": {
          "base_uri": "https://localhost:8080/"
        },
        "id": "9rNmvLPxgH_X",
        "outputId": "c5b96b31-f3a2-4faa-d245-e20bd56c608d"
      },
      "execution_count": null,
      "outputs": [
        {
          "output_type": "stream",
          "name": "stdout",
          "text": [
            "Soma dos números pares entre 1 a 100: 2550\n",
            "Soma dos números ímpares entre 1 a 100: 2500\n"
          ]
        }
      ]
    },
    {
      "cell_type": "markdown",
      "source": [
        "5.Faça um algoritmo que leia a altura de 20 pessoas e calcule a média aritmética das\n",
        "alturas."
      ],
      "metadata": {
        "id": "8Oc04g8nh9RA"
      }
    },
    {
      "cell_type": "code",
      "source": [
        "soma_altura = 0\n",
        "\n",
        "for i in range(5):\n",
        "  altura = float(input('Digite sua altura: '))\n",
        "  soma_altura += altura\n",
        "\n",
        "media_alturas = soma_altura / 5\n",
        "\n",
        "print(f'A média aritmética das alturas é {media_alturas}')"
      ],
      "metadata": {
        "colab": {
          "base_uri": "https://localhost:8080/"
        },
        "id": "1BzxqawGiALl",
        "outputId": "99f8c0b9-f50d-42dc-adeb-6a682d6da3ca"
      },
      "execution_count": null,
      "outputs": [
        {
          "output_type": "stream",
          "name": "stdout",
          "text": [
            "Digite sua altura: 120\n",
            "Digite sua altura: 32\n",
            "Digite sua altura: 123\n",
            "Digite sua altura: 231\n",
            "Digite sua altura: 231\n",
            "A média aritmética das alturas é 147.4\n"
          ]
        }
      ]
    },
    {
      "cell_type": "markdown",
      "source": [
        "6.Faça um algoritmo que leia n valores inteiros e escreva quantos desses valores são\n",
        "negativos."
      ],
      "metadata": {
        "id": "4hdXSqI2qiec"
      }
    },
    {
      "cell_type": "code",
      "source": [
        "n = int(input('Informe a quantidade de números inteiros a serem informados: '))\n",
        "\n",
        "cont_negativos = 0\n",
        "\n",
        "for i in range(n):\n",
        "   valor = int(input(\"Digite o valor {}: \".format(i+1)))\n",
        "   if valor < 0:\n",
        "    cont_negativos += 1\n",
        "\n",
        "print(\"Foram encontrados {} valores negativos...\".format(cont_negativos))"
      ],
      "metadata": {
        "colab": {
          "base_uri": "https://localhost:8080/"
        },
        "id": "h44B60GCqkj5",
        "outputId": "d29e94f3-8ce2-4ee0-a2e5-86fe5a9050d0"
      },
      "execution_count": null,
      "outputs": [
        {
          "output_type": "stream",
          "name": "stdout",
          "text": [
            "Informe a quantidade de números inteiros a serem informados: 5\n",
            "Digite o valor 1: 23\n",
            "Digite o valor 2: 234\n",
            "Digite o valor 3: 23\n",
            "Digite o valor 4: 1\n",
            "Digite o valor 5: 2\n",
            "Foram encontrados 0 valores negativos.\n"
          ]
        }
      ]
    },
    {
      "cell_type": "markdown",
      "source": [
        "7.Faça um algoritmo que leia a quantidade de tinta que uma caneta, e enquanto a\n",
        "caneta tiver tinta para escrever, escreva “Enquanto tem tinta a caneta escreve...”.\n",
        "Considere que a cada comando de escrita a caneta gasta 2% da tinta que possui."
      ],
      "metadata": {
        "id": "hsFMdNpwrbWS"
      }
    },
    {
      "cell_type": "markdown",
      "source": [],
      "metadata": {
        "id": "0xwLcZOlRuX3"
      }
    },
    {
      "cell_type": "code",
      "source": [
        "tinta = int(input('Informe a quantidade de tinta da caneta: '))\n",
        "\n",
        "while tinta > 0:\n",
        "  print(\"Enquanto tem tinha a caneta escreve...\")\n",
        "  tinta -= 0.02 * tinta"
      ],
      "metadata": {
        "id": "KweYxI_Yrcm_"
      },
      "execution_count": null,
      "outputs": []
    },
    {
      "cell_type": "markdown",
      "source": [
        "8.Faça um algoritmo que leia n pares de valores, sendo o primeiro valor o número de\n",
        "inscrição do atleta e o segundo a altura (em cm) do atleta. Escreva:\n",
        "\n",
        "• o número de inscrição e a altura do atleta mais alto;\n",
        "\n",
        "• o número de inscrição e a altura do atleta mais baixo;\n",
        "\n",
        "• a altura média do grupo de atletas."
      ],
      "metadata": {
        "id": "h3N9h5lkR0vJ"
      }
    },
    {
      "cell_type": "code",
      "source": [
        "n = int(input('Digite o seu número de inscrição: '))\n",
        "maior_altura = 0\n",
        "menor_altura = 0\n",
        "soma_altura = 0\n",
        "\n",
        "for i in range(n):\n",
        "    inscricao = int(input('Digite o seu número de inscrição: '))\n",
        "    altura = float(input('Digite sua altura: '))\n",
        "if altura > maior_altura:\n",
        "    maior_altura = altura\n",
        "    inscricao_mais_alto = inscricao\n",
        "if altura < menor_altura:\n",
        "    menor_altura = altura\n",
        "    inscricao_mais_baixo = inscricao\n",
        "soma_altura += altura / n\n",
        "\n",
        "media_altura = soma_altura / n\n",
        "\n",
        "print(\"O atleta mais alto é o número de inscrição\", inscricao_mais_alto, \"com\", maior_altura, \"cm.\")\n",
        "print(\"O atleta mais baixo é o número de inscrição\", inscricao_mais_baixo, \"com\", menor_altura, \"cm.\")\n",
        "print(\"A altura média do grupo de atletas é de\", media_altura, \"cm.\")"
      ],
      "metadata": {
        "id": "-RTUYVfGR0ca"
      },
      "execution_count": null,
      "outputs": []
    },
    {
      "cell_type": "markdown",
      "source": [
        "9.Faça um algoritmo que calcule e imprima os valores de y, onde:\n",
        "para x variando de 1.0 até 5.0, em intervalos de 0.1 unidades."
      ],
      "metadata": {
        "id": "Yx-cvzegWRPl"
      }
    },
    {
      "cell_type": "code",
      "source": [
        "for x in range(10, 51):\n",
        "  x /= 10\n",
        "  y = 3 * x ** 3 - 2 ** x + 7\n",
        "  print(\"Para x =\", x, \", y =\", y)"
      ],
      "metadata": {
        "id": "iqeNatmvW9nz"
      },
      "execution_count": null,
      "outputs": []
    },
    {
      "cell_type": "markdown",
      "source": [
        "10.Construir um algoritmo que calcule o fatorial de um número N."
      ],
      "metadata": {
        "id": "IZHeqmbKXUBs"
      }
    },
    {
      "cell_type": "code",
      "source": [
        "def fatorial(N):\n",
        "    resultado = 1\n",
        "    for i in range(1, N+1):\n",
        "        resultado *= i\n",
        "    return resultado\n",
        "\n",
        "n = 2\n",
        "print(\"O fatorial de\", n, \"é:\", fatorial(n))"
      ],
      "metadata": {
        "colab": {
          "base_uri": "https://localhost:8080/"
        },
        "id": "eNCpsF4uvfeb",
        "outputId": "dde77e4b-628a-4e29-cb7c-e21b3fdbb636"
      },
      "execution_count": null,
      "outputs": [
        {
          "output_type": "stream",
          "name": "stdout",
          "text": [
            "O fatorial de 2 é: 2\n"
          ]
        }
      ]
    },
    {
      "cell_type": "markdown",
      "source": [
        "11.Faça um algoritmo que calcule e escreva a soma da seguinte série de 100 termos:\n",
        "\n",
        "1+ 2 + 3 + 4 +...+100"
      ],
      "metadata": {
        "id": "S42_eV8Xv4lG"
      }
    },
    {
      "cell_type": "code",
      "source": [
        "i, soma = 0, 0\n",
        "for i in range(101):\n",
        "        soma = soma + i\n",
        "print('\\033[1;32m' + f'A soma de 100 (cem) termos é: {soma}')"
      ],
      "metadata": {
        "colab": {
          "base_uri": "https://localhost:8080/"
        },
        "id": "mXhl3Ritwtfb",
        "outputId": "7e794e58-61d2-4a1d-974a-f17482d66b3a"
      },
      "execution_count": null,
      "outputs": [
        {
          "output_type": "stream",
          "name": "stdout",
          "text": [
            "\u001b[1;32mA soma de 100 (cem) termos é: 5050\n"
          ]
        }
      ]
    },
    {
      "cell_type": "markdown",
      "source": [
        "12. Faça um algoritmo que calcule e escreva a soma da seguinte série de 100 termos:"
      ],
      "metadata": {
        "id": "6AHCtvGBxXie"
      }
    },
    {
      "cell_type": "code",
      "source": [
        "soma = 0\n",
        "for i in range(1, 101):\n",
        "  soma += 1 / i\n",
        "print('\\033[1;33m' + f'A soma de 100 (cem) termos é: {soma}')"
      ],
      "metadata": {
        "id": "pkC30yPjyJpV"
      },
      "execution_count": null,
      "outputs": []
    },
    {
      "cell_type": "markdown",
      "source": [
        "13. Fazer um algoritmo para calcular o valor de S, dado por:"
      ],
      "metadata": {
        "id": "Xr5PscFcx2S6"
      }
    },
    {
      "cell_type": "code",
      "source": [
        "N = int(input(\"digite um numero inteiro positivo: \"))\n",
        "S = 0\n",
        "den = N\n",
        "for i in range(1,N+1):\n",
        "  S= S + i/den\n",
        "  den= den - 1\n",
        "\n",
        "  print(\"S=\", S)"
      ],
      "metadata": {
        "colab": {
          "base_uri": "https://localhost:8080/"
        },
        "id": "ekl0ZVWsxgQM",
        "outputId": "3f1f47ba-251e-4da6-e822-79072234e6f2"
      },
      "execution_count": null,
      "outputs": [
        {
          "output_type": "stream",
          "name": "stdout",
          "text": [
            "digite um numero inteiro positivo: 2\n",
            "S= 0.5\n",
            "S= 2.5\n"
          ]
        }
      ]
    },
    {
      "cell_type": "markdown",
      "source": [
        "14.O valor aproximado do número p pode ser calculado usando-se a série:\n",
        "\n",
        "sendo o valor de . Faça um algoritmo que calcule e escreva o valor de p\n",
        "usando os 51 primeiros termos da série."
      ],
      "metadata": {
        "id": "_q9woVhX3p9D"
      }
    },
    {
      "cell_type": "code",
      "source": [
        "n = int(input(\"Digite o valor de n: \"))\n",
        "\n",
        "p = 0\n",
        "\n",
        "for i in range(1, n+1):\n",
        "    p += ((-1) ** (i+1)) / ((2*i-1) ** 2)\n",
        "\n",
        "p = (8 * p) ** 0.5\n",
        "\n",
        "print(f\"O valor aproximado de pi é {p:.5f}\")"
      ],
      "metadata": {
        "id": "JVhk3dTd3qS1"
      },
      "execution_count": null,
      "outputs": []
    },
    {
      "cell_type": "markdown",
      "source": [
        "15.Fazer um algoritmo que calcule e escreva a soma dos 20 primeiros termos da série:"
      ],
      "metadata": {
        "id": "qUlH-D3p3wH8"
      }
    },
    {
      "cell_type": "code",
      "source": [
        "soma = 0\n",
        "for n in range(1, 21):\n",
        "    termo = (n + 98) / (n**3 + 99)\n",
        "    soma += termo\n",
        "\n",
        "print(f\"A soma dos 20 primeiros termos da série é {soma:.2f}\")"
      ],
      "metadata": {
        "id": "mIO3DgDT5Uln"
      },
      "execution_count": null,
      "outputs": []
    },
    {
      "cell_type": "markdown",
      "source": [
        "16.Fazer um algoritmo que calcule e imprima o valor de ex através da série:\n",
        "\n",
        "Considerar para efeitos de cálculo os 30 primeiros termos. O algoritmo deverá ler o\n",
        "valor de x."
      ],
      "metadata": {
        "id": "Qgdjn22L26iE"
      }
    },
    {
      "cell_type": "code",
      "source": [
        "import math\n",
        "\n",
        "x = float(input(\"Digite o valor de x: \"))\n",
        "ex = 0\n",
        "\n",
        "for n in range(30):\n",
        "    ex += x**n / math.factorial(n)\n",
        "\n",
        "print(\"O valor de e^x é:\", ex)\n"
      ],
      "metadata": {
        "id": "izpY4liE3FTK"
      },
      "execution_count": null,
      "outputs": []
    },
    {
      "cell_type": "markdown",
      "source": [
        "17.Foi feita uma pesquisa de audiência de canal de TV em n casas de um determinado\n",
        "bairro de Joinville, em um certo dia do mês. Na pesquisa foi utilizado um coletor de\n",
        "dados portátil. Para cada casa visitada, foi fornecido o número do canal (4, 5, 9, 12) e\n",
        "o número de pessoas que estavam assistindo a TV naquele horário, considerando que\n",
        "em cada casa só existia uma televisão. Em casas onde a televisão estava desligada, foi\n",
        "registrado zero para o número do canal e para o número de pessoas. Faça um\n",
        "algoritmo que calcule e escreva, para cada emissora, o percentual de audiência."
      ],
      "metadata": {
        "id": "ruzuhgaoyPVB"
      }
    },
    {
      "cell_type": "code",
      "source": [
        "emissoras = [4, 5, 9, 12]\n",
        "total_espectadores = {e: 0 for e in emissoras}\n",
        "\n",
        "n_casas = int(input(\"Digite o número de casas visitadas na pesquisa: \"))\n",
        "\n",
        "for i in range(n_casas):\n",
        "    canal = int(input(\"Digite o número do canal (4, 5, 9 ou 12): \"))\n",
        "    espectadores = int(input(\"Digite o número de espectadores: \"))\n",
        "    total_espectadores[canal] += espectadores\n",
        "\n",
        "for emissora in emissoras:\n",
        "    percentual = (total_espectadores[emissora] / n_casas) * 100\n",
        "    print(\"Emissora:\", emissora, \" - Percentual de audiência:\", percentual, \"%\")\n"
      ],
      "metadata": {
        "id": "W51wU1pwyZ2r"
      },
      "execution_count": null,
      "outputs": []
    },
    {
      "cell_type": "markdown",
      "source": [
        "18.Uma companhia de teatro planeja dar uma série de espetáculos. A direção calcula que,\n",
        "a 5,00 reais o ingresso, serão vendidos 120 ingressos. Com a diminuição de 0,50 centavos no\n",
        "preço dos ingressos, espera-se que haja um aumento de 26 ingressos vendidos. As\n",
        "despesas estão estipuladas em 200,00 reais independente do número de ingressos\n",
        "vendidos. Faça um algoritmo que escreva uma tabela contendo o preço do ingresso, o\n",
        "número de ingressos e o lucro esperado em função do preço do ingresso, fazendo-se\n",
        "variar este preço de 5,00 reais a 1,00 real de 0,50 centavos em 0,50 centavos. Escreva também o lucro\n",
        "máximo esperado, o preço e o número de ingressos correspondentes."
      ],
      "metadata": {
        "id": "Q6lRiwr5z_6J"
      }
    },
    {
      "cell_type": "code",
      "source": [],
      "metadata": {
        "id": "SY-kD_-d2WHY"
      },
      "execution_count": null,
      "outputs": []
    },
    {
      "cell_type": "markdown",
      "source": [
        "19.Faça um algoritmo que leia n números inteiros e escreva, para cada número lido, os\n",
        "divisores e quantidade de divisores.\n",
        "EXEMPLO: número lido = 12\n",
        "divisores = 1, 2, 3, 4, 6, 12\n",
        "\n",
        "quantidade divisores = 6"
      ],
      "metadata": {
        "id": "xC_b-nmQ2TYN"
      }
    },
    {
      "cell_type": "code",
      "source": [
        "n = int(input(\"Digite a quantidade de números que deseja informar: \"))\n",
        "\n",
        "for i in range(n):\n",
        "    num = int(input(f\"Digite o {i+1}º número: \"))\n",
        "    divisores = []\n",
        "    cont_divisores = 0\n",
        "    \n",
        "    for j in range(1, num+1):\n",
        "        if num % j == 0:\n",
        "            divisores.append(j)\n",
        "            cont_divisores += 1\n",
        "            \n",
        "    print(f\"Divisores de {num}: {divisores}\")\n",
        "    print(f\"Quantidade de divisores de {num}: {cont_divisores}\")\n"
      ],
      "metadata": {
        "id": "g4zNPG4-0Ct5"
      },
      "execution_count": null,
      "outputs": []
    },
    {
      "cell_type": "markdown",
      "source": [
        "20.Uma máquina de biscoito está com problemas. Quando ligada, após 1 hora ela quebra\n",
        "1 biscoito, na segunda hora ela quebra 3 biscoitos, na hora seguinte ela quebra 3\n",
        "vezes a quantidade de biscoitos quebrados na hora anterior, e assim por diante. Faça\n",
        "um algoritmo que calcule quantos biscoitos são quebrados no final de cada dia (a\n",
        "máquina opera 16 horas por dia)."
      ],
      "metadata": {
        "id": "qIHuD15C2WwM"
      }
    },
    {
      "cell_type": "code",
      "source": [
        "tota_biscoitos = 0\n",
        "\n",
        "for hora in range(1, 17):\n",
        "  if hora == 1:\n",
        "    quantidade = 1\n",
        "  elif hora == 2:\n",
        "    quantidade = 3\n",
        "  else:\n",
        "    total_biscoitos = 3 * quantidade\n",
        "  \n",
        "    total_biscoitos += quantidade\n",
        "    print(f\"Horas: {hora} | Biscoitos quebrados: {quantidade}\")\n",
        "    \n",
        "print(f\"Total de biscoitos quebrados em um dia: {total_biscoitos}\")\n"
      ],
      "metadata": {
        "colab": {
          "base_uri": "https://localhost:8080/"
        },
        "id": "4oJs05Cg2bCh",
        "outputId": "1c96285c-5486-4d9a-de54-f2cbc9f0ce06"
      },
      "execution_count": null,
      "outputs": [
        {
          "output_type": "stream",
          "name": "stdout",
          "text": [
            "Horas: 3 | Biscoitos quebrados: 3\n",
            "Horas: 4 | Biscoitos quebrados: 3\n",
            "Horas: 5 | Biscoitos quebrados: 3\n",
            "Horas: 6 | Biscoitos quebrados: 3\n",
            "Horas: 7 | Biscoitos quebrados: 3\n",
            "Horas: 8 | Biscoitos quebrados: 3\n",
            "Horas: 9 | Biscoitos quebrados: 3\n",
            "Horas: 10 | Biscoitos quebrados: 3\n",
            "Horas: 11 | Biscoitos quebrados: 3\n",
            "Horas: 12 | Biscoitos quebrados: 3\n",
            "Horas: 13 | Biscoitos quebrados: 3\n",
            "Horas: 14 | Biscoitos quebrados: 3\n",
            "Horas: 15 | Biscoitos quebrados: 3\n",
            "Horas: 16 | Biscoitos quebrados: 3\n",
            "Total de biscoitos quebrados em um dia: 12\n"
          ]
        }
      ]
    },
    {
      "cell_type": "markdown",
      "source": [
        "21.Uma turma tem 50 alunos. Faça um algoritmo que:\n",
        "\n",
        "• leia para cada aluno o seu nome e idade;\n",
        "\n",
        "• escreva os nomes dos alunos que tem 18 anos;\n",
        "\n",
        "• escreva a quantidade de alunos que tem idade acima de 20 anos."
      ],
      "metadata": {
        "id": "04FCj0ry35Gp"
      }
    },
    {
      "cell_type": "code",
      "source": [
        "acima_20 = 0\n",
        "\n",
        "for i in range(1, 51):\n",
        "    nome = input(f'Digite o nome do aluno {i}: ')\n",
        "    idade = int(input(f'Digite a idade do aluno {i}: '))\n",
        "    \n",
        "    if idade == 18:\n",
        "        print(f'O aluno {nome} tem 18 anos.')\n",
        "\n",
        "    if idade > 20:\n",
        "        acima_20 += 1\n",
        "\n",
        "print(f'Existem {acima_20} alunos com idade acima de 20 anos.')"
      ],
      "metadata": {
        "id": "xdPQqPe93MLa"
      },
      "execution_count": null,
      "outputs": []
    },
    {
      "cell_type": "markdown",
      "source": [
        "22.Faça um algoritmo que:\n",
        "\n",
        "• leia, para n pessoas, a altura e o sexo (sexo = 'M' ou sexo = 'm' para masculino e\n",
        "sexo = 'F' ou sexo = 'f' para feminino);\n",
        "\n",
        "• escreva a média da altura das mulheres;\n",
        "\n",
        "• escreva a média da altura da turma."
      ],
      "metadata": {
        "id": "omdjYTpqTMjh"
      }
    },
    {
      "cell_type": "code",
      "source": [
        "n = int(input('Digite o número de pessoas: '))\n",
        "\n",
        "soma_alturas_mulheres = 0\n",
        "qtd_mulheres = 0\n",
        "soma_altura_turma = 0\n",
        "\n",
        "for i in range(n):\n",
        "  altura = float(input('Informe a sua altura em metros: '))\n",
        "  sexo = input('Digite o sexo (M/F): ')\n",
        "\n",
        "  soma_altura_turma += altura\n",
        "\n",
        "  if sexo.upper() == 'F':\n",
        "        soma_alturas_mulheres += altura\n",
        "        qtd_mulheres += 1\n",
        "\n",
        "media_altura_mulheres = soma_alturas_mulheres / qtd_mulheres if qtd_mulheres > 0 else 0\n",
        "media_altura_turma = soma_altura_turma / n if n > 0 else 0\n",
        "\n",
        "print(f\"Média da altura das mulheres: {media_altura_mulheres:.2f} m\")\n",
        "print(f\"Média da altura da turma: {media_altura_turma:.2f} m\")"
      ],
      "metadata": {
        "id": "6OcPU6zqUEzL"
      },
      "execution_count": null,
      "outputs": []
    },
    {
      "cell_type": "markdown",
      "source": [
        "23.Uma loja de departamentos oferece para seus clientes um determinado desconto de\n",
        "acordo com o valor da compra efetuada. O desconto é de 20% caso o valor da compra\n",
        "seja maior que R$ 500,00 e de 15% caso seja menor ou igual. Faça um algoritmo que\n",
        "leia, para cada cliente, nome, endereço e valor da compra e escreva o total a pagar.\n",
        "Um nome de cliente igual a ULTIMO indica o fim da entrada de dados."
      ],
      "metadata": {
        "id": "8cK2MeT3lJVC"
      }
    },
    {
      "cell_type": "code",
      "source": [
        "desconto_maior = 0.2\n",
        "desconto_menor = 0.15\n",
        "total_vendas = 0\n",
        "\n",
        "while True:\n",
        "  nome = input('Digite o nome do cliente: ')\n",
        "  if nome.upper() == 'ÚLTIMO':\n",
        "    break\n",
        "  endereco = input('Digite o endereço do cliente: ')\n",
        "  valor_compra = float(input('Digite o valor da compra: '))\n",
        "\n",
        "  if valor_compra > 500:\n",
        "    desconto = desconto_maior\n",
        "  else:\n",
        "    desconto = desconto_menor\n",
        "  valor_desconto = valor_compra * desconto\n",
        "  valor_pagar = valor_compra - valor_desconto\n",
        "\n",
        "  print(f'Cliente: {nome}')\n",
        "  print(f'Endereço: {endereco}')\n",
        "  print(f'Valor da compra: R${valor_compra:.2f}')\n",
        "  print(f'Desconto: {desconto*100:.0f}%')\n",
        "  print(f'Valor do desconto: R${valor_desconto:.2f}')\n",
        "  print(f'Total a pagar: R${valor_pagar:.2f}')\n",
        "  print(\"-\" * 30)\n",
        "\n",
        "  total_vendas += valor_pagar\n",
        "\n",
        "print(f'Total de vendas: R${total_vendas:.2f}')"
      ],
      "metadata": {
        "id": "BSFdBBCrlJiq"
      },
      "execution_count": null,
      "outputs": []
    },
    {
      "cell_type": "markdown",
      "source": [
        "24.Faça um algoritmo que leia valores, sendo que cada valor representa a idade de uma\n",
        "pessoa. Calcule e escreva a idade média do grupo de pessoas. Só devem ser\n",
        "computados no cálculo valores maiores do que zero. O algoritmo deve apresentar ao\n",
        "usuário a seguinte mensagem:\n",
        "\n",
        "deseja digitar mais um valor: s (SIM) / n (NAO)?,\n",
        "antes de prosseguir com a entrada de dados."
      ],
      "metadata": {
        "id": "62k7AsF7pfZE"
      }
    },
    {
      "cell_type": "code",
      "source": [
        "idades = []\n",
        "mais_um_valor = 's'\n",
        "\n",
        "while mais_um_valor == 's':\n",
        "    idade = int(input(\"Digite a idade: \"))\n",
        "    if idade > 0:\n",
        "        idades.append(idade)\n",
        "    mais_um_valor = input(\"Deseja digitar mais um valor? (s/n)\").lower()\n",
        "\n",
        "if len(idades) > 0:\n",
        "    media_idades = sum(idades) / len(idades)\n",
        "    print(f\"A média das idades é {media_idades:.2f}\")\n",
        "else:\n",
        "    print(\"Não foram digitadas idades válidas.\")"
      ],
      "metadata": {
        "id": "KKdxPuGHpfOZ"
      },
      "execution_count": null,
      "outputs": []
    },
    {
      "cell_type": "markdown",
      "source": [
        "25.Um hotel cobra 50,00 reais de diária por hóspede e mais uma taxa de serviços. A taxa de\n",
        "serviços é de:\n",
        "\n",
        "• 7,50 reais por diária, caso o número de diárias seja menor que 15;\n",
        "\n",
        "• 6,50 reais por diária, caso o número de diárias seja igual a 15;\n",
        "\n",
        "• 5,00 reais por diária, caso o número de diárias seja maior que 15.\n",
        "\n",
        "Faça um algoritmo que apresente as seguintes opções ao recepcionista:\n",
        "1. encerrar a conta de um hóspede\n",
        "2. verificar número de contas encerradas\n",
        "3. finalizar a execução\n",
        "Caso a opção escolhida seja a primeira, leia o nome e o número de diárias do hóspede\n",
        "e escreva o nome e total a ser pago. Caso a opção escolhida seja a segunda, informe o\n",
        "número de hóspedes que deixaram o hotel (número de contas encerradas)."
      ],
      "metadata": {
        "id": "CrPppS81pMtO"
      }
    },
    {
      "cell_type": "code",
      "source": [
        "valor_diaria = 50.0\n",
        "taxa_servico_menor15 = 7.5\n",
        "taxa_servico_igual15 = 6.5\n",
        "taxa_servico_maior15 = 5.0\n",
        "\n",
        "contas_encerradas = 0\n",
        "hospedes_encerrados = []\n",
        "\n",
        "while True:\n",
        "    print(\"\\nSelecione uma opção:\")\n",
        "    print(\"1 - Encerrar conta de um hóspede\")\n",
        "    print(\"2 - Verificar número de contas encerradas\")\n",
        "    print(\"3 - Finalizar execução\")\n",
        "\n",
        "    opcao = int(input(\"Digite sua escolha (1, 2 ou 3): \"))\n",
        "\n",
        "    if opcao == 1:\n",
        "        nome = input(\"Digite o nome do hóspede: \")\n",
        "        diarias = int(input(\"Digite o número de diárias: \"))\n",
        "\n",
        "        total_diarias = valor_diaria * diarias\n",
        "\n",
        "        if diarias < 15:\n",
        "            taxa_servico = taxa_servico_menor15\n",
        "        elif diarias == 15:\n",
        "            taxa_servico = taxa_servico_igual15\n",
        "        else:\n",
        "            taxa_servico = taxa_servico_maior15\n",
        "\n",
        "        total_servico = taxa_servico * diarias\n",
        "        total_conta = total_diarias + total_servico\n",
        "\n",
        "        print(f\"\\nNome: {nome}\")\n",
        "        print(f\"Total a pagar: R${total_conta:.2f}\")\n",
        "        hospedes_encerrados.append(nome)\n",
        "        contas_encerradas += 1\n",
        "\n",
        "    elif opcao == 2:\n",
        "        print(f\"\\nNúmero de contas encerradas: {contas_encerradas}\")\n",
        "        print(f\"Hóspedes encerrados: {hospedes_encerrados}\")\n",
        "\n",
        "    elif opcao == 3:\n",
        "        break\n",
        "\n",
        "    else:\n",
        "        print(\"Opção inválida! Tente novamente.\")"
      ],
      "metadata": {
        "id": "CB50zkM_pNX-"
      },
      "execution_count": null,
      "outputs": []
    },
    {
      "cell_type": "markdown",
      "source": [
        "26.Um determinado material radioativo perde metade de sua massa a cada 50 segundos.\n",
        "Dada a sua massa inicial em Kg, faça um algoritmo que determine o tempo necessário\n",
        "para que essa massa se torne menor que 0,5 gramas. Escreva a massa inicial, a massa\n",
        "final e o tempo."
      ],
      "metadata": {
        "id": "ESnxQ5VnqTyv"
      }
    },
    {
      "cell_type": "code",
      "source": [
        "import math\n",
        "\n",
        "massa_inicial = float(input('Digite a massa incial (kg): '))\n",
        "massa_final =  0.0005\n",
        "t = 50 * math.log2(massa_inicial/massa_final)\n",
        "\n",
        "print(f'Massa inicial: {massa_inicial} kg')\n",
        "print(f'Massa final: {massa_final} kg')\n",
        "print(f'Tempo necessário: {t:.2f} segundos')"
      ],
      "metadata": {
        "colab": {
          "base_uri": "https://localhost:8080/"
        },
        "id": "LZTB_1vOqZSp",
        "outputId": "f9320ae8-ed32-444c-8136-6dbda71ba797"
      },
      "execution_count": 13,
      "outputs": [
        {
          "output_type": "stream",
          "name": "stdout",
          "text": [
            "Digite a massa incial (kg): 20\n",
            "Massa inicial: 20.0 kg\n",
            "Massa final: 0.0005 kg\n",
            "Tempo necessário: 764.39 segundos\n"
          ]
        }
      ]
    },
    {
      "cell_type": "markdown",
      "source": [
        "27.Um motorista acaba de voltar de um feriado prolongado. Antes de sair de viagem e\n",
        "imediatamente após retornar, o motorista encheu o tanque do veículo e registrou as\n",
        "medidas do odômetro. Em cada parada feita durante a viagem, foi registrado o valor\n",
        "do odômetro e a quantidade de combustível comprado para reabastecer o veículo\n",
        "(suponha que o tanque ficou vazio e foi enchido a cada parada). Faça um algoritmo\n",
        "que leia o número total de reabastecimentos feitos (incluindo o primeiro) e os dados\n",
        "registrados relativos à compra de combustível. Calcule e escreva:\n",
        "\n",
        "a) a quilometragem obtida por litro de combustível entre cada par de paradas\n",
        "\n",
        "b) a quilometragem média obtida por litro de combustível em toda a viagem."
      ],
      "metadata": {
        "id": "k0d7q7rirTpS"
      }
    },
    {
      "cell_type": "code",
      "source": [
        "n = int(input(\"Número de reabastecimentos feitos: \"))\n",
        "\n",
        "odometro_anterior = int(input(\"Odômetro inicial: \"))\n",
        "quantidade_combustivel = float(input(\"Quantidade de combustível comprado (em litros): \"))\n",
        "\n",
        "distancia_total = 0\n",
        "combustivel_total = quantidade_combustivel\n",
        "\n",
        "for i in range(2, n+1):\n",
        "    odometro_atual = int(input(f\"Odômetro na parada {i}: \"))\n",
        "    quantidade_combustivel = float(input(f\"Quantidade de combustível comprado na parada {i} (em litros): \"))\n",
        "\n",
        "    distancia_parcial = odometro_atual - odometro_anterior\n",
        "    quilometragem = distancia_parcial / quantidade_combustivel\n",
        "\n",
        "    print(f\"Quilometragem obtida entre a parada {i-1} e a parada {i}: {quilometragem:.2f} km/l\")\n",
        "\n",
        "    distancia_total += distancia_parcial\n",
        "    combustivel_total += quantidade_combustivel\n",
        "    odometro_anterior = odometro_atual\n",
        "\n",
        "quilometragem_media = distancia_total / combustivel_total\n",
        "print(f\"Quilometragem média em toda a viagem: {quilometragem_media:.2f} km/l\")\n"
      ],
      "metadata": {
        "id": "x0od01yDrYvj"
      },
      "execution_count": null,
      "outputs": []
    },
    {
      "cell_type": "markdown",
      "source": [
        "28.Em uma disputa de pingue-pongue os pontos são anotados como D, ponto para o\n",
        "jogador do lado direito, e E, ponto para o jogador do lado esquerdo da mesa. Faça um\n",
        "algoritmo que leia o código do ponto de cada jogada e determine o vencedor. A\n",
        "partida encerra quando:\n",
        "\n",
        "a) um dos jogadores chegar a 21 pontos e a diferença de pontos entre os jogadores for\n",
        "maior ou igual a dois;\n",
        "\n",
        "b) o jogador com mais de 21 pontos conseguir uma diferença de dois pontos sobre o\n",
        "adversário, caso a primeira condição não seja atendida."
      ],
      "metadata": {
        "id": "Ioth5-HatAaG"
      }
    },
    {
      "cell_type": "code",
      "source": [
        "direita = 0\n",
        "esquerda = 0\n",
        "vencedor = None\n",
        "\n",
        "while vencedor is None:\n",
        "  ponto = input('Digite o código do ponto (D/E): ')\n",
        "  if ponto == 'D':\n",
        "    direita += 1\n",
        "  elif ponto == 'E':\n",
        "    esquerda += 1\n",
        "  else:\n",
        "    print('\\033[1;31m' + 'Ponto inválido! Tente novamente.')\n",
        "    continue\n",
        "\n",
        "    diferenca = abs(direita - esquerda)\n",
        "    if (direita >= 21 and diferenca >= 2) or (esquerda >= 21 and diferenca >= 2):\n",
        "        if direita > esquerda:\n",
        "            vencedor = \"direita\"\n",
        "        else:\n",
        "            vencedor = \"esquerda\"\n",
        "    elif pontos_direita > 21 and direita > esquerda + 1:\n",
        "        vencedor = \"direita\"\n",
        "    elif esquerda > 21 and esquerda > direita + 1:\n",
        "        vencedor = \"esquerda\"\n",
        "\n",
        "print('\\033[1;33m' + f\"Partida encerrada. O vencedor é o jogador da {vencedor}!\")"
      ],
      "metadata": {
        "id": "gAutw7zWtC6K"
      },
      "execution_count": null,
      "outputs": []
    },
    {
      "cell_type": "markdown",
      "source": [
        "29.Os regulamentos de uma competição de pesca impõem um limite no peso total de\n",
        "pesca de um dia. Faça um algoritmo que leia o limite diário (em quilogramas) e então\n",
        "leia o peso (em gramas) de cada peixe e escreva o peso total da pesca obtido até\n",
        "aquele ponto. Quando o limite diário for excedido escreva uma mensagem e encerre a\n",
        "execução do algoritmo. O algoritmo deve ainda apresentar ao usuário a seguinte\n",
        "mensagem: informar o peso de mais um peixe: s (SIM) / n (NÃO)? antes de prosseguir\n",
        "com a entrada de dados."
      ],
      "metadata": {
        "id": "VwXr_ct0vAZm"
      }
    },
    {
      "cell_type": "code",
      "source": [
        "limite = float(input('Digite o limite diário de pesca (em kg): '))\n",
        "peso_total = 0\n",
        "sim = 's'\n",
        "\n",
        "while sim == 's':\n",
        "  peso = float(input('Informe o peso do peixe (em gramas): '))\n",
        "  peso_total += peso / 1000\n",
        "\n",
        "  if peso_total > limite:\n",
        "    print('\\033[1;31m' + 'Limite excedido!')\n",
        "    break\n",
        "\n",
        "  sim = input('Deseja informar o peso de mais um peixe? (s/n)').lower()\n",
        "\n",
        "print(f'Peso total: {peso_total:.2f} kg')\n"
      ],
      "metadata": {
        "id": "0asa6kjhvBrM"
      },
      "execution_count": null,
      "outputs": []
    },
    {
      "cell_type": "markdown",
      "source": [
        "30.Foi feita uma pesquisa do consumo mensal de energia elétrica em uma determinada\n",
        "cidade. Para cada consumidor, são fornecidos os seguintes dados: número de\n",
        "identificação do consumidor, quantidade de kWh consumidos durante o mês, código\n",
        "do tipo de consumidor (R - residencial, C - comercial, I - industrial). Faça um algoritmo\n",
        "que:\n",
        "\n",
        "a) leia o preço do kWh por tipo de consumidor;\n",
        "\n",
        "b) leia os dados de n consumidores;\n",
        "\n",
        "c) escreva o número de identificação e o total a pagar, para cada consumidor;\n",
        "\n",
        "d) escreva a quantidade total de KWh consumida para cada um dos três tipos de\n",
        "consumidores;\n",
        "\n",
        "e) escreva a quantidade média geral de consumo."
      ],
      "metadata": {
        "id": "m6zHYUUuzV3f"
      }
    },
    {
      "cell_type": "code",
      "source": [
        "preco_residencial = float(input('Digite o preço residencial do kWh para consumidores residenciais: '))\n",
        "preco_comercial = float(input('Digite o preço comercial do kWh para consumidores residenciais: '))\n",
        "preco_industrial = float(input('Digite o preço industrial do kWh para consumidores residenciais: '))\n",
        "\n",
        "total_residencial = total_comercial = total_industrial = quantidade_total = 0\n",
        "\n",
        "n = int(input('Digite o número de consumidores: '))\n",
        "\n",
        "for i in range(n):\n",
        "  identificacao = int(input('Digite o número de identificação do consumidor: '))\n",
        "  quantidade_kwh = float(input(\"Digite a quantidade de kWh consumida: \"))\n",
        "  tipo_consumidor = input(\"Digite o tipo do consumidor (R/C/I): \")\n",
        "\n",
        "  if tipo_consumidor == \"R\":\n",
        "        valor_pagar = quantidade_kwh * preco_residencial\n",
        "        total_residencial += quantidade_kwh\n",
        "  elif tipo_consumidor == \"C\":\n",
        "        valor_pagar = quantidade_kwh * preco_comercial\n",
        "        total_comercial += quantidade_kwh\n",
        "  elif tipo_consumidor == \"I\":\n",
        "        valor_pagar = quantidade_kwh * preco_industrial\n",
        "        total_industrial += quantidade_kwh\n",
        "  else:\n",
        "        print(\"Tipo de consumidor inválido.\")\n",
        "        continue\n",
        "\n",
        "  print(f\"Consumidor {identificacao}: total a pagar = R$ {valor_pagar:.2f}\")\n",
        "  quantidade_total += quantidade_kwh\n",
        "\n",
        "print(f\"Total de kWh consumidos por residenciais: {total_residencial}\")\n",
        "print(f\"Total de kWh consumidos por comerciais: {total_comercial}\")\n",
        "print(f\"Total de kWh consumidos por industriais: {total_industrial}\")\n",
        "\n",
        "quantidade_media = quantidade_total / n\n",
        "print(f\"Quantidade média geral de consumo: {quantidade_media:.2f} kWh\")"
      ],
      "metadata": {
        "id": "HMwycgfNzaMS"
      },
      "execution_count": null,
      "outputs": []
    }
  ]
}