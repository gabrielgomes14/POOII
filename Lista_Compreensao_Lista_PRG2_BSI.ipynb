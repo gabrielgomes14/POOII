{
  "nbformat": 4,
  "nbformat_minor": 0,
  "metadata": {
    "colab": {
      "provenance": [],
      "authorship_tag": "ABX9TyPn8AoUvY6deZHSi6mbvoYw"
    },
    "kernelspec": {
      "name": "python3",
      "display_name": "Python 3"
    },
    "language_info": {
      "name": "python"
    }
  },
  "cells": [
    {
      "cell_type": "markdown",
      "source": [
        "1. Crie uma lista com os números de 1 a 10 usando compreensão de lista."
      ],
      "metadata": {
        "id": "6-83cRoww6hF"
      }
    },
    {
      "cell_type": "code",
      "execution_count": 1,
      "metadata": {
        "colab": {
          "base_uri": "https://localhost:8080/"
        },
        "id": "5L8SOmNFwezq",
        "outputId": "238b1ef7-dc64-46a7-de4b-3eda502f2e67"
      },
      "outputs": [
        {
          "output_type": "stream",
          "name": "stdout",
          "text": [
            "[1, 2, 3, 4, 5, 6, 7, 8, 9, 10]\n"
          ]
        }
      ],
      "source": [
        "lista = [i for i in range(1, 11)]\n",
        "print(lista)"
      ]
    },
    {
      "cell_type": "markdown",
      "source": [
        "2. Crie uma lista com os números ímpares de 1 a 50."
      ],
      "metadata": {
        "id": "cdtOBwYJxBYx"
      }
    },
    {
      "cell_type": "code",
      "source": [
        "lista = [i for i in range(1, 51)\n",
        "if i % 2 != 0]\n",
        "print(lista)"
      ],
      "metadata": {
        "id": "oUUhflgTxI9o"
      },
      "execution_count": null,
      "outputs": []
    },
    {
      "cell_type": "markdown",
      "source": [
        "3. Crie uma lista com as letras maiúsculas de uma string qualquer."
      ],
      "metadata": {
        "id": "WV5YWPZJxQ0_"
      }
    },
    {
      "cell_type": "code",
      "source": [
        "s = \"String\"\n",
        "lista = [char for char in s if char.isupper()]\n",
        "print(lista)"
      ],
      "metadata": {
        "colab": {
          "base_uri": "https://localhost:8080/"
        },
        "id": "8c7vpALZxVS1",
        "outputId": "a9e80eeb-3a33-416b-e87c-be72889972f1"
      },
      "execution_count": 10,
      "outputs": [
        {
          "output_type": "stream",
          "name": "stdout",
          "text": [
            "['S']\n"
          ]
        }
      ]
    },
    {
      "cell_type": "markdown",
      "source": [
        "4. Crie uma lista com o comprimento de cada palavra em uma string."
      ],
      "metadata": {
        "id": "sAM6mAsaxUQu"
      }
    },
    {
      "cell_type": "code",
      "source": [
        "texto = \"Olá, como você está?\"\n",
        "comprimentos=[len(palavra)\n",
        "for palavra in texto.split()]\n",
        "print(comprimentos)"
      ],
      "metadata": {
        "id": "3d_TCDPJx91Y"
      },
      "execution_count": null,
      "outputs": []
    },
    {
      "cell_type": "markdown",
      "source": [
        "5. Crie uma lista com os números divisíveis por 3 e 5 de 1 a 30."
      ],
      "metadata": {
        "id": "d6DQsITtycED"
      }
    },
    {
      "cell_type": "code",
      "source": [
        "lista = [i for i in range(1, 31) if i % 3 == 0 and i % 5 == 0]\n",
        "print(lista)"
      ],
      "metadata": {
        "id": "64ekNev4yr_d"
      },
      "execution_count": null,
      "outputs": []
    },
    {
      "cell_type": "markdown",
      "source": [
        "6. Crie uma lista com as palavras de uma string que tenham mais de 3 letras."
      ],
      "metadata": {
        "id": "O0SycQKeyuH8"
      }
    },
    {
      "cell_type": "code",
      "source": [
        "texto = \"Exemplo\"\n",
        "palavras = [palavra for palavra in texto.split() if len(palavra) > 3]\n",
        "print(palavras)"
      ],
      "metadata": {
        "colab": {
          "base_uri": "https://localhost:8080/"
        },
        "id": "N_pxUwRyzLpB",
        "outputId": "6a30f652-b6d9-4069-b28e-bacc0acc7958"
      },
      "execution_count": 15,
      "outputs": [
        {
          "output_type": "stream",
          "name": "stdout",
          "text": [
            "['Exemplo']\n"
          ]
        }
      ]
    },
    {
      "cell_type": "markdown",
      "source": [
        "7. Crie uma lista com os números primos de 1 a 20. Dica: use uma função para\n",
        "verificar se o número é primo ou não."
      ],
      "metadata": {
        "id": "-NtICIfBywLw"
      }
    },
    {
      "cell_type": "code",
      "source": [
        "def eh_primo(n):\n",
        "    for i in range(2, n):\n",
        "        if n % i == 0:\n",
        "            return False\n",
        "    return True\n",
        "\n",
        "primos = [n for n in range(2, 21) if eh_primo(n)]\n",
        "print(primos)"
      ],
      "metadata": {
        "id": "xYexeqyZyyYx"
      },
      "execution_count": null,
      "outputs": []
    },
    {
      "cell_type": "markdown",
      "source": [
        "8. Crie uma lista com as datas de todos os dias de janeiro em um ano bissexto\n",
        "(considerando que um ano bissexto é divisível por 4)."
      ],
      "metadata": {
        "id": "2eSuUhoCyv3z"
      }
    },
    {
      "cell_type": "code",
      "source": [
        "import datetime\n",
        "ano = 2024\n",
        "datas_janeiro = [datetime.date(ano, 1, dia) for dia in range(1, 32)]\n",
        "print(datas_janeiro)"
      ],
      "metadata": {
        "colab": {
          "base_uri": "https://localhost:8080/"
        },
        "id": "3lMAWIrAz53H",
        "outputId": "08eafdd7-34b4-4cab-d9b4-0009d7465a33"
      },
      "execution_count": 16,
      "outputs": [
        {
          "output_type": "stream",
          "name": "stdout",
          "text": [
            "[datetime.date(2024, 1, 1), datetime.date(2024, 1, 2), datetime.date(2024, 1, 3), datetime.date(2024, 1, 4), datetime.date(2024, 1, 5), datetime.date(2024, 1, 6), datetime.date(2024, 1, 7), datetime.date(2024, 1, 8), datetime.date(2024, 1, 9), datetime.date(2024, 1, 10), datetime.date(2024, 1, 11), datetime.date(2024, 1, 12), datetime.date(2024, 1, 13), datetime.date(2024, 1, 14), datetime.date(2024, 1, 15), datetime.date(2024, 1, 16), datetime.date(2024, 1, 17), datetime.date(2024, 1, 18), datetime.date(2024, 1, 19), datetime.date(2024, 1, 20), datetime.date(2024, 1, 21), datetime.date(2024, 1, 22), datetime.date(2024, 1, 23), datetime.date(2024, 1, 24), datetime.date(2024, 1, 25), datetime.date(2024, 1, 26), datetime.date(2024, 1, 27), datetime.date(2024, 1, 28), datetime.date(2024, 1, 29), datetime.date(2024, 1, 30), datetime.date(2024, 1, 31)]\n"
          ]
        }
      ]
    },
    {
      "cell_type": "markdown",
      "source": [
        "9. Crie uma lista de strings com os primeiros 10 nomes da lista de nomes."
      ],
      "metadata": {
        "id": "Gy8R3q0j0XwC"
      }
    },
    {
      "cell_type": "code",
      "source": [
        "nomes = [\"Alice\", \"Bianca\", \"Caio\", \"Danilo\", \"Edson\", \"Fernanda\", \"Gabriel\", \"Helena\", \"Ícaro\", \"Juliana\", \"Kaio\", \"Laura\"]\n",
        "primeiros_10_nomes = nomes[:10]\n",
        "print(primeiros_10_nomes)"
      ],
      "metadata": {
        "colab": {
          "base_uri": "https://localhost:8080/"
        },
        "id": "jV7DpKhh0kek",
        "outputId": "13b64957-5ad9-4c1f-f55a-9b2885e52f5c"
      },
      "execution_count": 17,
      "outputs": [
        {
          "output_type": "stream",
          "name": "stdout",
          "text": [
            "['Alice', 'Bianca', 'Caio', 'Danilo', 'Edson', 'Fernanda', 'Gabriel', 'Helena', 'Ícaro', 'Juliana']\n"
          ]
        }
      ]
    },
    {
      "cell_type": "markdown",
      "source": [
        "10. Crie uma lista de strings com os nomes dos primeiros 10 nomes da lista de\n",
        "nomes, mas com as primeiras letras maiúsculas."
      ],
      "metadata": {
        "id": "zwfJW6GP0YEN"
      }
    },
    {
      "cell_type": "code",
      "source": [
        "nomes = ['mariana', 'jair', 'joao', 'ana', 'paulo', 'carlos', 'pedro', 'lucas', 'luiza', 'juliana']\n",
        "nomes_maiuscula = [nome.title() for nome in nomes]\n",
        "print(nomes_maiuscula)"
      ],
      "metadata": {
        "id": "ROaAJBGF2e2M"
      },
      "execution_count": null,
      "outputs": []
    },
    {
      "cell_type": "markdown",
      "source": [
        "11. Crie uma lista de strings com os nomes dos primeiros 10 nomes da lista de\n",
        "nomes, mas sem as vogais."
      ],
      "metadata": {
        "id": "eE_lVcG50Ydm"
      }
    },
    {
      "cell_type": "code",
      "source": [
        "nomes = ['mariana', 'jair', 'joao', 'ana', 'paulo', 'carlos', 'pedro', 'lucas', 'luiza', 'juliana']\n",
        "nomes_sem_vogais = []\n",
        "for nome in nomes:\n",
        "    nome_novo = ''\n",
        "    for letra in nome:\n",
        "        if letra not in 'aeiou':\n",
        "            nome_novo += letra\n",
        "    nomes_sem_vogais.append(nome_novo)\n",
        "print(nomes_sem_vogais)"
      ],
      "metadata": {
        "colab": {
          "base_uri": "https://localhost:8080/"
        },
        "id": "wUL1OKjF3L35",
        "outputId": "3fb831d7-e5e3-46ad-fe7a-7a815116c689"
      },
      "execution_count": 18,
      "outputs": [
        {
          "output_type": "stream",
          "name": "stdout",
          "text": [
            "['mrn', 'jr', 'j', 'n', 'pl', 'crls', 'pdr', 'lcs', 'lz', 'jln']\n"
          ]
        }
      ]
    },
    {
      "cell_type": "markdown",
      "source": [
        "12. Concatenar elementos de sub-listas em uma única lista"
      ],
      "metadata": {
        "id": "gCpUsyBF0Ysv"
      }
    },
    {
      "cell_type": "code",
      "source": [
        "lista = [['a', 'b', 'c'], [1, 2, 3], ['x', 'y', 'z']]\n",
        "lista_unica = []\n",
        "for sub_lista in lista:\n",
        "    lista_unica.extend(sub_lista)\n",
        "print(lista_unica)"
      ],
      "metadata": {
        "colab": {
          "base_uri": "https://localhost:8080/"
        },
        "id": "so2-kASh31JG",
        "outputId": "24884e97-4961-4a9f-8a8e-7962a8ce38dd"
      },
      "execution_count": 19,
      "outputs": [
        {
          "output_type": "stream",
          "name": "stdout",
          "text": [
            "['a', 'b', 'c', 1, 2, 3, 'x', 'y', 'z']\n"
          ]
        }
      ]
    },
    {
      "cell_type": "markdown",
      "source": [
        "13. Criar um dicionário a partir de duas listas"
      ],
      "metadata": {
        "id": "edJcSXwT0Y83"
      }
    },
    {
      "cell_type": "code",
      "source": [
        "chaves = ['animal', 'cor', 'comida']\n",
        "valores = ['gato', 'azul', 'pizza']\n",
        "dicionario = dict(zip(chaves, valores))\n",
        "print(dicionario)"
      ],
      "metadata": {
        "colab": {
          "base_uri": "https://localhost:8080/"
        },
        "id": "l_lh8UY_4JqQ",
        "outputId": "af3a71f5-ce98-4743-fd9d-5bc76de55105"
      },
      "execution_count": 20,
      "outputs": [
        {
          "output_type": "stream",
          "name": "stdout",
          "text": [
            "{'animal': 'gato', 'cor': 'azul', 'comida': 'pizza'}\n"
          ]
        }
      ]
    }
  ]
}