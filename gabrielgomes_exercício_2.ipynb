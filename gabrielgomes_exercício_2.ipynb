{
  "nbformat": 4,
  "nbformat_minor": 0,
  "metadata": {
    "colab": {
      "provenance": [],
      "authorship_tag": "ABX9TyNH1VSs0TGuX2iq4CW6mFNS"
    },
    "kernelspec": {
      "name": "python3",
      "display_name": "Python 3"
    },
    "language_info": {
      "name": "python"
    }
  },
  "cells": [
    {
      "cell_type": "code",
      "execution_count": 3,
      "metadata": {
        "colab": {
          "base_uri": "https://localhost:8080/"
        },
        "id": "FlhYHsV-3CkB",
        "outputId": "8a301e75-8132-4398-8893-ab41de750737"
      },
      "outputs": [
        {
          "output_type": "stream",
          "name": "stdout",
          "text": [
            "Tempo Bubble Sort: 0.04912 segundos\n",
            "Tempo Quick Sort: 0.00205 segundos\n",
            "Tempo Busca Linear: 0.00000 segundos\n",
            "Tempo Busca Binária: 0.00015 segundos\n",
            "Tempo Fibonacci Iterativo: 0.00001 segundos\n",
            "Tempo Fibonacci Recursivo: 0.17007 segundos\n",
            "Tempo Remover Duplicatas Set: 0.00007 segundos\n",
            "Tempo Remover Duplicatas Iterativo: 0.00365 segundos\n",
            "Tempo Exponenciação Iterativa: 0.00001 segundos\n",
            "Tempo Exponenciação Recursiva: 0.00002 segundos\n"
          ]
        }
      ],
      "source": [
        "import time\n",
        "import random\n",
        "\n",
        "def bubble_sort(arr):\n",
        "    n = len(arr)\n",
        "    for i in range(n):\n",
        "        for j in range(0, n-i-1):\n",
        "            if arr[j] > arr[j+1]:\n",
        "                arr[j], arr[j+1] = arr[j+1], arr[j]\n",
        "\n",
        "def quick_sort(arr):\n",
        "    if len(arr) <= 1:\n",
        "        return arr\n",
        "    pivot = arr[len(arr) // 2]\n",
        "    left = [x for x in arr if x < pivot]\n",
        "    middle = [x for x in arr if x == pivot]\n",
        "    right = [x for x in arr if x > pivot]\n",
        "    return quick_sort(left) + middle + quick_sort(right)\n",
        "\n",
        "def busca_linear(arr, alvo):\n",
        "    for i in arr:\n",
        "        if i == alvo:\n",
        "            return True\n",
        "    return False\n",
        "\n",
        "def busca_binaria(arr, alvo):\n",
        "    arr.sort()\n",
        "    esquerda, direita = 0, len(arr) - 1\n",
        "    while esquerda <= direita:\n",
        "        meio = (esquerda + direita) // 2\n",
        "        if arr[meio] == alvo:\n",
        "            return True\n",
        "        elif arr[meio] < alvo:\n",
        "            esquerda = meio + 1\n",
        "        else:\n",
        "            direita = meio - 1\n",
        "    return False\n",
        "\n",
        "def fibonacci_iterativo(n):\n",
        "    a, b = 0, 1\n",
        "    for _ in range(n):\n",
        "        a, b = b, a + b\n",
        "    return a\n",
        "\n",
        "def fibonacci_recursivo(n):\n",
        "    if n <= 1:\n",
        "        return n\n",
        "    return fibonacci_recursivo(n-1) + fibonacci_recursivo(n-2)\n",
        "\n",
        "def remover_duplicatas_set(arr):\n",
        "    return list(set(arr))\n",
        "\n",
        "def remover_duplicatas_iterativo(arr):\n",
        "    resultado = []\n",
        "    for elemento in arr:\n",
        "        if elemento not in resultado:\n",
        "            resultado.append(elemento)\n",
        "    return resultado\n",
        "\n",
        "def exponenciacao_iterativa(base, expoente):\n",
        "    resultado = 1\n",
        "    for _ in range(expoente):\n",
        "        resultado *= base\n",
        "    return resultado\n",
        "\n",
        "def exponenciacao_recursiva(base, expoente):\n",
        "    if expoente == 0:\n",
        "        return 1\n",
        "    return base * exponenciacao_recursiva(base, expoente - 1)\n",
        "\n",
        "def testar_algoritmo(funcao, *args):\n",
        "    inicio = time.time()\n",
        "    funcao(*args)\n",
        "    fim = time.time()\n",
        "    return fim - inicio\n",
        "\n",
        "lista_aleatoria = [random.randint(0, 1000) for _ in range(1000)]\n",
        "numero_aleatorio = random.choice(lista_aleatoria)\n",
        "\n",
        "print(f\"Tempo Bubble Sort: {testar_algoritmo(bubble_sort, lista_aleatoria[:]):.5f} segundos\")\n",
        "print(f\"Tempo Quick Sort: {testar_algoritmo(lambda arr: quick_sort(arr), lista_aleatoria[:]):.5f} segundos\")\n",
        "print(f\"Tempo Busca Linear: {testar_algoritmo(busca_linear, lista_aleatoria[:], numero_aleatorio):.5f} segundos\")\n",
        "print(f\"Tempo Busca Binária: {testar_algoritmo(busca_binaria, lista_aleatoria[:], numero_aleatorio):.5f} segundos\")\n",
        "print(f\"Tempo Fibonacci Iterativo: {testar_algoritmo(fibonacci_iterativo, 30):.5f} segundos\")\n",
        "print(f\"Tempo Fibonacci Recursivo: {testar_algoritmo(fibonacci_recursivo, 30):.5f} segundos\")\n",
        "print(f\"Tempo Remover Duplicatas Set: {testar_algoritmo(remover_duplicatas_set, lista_aleatoria[:]):.5f} segundos\")\n",
        "print(f\"Tempo Remover Duplicatas Iterativo: {testar_algoritmo(remover_duplicatas_iterativo, lista_aleatoria[:]):.5f} segundos\")\n",
        "print(f\"Tempo Exponenciação Iterativa: {testar_algoritmo(exponenciacao_iterativa, 2, 10):.5f} segundos\")\n",
        "print(f\"Tempo Exponenciação Recursiva: {testar_algoritmo(exponenciacao_recursiva, 2, 10):.5f} segundos\")"
      ]
    }
  ]
}