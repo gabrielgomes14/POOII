{
  "nbformat": 4,
  "nbformat_minor": 0,
  "metadata": {
    "colab": {
      "provenance": [],
      "authorship_tag": "ABX9TyN8msgPA5wwCKAZ3x6TuU65"
    },
    "kernelspec": {
      "name": "python3",
      "display_name": "Python 3"
    },
    "language_info": {
      "name": "python"
    }
  },
  "cells": [
    {
      "cell_type": "markdown",
      "source": [
        "1. Crie um dicionário que contenha os nomes de 10 pessoas e suas respectivas\n",
        "idades."
      ],
      "metadata": {
        "id": "hwe7kcZ3sFrY"
      }
    },
    {
      "cell_type": "code",
      "execution_count": 4,
      "metadata": {
        "id": "26M0pDpUpSbH"
      },
      "outputs": [],
      "source": [
        "pessoas = {\n",
        "    'Gabriel': 19,\n",
        "    'Pedro': 40,\n",
        "    'Miguel': 60,\n",
        "    'Ana': 65,\n",
        "    'Maria': 27,\n",
        "    'Paula': 19,\n",
        "    'João': 32,\n",
        "    'Joana': 38,\n",
        "    'Cristina': 45,\n",
        "    'Lucas': 20\n",
        "}"
      ]
    },
    {
      "cell_type": "markdown",
      "source": [
        "2. Imprima o nome e a idade de todas as pessoas no dicionário."
      ],
      "metadata": {
        "id": "Aao_6s-3sYKq"
      }
    },
    {
      "cell_type": "code",
      "source": [
        "pessoas = {\n",
        "    'Gabriel': 19,\n",
        "    'Pedro': 40,\n",
        "    'Miguel': 60,\n",
        "    'Ana': 65,\n",
        "    'Maria': 27,\n",
        "    'Paula': 19,\n",
        "    'João': 32,\n",
        "    'Joana': 38,\n",
        "    'Cristina': 45,\n",
        "    'Lucas': 20\n",
        "}\n",
        "\n",
        "for nome, idade in pessoas.items():\n",
        "  print(f'{nome}: {idade}')"
      ],
      "metadata": {
        "colab": {
          "base_uri": "https://localhost:8080/"
        },
        "id": "mZwYDuY1sYho",
        "outputId": "f66e785c-6ed2-4301-8b1b-d6ee1f36b471"
      },
      "execution_count": 7,
      "outputs": [
        {
          "output_type": "stream",
          "name": "stdout",
          "text": [
            "Gabriel: 19\n",
            "Pedro: 40\n",
            "Miguel: 60\n",
            "Ana: 65\n",
            "Maria: 27\n",
            "Paula: 19\n",
            "João: 32\n",
            "Joana: 38\n",
            "Cristina: 45\n",
            "Lucas: 20\n"
          ]
        }
      ]
    },
    {
      "cell_type": "markdown",
      "source": [
        "3. Crie uma função que receba um nome como parâmetro e retorne a idade da\n",
        "pessoa correspondente no dicionário."
      ],
      "metadata": {
        "id": "u57GDwokv7ie"
      }
    },
    {
      "cell_type": "code",
      "source": [
        "pessoas = {\n",
        "    'Gabriel': 19,\n",
        "    'Pedro': 40,\n",
        "    'Miguel': 60,\n",
        "    'Ana': 65,\n",
        "    'Maria': 27,\n",
        "    'Paula': 19,\n",
        "    'João': 32,\n",
        "    'Joana': 38,\n",
        "    'Cristina': 45,\n",
        "    'Lucas': 20\n",
        "}\n",
        "\n",
        "for nome, idade in pessoas.items():\n",
        "  print(f'{nome}: {idade}')\n",
        "\n",
        "def obter_idade(nome):\n",
        "  if nome in pessoas:\n",
        "    return pessoas[nome]\n",
        "  else:\n",
        "    return None\n",
        "\n",
        "def atualizar_idade(nome, nova_idade):\n",
        "    if nome in pessoas:\n",
        "        pessoas[nome] = nova_idade\n",
        "        print(f'Idade de {nome} atualizada para {nova_idade}')\n",
        "    else:\n",
        "        print(f'{nome} não encontrado no dicionário')\n",
        "\n",
        "atualizar_idade('Gabriel', 20)\n",
        "atualizar_idade('Lucas', 21)\n",
        "atualizar_idade('Fernanda', 30)"
      ],
      "metadata": {
        "colab": {
          "base_uri": "https://localhost:8080/"
        },
        "id": "OOOCIm5mxfvU",
        "outputId": "1c16f074-ec50-4fde-b966-22142fcbafab"
      },
      "execution_count": 12,
      "outputs": [
        {
          "output_type": "stream",
          "name": "stdout",
          "text": [
            "Gabriel: 19\n",
            "Pedro: 40\n",
            "Miguel: 60\n",
            "Ana: 65\n",
            "Maria: 27\n",
            "Paula: 19\n",
            "João: 32\n",
            "Joana: 38\n",
            "Cristina: 45\n",
            "Lucas: 20\n",
            "Idade de Gabriel atualizada para 20\n",
            "Idade de Lucas atualizada para 21\n",
            "Fernanda não encontrado no dicionário\n"
          ]
        }
      ]
    },
    {
      "cell_type": "markdown",
      "source": [
        "4. Crie uma função que receba um nome e uma nova idade como parâmetros e\n",
        "atualize a idade da pessoa correspondente no dicionário."
      ],
      "metadata": {
        "id": "dzXuSKG4x5g0"
      }
    },
    {
      "cell_type": "code",
      "source": [
        "pessoas = {\n",
        "    'Gabriel': 19,\n",
        "    'Pedro': 40,\n",
        "    'Miguel': 60,\n",
        "    'Ana': 65,\n",
        "    'Maria': 27,\n",
        "    'Paula': 19,\n",
        "    'João': 32,\n",
        "    'Joana': 38,\n",
        "    'Cristina': 45,\n",
        "    'Lucas': 20\n",
        "}\n",
        "\n",
        "for nome, idade in pessoas.items():\n",
        "  print(f'{nome}: {idade}')\n",
        "\n",
        "def obter_idade(nome):\n",
        "  if nome in pessoas:\n",
        "    return pessoas[nome]\n",
        "  else:\n",
        "    return None\n",
        "\n",
        "def atualizar_idade(nome, nova_idade):\n",
        "    if nome in pessoas:\n",
        "        pessoas[nome] = nova_idade\n",
        "        print(f'Idade de {nome} atualizada para {nova_idade}')\n",
        "    else:\n",
        "        print(f'{nome} não encontrado no dicionário')\n",
        "\n",
        "atualizar_idade('Gabriel', 20)\n",
        "atualizar_idade('Lucas', 21)\n",
        "atualizar_idade('Fernanda', 30)"
      ],
      "metadata": {
        "id": "stSJkpHl1_EH"
      },
      "execution_count": null,
      "outputs": []
    },
    {
      "cell_type": "markdown",
      "source": [
        "5. Crie uma função que remova uma pessoa do dicionário."
      ],
      "metadata": {
        "id": "xluvIhUV2JNy"
      }
    },
    {
      "cell_type": "code",
      "source": [
        "pessoas = {\n",
        "    'Gabriel': 19,\n",
        "    'Pedro': 40,\n",
        "    'Miguel': 60,\n",
        "    'Ana': 65,\n",
        "    'Maria': 27,\n",
        "    'Paula': 19,\n",
        "    'João': 32,\n",
        "    'Joana': 38,\n",
        "    'Cristina': 45,\n",
        "    'Lucas': 20\n",
        "}\n",
        "\n",
        "for nome, idade in pessoas.items():\n",
        "  print(f'{nome}: {idade}')\n",
        "\n",
        "def obter_idade(nome):\n",
        "  if nome in pessoas:\n",
        "    return pessoas[nome]\n",
        "  else:\n",
        "    return None\n",
        "\n",
        "def atualizar_idade(nome, nova_idade):\n",
        "    if nome in pessoas:\n",
        "        pessoas[nome] = nova_idade\n",
        "        print(f'Idade de {nome} atualizada para {nova_idade}')\n",
        "    else:\n",
        "        print(f'{nome} não encontrado no dicionário')\n",
        "\n",
        "def remover_pessoa(nome):\n",
        "    if nome in pessoas:\n",
        "        pessoas.pop(nome)\n",
        "        print(f'{nome} removido do dicionário')\n",
        "    else:\n",
        "        print(f'{nome} não encontrado no dicionário')\n",
        "\n",
        "atualizar_idade('Gabriel', 20)\n",
        "atualizar_idade('Lucas', 21)\n",
        "remover_pessoa('Fernanda')"
      ],
      "metadata": {
        "colab": {
          "base_uri": "https://localhost:8080/"
        },
        "id": "00Ddk2TE2LYN",
        "outputId": "ae6402ac-bec7-4e4a-f2ba-04da95d48eef"
      },
      "execution_count": 13,
      "outputs": [
        {
          "output_type": "stream",
          "name": "stdout",
          "text": [
            "Gabriel: 19\n",
            "Pedro: 40\n",
            "Miguel: 60\n",
            "Ana: 65\n",
            "Maria: 27\n",
            "Paula: 19\n",
            "João: 32\n",
            "Joana: 38\n",
            "Cristina: 45\n",
            "Lucas: 20\n",
            "Idade de Gabriel atualizada para 20\n",
            "Idade de Lucas atualizada para 21\n",
            "Fernanda não encontrado no dicionário\n"
          ]
        }
      ]
    },
    {
      "cell_type": "markdown",
      "source": [
        "6. Crie uma função que retorne a quantidade de pessoas no dicionário."
      ],
      "metadata": {
        "id": "8DxdJmbM2hM_"
      }
    },
    {
      "cell_type": "code",
      "source": [
        "pessoas = {\n",
        "    'Gabriel': 19,\n",
        "    'Pedro': 40,\n",
        "    'Miguel': 60,\n",
        "    'Ana': 65,\n",
        "    'Maria': 27,\n",
        "    'Paula': 19,\n",
        "    'João': 32,\n",
        "    'Joana': 38,\n",
        "    'Cristina': 45,\n",
        "    'Lucas': 20\n",
        "}\n",
        "\n",
        "for nome, idade in pessoas.items():\n",
        "    print(f'{nome}: {idade}')\n",
        "\n",
        "def obter_idade(nome):\n",
        "    if nome in pessoas:\n",
        "        return pessoas[nome]\n",
        "    else:\n",
        "        return None\n",
        "\n",
        "def atualizar_idade(nome, nova_idade):\n",
        "    if nome in pessoas:\n",
        "        pessoas[nome] = nova_idade\n",
        "        print(f'Idade de {nome} atualizada para {nova_idade}')\n",
        "    else:\n",
        "        print(f'{nome} não encontrado no dicionário')\n",
        "\n",
        "def remover_pessoa(nome):\n",
        "    if nome in pessoas:\n",
        "        pessoas.pop(nome)\n",
        "        print(f'{nome} removido do dicionário')\n",
        "    else:\n",
        "        print(f'{nome} não encontrado no dicionário')\n",
        "\n",
        "def quantidade_pessoas():\n",
        "    return len(pessoas)\n",
        "\n",
        "atualizar_idade('Gabriel', 20)\n",
        "atualizar_idade('Lucas', 21)\n",
        "remover_pessoa('Fernanda')\n",
        "print(f'Quantidade de pessoas no dicionário: {quantidade_pessoas()}')\n"
      ],
      "metadata": {
        "colab": {
          "base_uri": "https://localhost:8080/"
        },
        "id": "eu15wk-k22uo",
        "outputId": "81cfda3d-69af-4905-e392-898a7bcde74d"
      },
      "execution_count": 14,
      "outputs": [
        {
          "output_type": "stream",
          "name": "stdout",
          "text": [
            "Gabriel: 19\n",
            "Pedro: 40\n",
            "Miguel: 60\n",
            "Ana: 65\n",
            "Maria: 27\n",
            "Paula: 19\n",
            "João: 32\n",
            "Joana: 38\n",
            "Cristina: 45\n",
            "Lucas: 20\n",
            "Idade de Gabriel atualizada para 20\n",
            "Idade de Lucas atualizada para 21\n",
            "Fernanda não encontrado no dicionário\n",
            "Quantidade de pessoas no dicionário: 10\n"
          ]
        }
      ]
    },
    {
      "cell_type": "markdown",
      "source": [
        "7. Crie uma função que retorne a média das idades das pessoas no dicionário."
      ],
      "metadata": {
        "id": "vLr9399D28ML"
      }
    },
    {
      "cell_type": "code",
      "source": [
        "pessoas = {\n",
        "    'Gabriel': 19,\n",
        "    'Pedro': 40,\n",
        "    'Miguel': 60,\n",
        "    'Ana': 65,\n",
        "    'Maria': 27,\n",
        "    'Paula': 19,\n",
        "    'João': 32,\n",
        "    'Joana': 38,\n",
        "    'Cristina': 45,\n",
        "    'Lucas': 20\n",
        "}\n",
        "\n",
        "for nome, idade in pessoas.items():\n",
        "    print(f'{nome}: {idade}')\n",
        "\n",
        "def obter_idade(nome):\n",
        "    if nome in pessoas:\n",
        "        return pessoas[nome]\n",
        "    else:\n",
        "        return None\n",
        "\n",
        "def atualizar_idade(nome, nova_idade):\n",
        "    if nome in pessoas:\n",
        "        pessoas[nome] = nova_idade\n",
        "        print(f'Idade de {nome} atualizada para {nova_idade}')\n",
        "    else:\n",
        "        print(f'{nome} não encontrado no dicionário')\n",
        "\n",
        "def remover_pessoa(nome):\n",
        "    if nome in pessoas:\n",
        "        pessoas.pop(nome)\n",
        "        print(f'{nome} removido do dicionário')\n",
        "    else:\n",
        "        print(f'{nome} não encontrado no dicionário')\n",
        "\n",
        "def quantidade_pessoas():\n",
        "    return len(pessoas)\n",
        "\n",
        "def media_idades():\n",
        "    soma_idades = 0\n",
        "    for idade in pessoas.values():\n",
        "        soma_idades += idade\n",
        "    media = soma_idades / len(pessoas)\n",
        "    return media\n",
        "\n",
        "atualizar_idade('Gabriel', 20)\n",
        "atualizar_idade('Lucas', 21)\n",
        "remover_pessoa('Fernanda')\n",
        "print(f'Quantidade de pessoas no dicionário: {quantidade_pessoas()}')\n",
        "print(f'Média das idades: {media_idades()}')"
      ],
      "metadata": {
        "id": "Bzd0fASV28mv"
      },
      "execution_count": null,
      "outputs": []
    },
    {
      "cell_type": "markdown",
      "source": [
        "8. Crie uma função que retorne a pessoa mais velha do dicionário."
      ],
      "metadata": {
        "id": "6-Th0sAO3OKz"
      }
    },
    {
      "cell_type": "code",
      "source": [
        "pessoas = {\n",
        "    'Gabriel': 19,\n",
        "    'Pedro': 40,\n",
        "    'Miguel': 60,\n",
        "    'Ana': 65,\n",
        "    'Maria': 27,\n",
        "    'Paula': 19,\n",
        "    'João': 32,\n",
        "    'Joana': 38,\n",
        "    'Cristina': 45,\n",
        "    'Lucas': 20\n",
        "}\n",
        "\n",
        "for nome, idade in pessoas.items():\n",
        "    print(f'{nome}: {idade}')\n",
        "\n",
        "def obter_idade(nome):\n",
        "    if nome in pessoas:\n",
        "        return pessoas[nome]\n",
        "    else:\n",
        "        return None\n",
        "\n",
        "def atualizar_idade(nome, nova_idade):\n",
        "    if nome in pessoas:\n",
        "        pessoas[nome] = nova_idade\n",
        "        print(f'Idade de {nome} atualizada para {nova_idade}')\n",
        "    else:\n",
        "        print(f'{nome} não encontrado no dicionário')\n",
        "\n",
        "def remover_pessoa(nome):\n",
        "    if nome in pessoas:\n",
        "        pessoas.pop(nome)\n",
        "        print(f'{nome} removido do dicionário')\n",
        "    else:\n",
        "        print(f'{nome} não encontrado no dicionário')\n",
        "\n",
        "def quantidade_pessoas():\n",
        "    return len(pessoas)\n",
        "\n",
        "def media_idades():\n",
        "    soma_idades = 0\n",
        "    for idade in pessoas.values():\n",
        "        soma_idades += idade\n",
        "    media = soma_idades / len(pessoas)\n",
        "    return media\n",
        "\n",
        "def pessoa_mais_velha():\n",
        "    idade_maxima = 0\n",
        "    pessoa_mais_velha = None\n",
        "    for nome, idade in pessoas.items():\n",
        "        if idade > idade_maxima:\n",
        "            idade_maxima = idade\n",
        "            pessoa_mais_velha = nome\n",
        "    return pessoa_mais_velha\n",
        "\n",
        "atualizar_idade('Gabriel', 20)\n",
        "atualizar_idade('Lucas', 21)\n",
        "remover_pessoa('Fernanda')\n",
        "print(f'Quantidade de pessoas no dicionário: {quantidade_pessoas()}')\n",
        "print(f'Média das idades: {media_idades()}')\n",
        "print(f'Pessoa mais velha: {pessoa_mais_velha()}')"
      ],
      "metadata": {
        "id": "1Qg41XvS3hwF"
      },
      "execution_count": null,
      "outputs": []
    },
    {
      "cell_type": "markdown",
      "source": [
        "9. Crie uma função que retorne a pessoa mais nova do dicionário."
      ],
      "metadata": {
        "id": "LMPD41N83rsV"
      }
    },
    {
      "cell_type": "code",
      "source": [
        "class Pessoas:\n",
        "    def __init__(self):\n",
        "        self.pessoas = {\n",
        "            'Gabriel': 19,\n",
        "            'Pedro': 40,\n",
        "            'Miguel': 60,\n",
        "            'Ana': 65,\n",
        "            'Maria': 27,\n",
        "            'Paula': 19,\n",
        "            'João': 32,\n",
        "            'Joana': 38,\n",
        "            'Cristina': 45,\n",
        "            'Lucas': 20\n",
        "        }\n",
        "\n",
        "    def imprimir_pessoas(self):\n",
        "        for nome, idade in self.pessoas.items():\n",
        "            print(f'{nome}: {idade}')\n",
        "\n",
        "    def obter_idade(self, nome):\n",
        "        if nome in self.pessoas:\n",
        "            return self.pessoas[nome]\n",
        "        else:\n",
        "            return None\n",
        "\n",
        "    def atualizar_idade(self, nome, nova_idade):\n",
        "        if nome in self.pessoas:\n",
        "            self.pessoas[nome] = nova_idade\n",
        "            print(f'Idade de {nome} atualizada para {nova_idade}')\n",
        "        else:\n",
        "            print(f'{nome} não encontrado no dicionário')\n",
        "\n",
        "    def remover_pessoa(self, nome):\n",
        "        if nome in self.pessoas:\n",
        "            self.pessoas.pop(nome)\n",
        "            print(f'{nome} removido do dicionário')\n",
        "        else:\n",
        "            print(f'{nome} não encontrado no dicionário')\n",
        "\n",
        "    def quantidade_pessoas(self):\n",
        "        return len(self.pessoas)\n",
        "\n",
        "    def media_idades(self):\n",
        "        soma_idades = 0\n",
        "        for idade in self.pessoas.values():\n",
        "            soma_idades += idade\n",
        "        media = soma_idades / len(self.pessoas)\n",
        "        return media\n",
        "\n",
        "    def pessoa_mais_velha(self):\n",
        "        idade_maxima = 0\n",
        "        pessoa_mais_velha = None\n",
        "        for nome, idade in self.pessoas.items():\n",
        "            if idade > idade_maxima:\n",
        "                idade_maxima = idade\n",
        "                pessoa_mais_velha = nome\n",
        "        return pessoa_mais_velha\n",
        "\n",
        "    def pessoa_mais_nova(self):\n",
        "        idade_minima = float('inf')\n",
        "        pessoa_mais_nova = None\n",
        "        for nome, idade in self.pessoas.items():\n",
        "            if idade < idade_minima:\n",
        "                idade_minima = idade\n",
        "                pessoa_mais_nova = nome\n",
        "        return pessoa_mais_nova\n",
        "\n",
        "p = Pessoas()\n",
        "p.imprimir_pessoas()\n",
        "p.atualizar_idade('Gabriel', 20)\n",
        "p.atualizar_idade('Lucas', 21)\n",
        "p.remover_pessoa('Fernanda')\n",
        "print(f'Quantidade de pessoas no dicionário: {p.quantidade_pessoas()}')\n",
        "print(f'Média das idades: {p.media_idades()}')\n",
        "print(f'Pessoa mais velha: {p.pessoa_mais_velha()}')\n",
        "print(f'Pessoa mais nova: {p.pessoa_mais_nova()}')"
      ],
      "metadata": {
        "colab": {
          "base_uri": "https://localhost:8080/"
        },
        "id": "PH6l5Kpb3naw",
        "outputId": "ceec8702-f315-45e8-81b1-dcdedad9b1db"
      },
      "execution_count": 15,
      "outputs": [
        {
          "output_type": "stream",
          "name": "stdout",
          "text": [
            "Gabriel: 19\n",
            "Pedro: 40\n",
            "Miguel: 60\n",
            "Ana: 65\n",
            "Maria: 27\n",
            "Paula: 19\n",
            "João: 32\n",
            "Joana: 38\n",
            "Cristina: 45\n",
            "Lucas: 20\n",
            "Idade de Gabriel atualizada para 20\n",
            "Idade de Lucas atualizada para 21\n",
            "Fernanda não encontrado no dicionário\n",
            "Quantidade de pessoas no dicionário: 10\n",
            "Média das idades: 36.7\n",
            "Pessoa mais velha: Ana\n",
            "Pessoa mais nova: Paula\n"
          ]
        }
      ]
    },
    {
      "cell_type": "markdown",
      "source": [
        "10. Crie uma função que retorne uma lista com as pessoas cujo nome começa com a\n",
        "letra \"J\"."
      ],
      "metadata": {
        "id": "2jiL-T9H4YY4"
      }
    },
    {
      "cell_type": "code",
      "source": [
        "pessoas = {\n",
        "    'Gabriel': 19,\n",
        "    'Pedro': 40,\n",
        "    'Miguel': 60,\n",
        "    'Ana': 65,\n",
        "    'Maria': 27,\n",
        "    'Paula': 19,\n",
        "    'João': 32,\n",
        "    'Joana': 38,\n",
        "    'Cristina': 45,\n",
        "    'Lucas': 20\n",
        "}\n",
        "\n",
        "for nome, idade in pessoas.items():\n",
        "    print(f'{nome}: {idade}')\n",
        "\n",
        "def obter_idade(nome):\n",
        "    if nome in pessoas:\n",
        "        return pessoas[nome]\n",
        "    else:\n",
        "        return None\n",
        "\n",
        "def atualizar_idade(nome, nova_idade):\n",
        "    if nome in pessoas:\n",
        "        pessoas[nome] = nova_idade\n",
        "        print(f'Idade de {nome} atualizada para {nova_idade}')\n",
        "    else:\n",
        "        print(f'{nome} não encontrado no dicionário')\n",
        "\n",
        "def remover_pessoa(nome):\n",
        "    if nome in pessoas:\n",
        "        pessoas.pop(nome)\n",
        "        print(f'{nome} removido do dicionário')\n",
        "    else:\n",
        "        print(f'{nome} não encontrado no dicionário')\n",
        "\n",
        "def quantidade_pessoas():\n",
        "    return len(pessoas)\n",
        "\n",
        "def media_idades():\n",
        "    soma_idades = 0\n",
        "    for idade in pessoas.values():\n",
        "        soma_idades += idade\n",
        "    media = soma_idades / len(pessoas)\n",
        "    return media\n",
        "\n",
        "def pessoa_mais_velha():\n",
        "    idade_maxima = 0\n",
        "    pessoa_mais_velha = None\n",
        "    for nome, idade in pessoas.items():\n",
        "        if idade > idade_maxima:\n",
        "            idade_maxima = idade\n",
        "            pessoa_mais_velha = nome\n",
        "    return pessoa_mais_velha\n",
        "\n",
        "def pessoa_mais_nova():\n",
        "    idade_minima = float('inf')\n",
        "    pessoa_mais_nova = None\n",
        "    for nome, idade in pessoas.items():\n",
        "        if idade < idade_minima:\n",
        "            idade_minima = idade\n",
        "            pessoa_mais_nova = nome\n",
        "    return pessoa_mais_nova\n",
        "\n",
        "def pessoas_nome_J():\n",
        "    pessoas_J = []\n",
        "    for nome in pessoas.keys():\n",
        "        if nome.startswith('J'):\n",
        "            pessoas_J.append(nome)\n",
        "    return pessoas_J\n",
        "\n",
        "atualizar_idade('Gabriel', 20)\n",
        "atualizar_idade('Lucas', 21)\n",
        "remover_pessoa('Fernanda')\n",
        "print(f'Quantidade de pessoas no dicionário: {quantidade_pessoas()}')\n",
        "print(f'Média das idades: {media_idades()}')\n",
        "print(f'Pessoa mais velha: {pessoa_mais_velha()}')\n",
        "print(f'Pessoa mais nova: {pessoa_mais_nova()}')\n",
        "print(f'Pessoas cujo nome começa com a letra J: {pessoas_nome_J()}')\n"
      ],
      "metadata": {
        "colab": {
          "base_uri": "https://localhost:8080/"
        },
        "id": "Njoh_r5z4e3U",
        "outputId": "9b7d84b5-88c0-4145-b432-e45d63d001c6"
      },
      "execution_count": 16,
      "outputs": [
        {
          "output_type": "stream",
          "name": "stdout",
          "text": [
            "Gabriel: 19\n",
            "Pedro: 40\n",
            "Miguel: 60\n",
            "Ana: 65\n",
            "Maria: 27\n",
            "Paula: 19\n",
            "João: 32\n",
            "Joana: 38\n",
            "Cristina: 45\n",
            "Lucas: 20\n",
            "Idade de Gabriel atualizada para 20\n",
            "Idade de Lucas atualizada para 21\n",
            "Fernanda não encontrado no dicionário\n",
            "Quantidade de pessoas no dicionário: 10\n",
            "Média das idades: 36.7\n",
            "Pessoa mais velha: Ana\n",
            "Pessoa mais nova: Paula\n",
            "Pessoas cujo nome começa com a letra J: ['João', 'Joana']\n"
          ]
        }
      ]
    }
  ]
}