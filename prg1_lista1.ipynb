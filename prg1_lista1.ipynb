{
  "nbformat": 4,
  "nbformat_minor": 0,
  "metadata": {
    "colab": {
      "provenance": [],
      "authorship_tag": "ABX9TyP19QgDpCwaS3sazaSdpcgd"
    },
    "kernelspec": {
      "name": "python3",
      "display_name": "Python 3"
    },
    "language_info": {
      "name": "python"
    }
  },
  "cells": [
    {
      "cell_type": "markdown",
      "source": [
        "1-Faça um programa que peça dois números inteiros e imprima a soma desses números"
      ],
      "metadata": {
        "id": "w4JXmkS3DjQB"
      }
    },
    {
      "cell_type": "code",
      "execution_count": null,
      "metadata": {
        "id": "iiMruBTDDfwD"
      },
      "outputs": [],
      "source": [
        "num1 = int(input('Informe o primeiro número: '))\n",
        "num2 = int(input('Informe o segundo número: '))\n",
        "\n",
        "valor = num1 + num2\n",
        "\n",
        "print('A soma dos números é', valor)"
      ]
    },
    {
      "cell_type": "markdown",
      "source": [
        "2-Escreva um programa que leia um valor em metros e o exiba convertido em milímetros"
      ],
      "metadata": {
        "id": "ZlhvpoJADqqS"
      }
    },
    {
      "cell_type": "code",
      "source": [
        "valor = float(input('Informe o valor (em metros): '))\n",
        "\n",
        "result = valor * 1000\n",
        "\n",
        "print('O valor (em milímetros) é de', result)"
      ],
      "metadata": {
        "id": "Ikj2QHv0DrNK"
      },
      "execution_count": null,
      "outputs": []
    },
    {
      "cell_type": "markdown",
      "source": [
        " 3- Escreva um programa que leia a quantidade de dias, horas, minutos e segundos do usuário. Calcule o total em segundos."
      ],
      "metadata": {
        "id": "HCxne3nlDrhP"
      }
    },
    {
      "cell_type": "code",
      "source": [
        "dias = int(input('Informe a quantidade de dias: '))\n",
        "horas = int(input('Informe a quantidade de horas: '))\n",
        "minutos = int(input('Informe a quantidade de minutos: '))\n",
        "segundos = int(input('Informe a quantidade de segundos: '))\n",
        "\n",
        "total_segundos = dias * 24 * 60 * 60 + horas * 60 * 60 + minutos * 60 + segundos\n",
        "\n",
        "print(f\"{dias} dias é igual a {dias * 24 * 60 * 60} segundos\")\n",
        "print(f\"{horas} horas é igual a {horas * 60 * 60} segundos\")\n",
        "print(f\"{minutos} minutos é igual a {minutos * 60} segundos\")\n",
        "print(f\"{segundos} segundos é igual a {segundos} segundos\")"
      ],
      "metadata": {
        "id": "l_oAcBEuDrwJ"
      },
      "execution_count": null,
      "outputs": []
    },
    {
      "cell_type": "markdown",
      "source": [
        " 4- Faça um programa que calcule o aumento de um salário. Ele deve solicitar o valor do salário e a porcentagem do aumento. Exiba o valor do aumento e do novo salário."
      ],
      "metadata": {
        "id": "CkOlIvqFDszV"
      }
    },
    {
      "cell_type": "code",
      "source": [
        "valor = float(input('Informe o valor do salário: '))\n",
        "porcentagem = float(input('Informe a porcentagem de aumento: '))\n",
        "\n",
        "valor_aumento = valor * porcentagem / 100\n",
        "result = valor + valor_aumento\n",
        "\n",
        "print('O valor do aumento é de', valor_aumento, 'R$')\n",
        "print('O valor do aumento é de', valor_aumento,\n",
        "      'R$, e o salário passará para', result, 'R$')"
      ],
      "metadata": {
        "id": "UD2EEcjUDta4"
      },
      "execution_count": null,
      "outputs": []
    },
    {
      "cell_type": "markdown",
      "source": [
        "5-Solicite o preço de uma mercadoria e o percentual de desconto. Exiba o valor do desconto e o preço a pagar."
      ],
      "metadata": {
        "id": "XnX44dimEJ4U"
      }
    },
    {
      "cell_type": "code",
      "source": [
        "preco = float(input(\"Digite o preço da mercadoria: \"))\n",
        "desconto_percentual = float(input(\"Digite o percentual de desconto (%): \"))\n",
        "\n",
        "valor_desconto = preco * (desconto_percentual / 100)\n",
        "preco_final = preco - valor_desconto\n",
        "\n",
        "print(f\"O desconto será de R${valor_desconto:.2f}\")\n",
        "print(f\"O preço final a pagar será de R$ {preco_final:.2f}\")"
      ],
      "metadata": {
        "id": "3mrUKl0QEMs2"
      },
      "execution_count": null,
      "outputs": []
    },
    {
      "cell_type": "markdown",
      "source": [
        "6-Calcule o tempo de uma viagem de carro. Pergunte a distância a percorrer e a velocidade média esperada para a viagem."
      ],
      "metadata": {
        "id": "CXA_FBxmER6R"
      }
    },
    {
      "cell_type": "code",
      "source": [
        "distancia = float(input(\"Digite a distância a percorrer (em km): \"))\n",
        "velocidade_media = float(\n",
        "    input(\"Digite a velocidade média esperada (em km/h): \"))\n",
        "\n",
        "tempo_horas = distancia / velocidade_media\n",
        "\n",
        "tempo_minutos = tempo_horas * 60\n",
        "\n",
        "if tempo_minutos > 60:\n",
        "    print(\"O tempo de viagem do carro será de {:.2f} horas.\".format(\n",
        "        tempo_horas))\n",
        "else:\n",
        "    print(\"O tempo de viagem do carro será de {:.0f} minutos.\".format(\n",
        "        tempo_minutos))"
      ],
      "metadata": {
        "id": "q5rwzjSgEUox"
      },
      "execution_count": null,
      "outputs": []
    },
    {
      "cell_type": "markdown",
      "source": [
        "7-Converta uma temperatura digitada em Celsius para Fahrenheit. F = 9*C/5 + 32 . Faça agora o contrário, de Fahrenheit para Celsius."
      ],
      "metadata": {
        "id": "h3j74hL4EZKl"
      }
    },
    {
      "cell_type": "code",
      "source": [
        "temperatura = int(input('Informe a temperatura (em fahrenheit): '))\n",
        "\n",
        "conversao = (temperatura - 32) / 1.8\n",
        "\n",
        "print(\n",
        "    f'A tempereatura de {temperatura:.0f} fahrenheit será de {conversao:.0f} celsius.')"
      ],
      "metadata": {
        "id": "3VOtiugkEdwa"
      },
      "execution_count": null,
      "outputs": []
    },
    {
      "cell_type": "markdown",
      "source": [
        "8-Escreva um programa que pergunte a quantidade de km percorridos por um carro alugado pelo usuário, assim como a quantidade de dias pelos quais o carro foi alugado. Calcule o preço a pagar, sabendo que o carro custa R$ 60,00 por dia e R$ 0,15 por km rodado."
      ],
      "metadata": {
        "id": "iOTnIs1nEhxl"
      }
    },
    {
      "cell_type": "code",
      "source": [
        "km_percorridos = float(input(\"Digite a quantidade de km percorridos: \"))\n",
        "dias_locacao = int(input(\"Digite a quantidade de dias de locação: \"))\n",
        "\n",
        "preco_dias = dias_locacao * 60\n",
        "preco_km = km_percorridos * 0.15\n",
        "preco_total = preco_dias + preco_km\n",
        "\n",
        "print(\"O preço a pagar pelo aluguel do carro é de R$ {:.2f}\".format(preco_total))"
      ],
      "metadata": {
        "id": "mX4CHr96EmBO"
      },
      "execution_count": null,
      "outputs": []
    },
    {
      "cell_type": "markdown",
      "source": [
        " 9-Escreva um programa para calcular a redução do tempo de vida de um fumante. Pergunte a quantidade de cigarros fumados por dia e quantos anos ele já fumou. Considere que um fumante perde 10 minutos de vida a cada cigarro, calcule quantos dias de vida um fumante perderá. Exiba o total de dias."
      ],
      "metadata": {
        "id": "_7LadofxEpMe"
      }
    },
    {
      "cell_type": "code",
      "source": [
        "cigarros_por_dia = int(input(\"Digite a quantidade de cigarros fumados por dia: \"))\n",
        "anos_de_fumo = int(input(\"Digite a quantidade de anos de fumo: \"))\n",
        "\n",
        "cigarros_fumados = cigarros_por_dia * 365 * anos_de_fumo\n",
        "tempo_perdido = cigarros_fumados * 10 / 1440\n",
        "\n",
        "print(\"O fumante perderá {:.2f} dias de vida.\".format(tempo_perdido))"
      ],
      "metadata": {
        "id": "Qw2Zhf_5EsIt"
      },
      "execution_count": null,
      "outputs": []
    },
    {
      "cell_type": "markdown",
      "source": [
        "10-Sabendo que str( ) converte valores numéricos para string, calcule quantos dígitos há em 2 elevado a um milhão."
      ],
      "metadata": {
        "id": "UA5LlljuEw4G"
      }
    },
    {
      "cell_type": "code",
      "source": [
        "num = 2 ** 1000000\n",
        "num_str = str(num)\n",
        "num_digits = len(num_str)\n",
        "print(\"O número 2 elevado a um milhão tem\", num_digits, \"dígitos.\")"
      ],
      "metadata": {
        "id": "tIFF1GtnExjA"
      },
      "execution_count": null,
      "outputs": []
    }
  ]
}