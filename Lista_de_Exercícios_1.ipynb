{
  "nbformat": 4,
  "nbformat_minor": 0,
  "metadata": {
    "colab": {
      "provenance": [],
      "authorship_tag": "ABX9TyOfiLGQscBcCGj1WIf2QqQW"
    },
    "kernelspec": {
      "name": "python3",
      "display_name": "Python 3"
    },
    "language_info": {
      "name": "python"
    }
  },
  "cells": [
    {
      "cell_type": "markdown",
      "source": [
        "# Gabriel Gomes Galikosky BSI5"
      ],
      "metadata": {
        "id": "ScWNb6-CyHTT"
      }
    },
    {
      "cell_type": "markdown",
      "source": [
        "Questão 1 : Escreva um programa que leia a quantidade de dias, horas, minutos e\n",
        "segundos do usuário. Calcule o total em segundos."
      ],
      "metadata": {
        "id": "sz8p_Yf8jjtp"
      }
    },
    {
      "cell_type": "code",
      "source": [
        "dias = int(input(\"Digite os dias: \"))\n",
        "horas = int(input(\"Digite as horas: \"))\n",
        "minutos = int(input(\"Digite os minutos: \"))\n",
        "segundos = int(input(\"Digite os segundos: \"))\n",
        "\n",
        "total_segundos = (\n",
        "    dias * 24 * 60 * 60 +\n",
        "    horas * 60 * 60 +\n",
        "    minutos * 60 +\n",
        "    segundos\n",
        "\n",
        ")\n",
        "\n",
        "print(total_segundos)"
      ],
      "metadata": {
        "id": "bWUEzeNYyEc0"
      },
      "execution_count": null,
      "outputs": []
    },
    {
      "cell_type": "markdown",
      "source": [
        "Questão 2 : Faça um programa que solicite o preço de uma mercadoria e o\n",
        "percentual de desconto. Exiba o valor do desconto e o preço a pagar."
      ],
      "metadata": {
        "id": "UlfqyQaEjmBg"
      }
    },
    {
      "cell_type": "code",
      "source": [
        "preco = float(input('Informe o preço: '))\n",
        "percentual = float(input('Informe o percentual: '))\n",
        "\n",
        "desconto = preco * (percentual / 100)\n",
        "\n",
        "preco_final = preco - desconto\n",
        "\n",
        "print(f'O preço final é {preco_final}')\n",
        "print(f'O desconto é {desconto}')"
      ],
      "metadata": {
        "colab": {
          "base_uri": "https://localhost:8080/"
        },
        "id": "sxCPtu8QjpSw",
        "outputId": "76f5b17a-f9fe-4abb-a71a-5d8b4faa5a7e"
      },
      "execution_count": 5,
      "outputs": [
        {
          "output_type": "stream",
          "name": "stdout",
          "text": [
            "Informe o preço: 200\n",
            "Informe o percentual: 15\n",
            "O preço final é 170.0\n",
            "O desconto é 30.0\n"
          ]
        }
      ]
    },
    {
      "cell_type": "markdown",
      "source": [
        "Questão 3 : Escreva um programa que pergunte a velocidade do carro de um\n",
        "usuário. Caso ultrapasse 80 km/h, exiba uma mensagem dizendo que o usuário foi\n",
        "multado. Nesse caso, exiba o valor da multa, cobrando R$ 5 por km acima de 80\n",
        "km/h."
      ],
      "metadata": {
        "id": "mx5A5HKHlUAw"
      }
    },
    {
      "cell_type": "code",
      "source": [
        "velocidade = float(input('Informe a velocidade: '))\n",
        "\n",
        "if velocidade > 80:\n",
        "    multa = (velocidade - 80) * 5\n",
        "    print(f'Você foi multado em {multa} reais')\n",
        "else:\n",
        "    print('Você não foi multado')"
      ],
      "metadata": {
        "colab": {
          "base_uri": "https://localhost:8080/"
        },
        "id": "EmMEC1BRlXR_",
        "outputId": "9f0582f8-9ccb-4036-efe5-01d48c5b23b5"
      },
      "execution_count": 7,
      "outputs": [
        {
          "output_type": "stream",
          "name": "stdout",
          "text": [
            "Informe a velocidade: 90\n",
            "Você foi multado em 50.0\n"
          ]
        }
      ]
    },
    {
      "cell_type": "markdown",
      "source": [
        "Questão 4 : Escreva um programa para aprovar o empréstimo bancário para\n",
        "compra de uma casa. O programa deve perguntar o valor da casa a comprar, o\n",
        "salário e a quantidade de anos a pagar. O valor da prestação mensal não pode ser\n",
        "superior a 30% do salário. Calcule o valor da prestação como sendo o valor da\n",
        "casa a comprar dividido pelo número de meses a pagar."
      ],
      "metadata": {
        "id": "YvYh60Pil2Jn"
      }
    },
    {
      "cell_type": "code",
      "source": [
        "casa = float(input('Informe o valor da casa: R$ '))\n",
        "salario = float(input('Informe o salário: R$ '))\n",
        "anos = int(input('Informe a quantidade de anos para pagar: '))\n",
        "\n",
        "prestacao = casa / (anos * 12)\n",
        "\n",
        "limite = salario * 0.30\n",
        "\n",
        "print(f'\\nPrestação mensal: R$ {prestacao:.2f}')\n",
        "print(f'30% do salário: R$ {limite:.2f}')\n",
        "\n",
        "if prestacao <= limite:\n",
        "    print('Empréstimo APROVADO')\n",
        "else:\n",
        "    print('Empréstimo NEGADO, prestação acima de 30% do salário.')\n"
      ],
      "metadata": {
        "colab": {
          "base_uri": "https://localhost:8080/"
        },
        "id": "krU7EnSPl2pH",
        "outputId": "e85c82e6-10ab-44e5-c87b-a369248bb60f"
      },
      "execution_count": 9,
      "outputs": [
        {
          "output_type": "stream",
          "name": "stdout",
          "text": [
            "Informe o valor da casa: R$ 100.000\n",
            "Informe o salário: R$ 2000\n",
            "Informe a quantidade de anos para pagar: 40\n",
            "\n",
            "Prestação mensal: R$ 0.21\n",
            "30% do salário: R$ 600.00\n",
            "Empréstimo APROVADO\n"
          ]
        }
      ]
    },
    {
      "cell_type": "markdown",
      "source": [
        "Questão 5 : Faça um programa para escrever a contagem regressiva do\n",
        "lançamento de um foguete. O programa deve imprimir 10, 9, 8, ... , 1, 0 e Fogo! na\n",
        "tela."
      ],
      "metadata": {
        "id": "c4rgTTQCmWPh"
      }
    },
    {
      "cell_type": "code",
      "source": [
        "import time\n",
        "\n",
        "for i in range (10, -1, -1):\n",
        "  print(i)\n",
        "  time.sleep(1)\n",
        "\n",
        "print('Fogo!')"
      ],
      "metadata": {
        "colab": {
          "base_uri": "https://localhost:8080/"
        },
        "id": "C_2RyiK6nGVv",
        "outputId": "1f5a35e6-eac5-40ff-de61-453cff54d53a"
      },
      "execution_count": 10,
      "outputs": [
        {
          "output_type": "stream",
          "name": "stdout",
          "text": [
            "10\n",
            "9\n",
            "8\n",
            "7\n",
            "6\n",
            "5\n",
            "4\n",
            "3\n",
            "2\n",
            "1\n",
            "0\n",
            "fogo\n"
          ]
        }
      ]
    },
    {
      "cell_type": "markdown",
      "source": [
        "Questão 6 : Escreva um programa que peça números ao usuário até que ele digite\n",
        "0. Ao final, imprima a soma de todos os números digitados."
      ],
      "metadata": {
        "id": "7-AzH6TSnZf-"
      }
    },
    {
      "cell_type": "code",
      "source": [
        "soma = 0\n",
        "\n",
        "while True:\n",
        "  numero = int(input('Digite um número: '))\n",
        "  if numero == 0:\n",
        "    break\n",
        "  soma += numero\n",
        "\n",
        "print(f'A soma dos números é {soma}')"
      ],
      "metadata": {
        "colab": {
          "base_uri": "https://localhost:8080/"
        },
        "id": "Gl24RCyqnbzu",
        "outputId": "ffc44278-d955-418e-9b5e-5a0bf553994d"
      },
      "execution_count": 11,
      "outputs": [
        {
          "output_type": "stream",
          "name": "stdout",
          "text": [
            "Digite um número: 37\n",
            "Digite um número: 5\n",
            "Digite um número: 3\n",
            "Digite um número: 0\n",
            "A soma dos números é 45\n"
          ]
        }
      ]
    },
    {
      "cell_type": "markdown",
      "source": [
        "Questão 7: Crie uma tupla (0, 1, 2, 3, 4, 5, 6, 7, 8, 9) e imprima uma\n",
        "fatia com os elementos de índice 2 a 7 e outra com os elementos das posições\n",
        "pares."
      ],
      "metadata": {
        "id": "NBGh9I8snlCW"
      }
    },
    {
      "cell_type": "code",
      "source": [
        "numero = (0, 1, 2, 3, 4, 5, 6, 7, 8, 9)\n",
        "\n",
        "fatias_2_a_7 = numero[2:8]\n",
        "pares = numero[0::2]\n",
        "\n",
        "print(fatias_2_a_7)\n",
        "print(pares)"
      ],
      "metadata": {
        "colab": {
          "base_uri": "https://localhost:8080/"
        },
        "id": "VIUd0LDxnnxG",
        "outputId": "a925dc17-5c7d-40fc-fd25-db77be7ed9a6"
      },
      "execution_count": 13,
      "outputs": [
        {
          "output_type": "stream",
          "name": "stdout",
          "text": [
            "(2, 3, 4, 5, 6, 7)\n",
            "(0, 2, 4, 6, 8)\n"
          ]
        }
      ]
    },
    {
      "cell_type": "markdown",
      "source": [
        "Questão 8 : Encontre os valores mínimo e máximo na tupla (5, 12, 3, 8, 15)."
      ],
      "metadata": {
        "id": "9BgjHDZPoGsf"
      }
    },
    {
      "cell_type": "code",
      "source": [
        "valores = (5, 12, 3, 8, 15)\n",
        "\n",
        "minimo = min(valores)\n",
        "maximo = max(valores)\n",
        "\n",
        "print(minimo)\n",
        "print(maximo)"
      ],
      "metadata": {
        "colab": {
          "base_uri": "https://localhost:8080/"
        },
        "id": "_56jqG7poNBH",
        "outputId": "995b7a81-04c1-4b07-d05c-91726f8eeda0"
      },
      "execution_count": 14,
      "outputs": [
        {
          "output_type": "stream",
          "name": "stdout",
          "text": [
            "3\n",
            "15\n"
          ]
        }
      ]
    },
    {
      "cell_type": "markdown",
      "source": [
        "Questão 9 : Dada a lista [1, 2, 3, 4, 5], altere o segundo elemento para 10 e o\n",
        "penúltimo para 20."
      ],
      "metadata": {
        "id": "p8UFjywyoWjm"
      }
    },
    {
      "cell_type": "code",
      "source": [
        "lista = [1, 2, 3, 4, 5]\n",
        "\n",
        "lista[1] = 10\n",
        "lista[-2] = 20\n",
        "\n",
        "print(lista)"
      ],
      "metadata": {
        "colab": {
          "base_uri": "https://localhost:8080/"
        },
        "id": "C9C-G3eyoX6u",
        "outputId": "f9feef80-b0ca-44e0-cb35-b2b4a1b48ba8"
      },
      "execution_count": 15,
      "outputs": [
        {
          "output_type": "stream",
          "name": "stdout",
          "text": [
            "[1, 10, 3, 20, 5]\n"
          ]
        }
      ]
    },
    {
      "cell_type": "markdown",
      "source": [
        "Questão 10 : Faça um programa que calcule o aumento de um salário. Ele deve\n",
        "solicitar o valor do salário e a porcentagem do aumento. Exiba o valor do aumento\n",
        "e do novo salário."
      ],
      "metadata": {
        "id": "yRVfcfqVoiDO"
      }
    },
    {
      "cell_type": "code",
      "source": [
        "salario = (float(input('Informe o salário: R$ ')))\n",
        "aumento = (float(input('Informe o aumento: ')))\n",
        "\n",
        "novo_salario = salario + (salario * (aumento / 100))\n",
        "\n",
        "print(f\"Novo salário {novo_salario}\")"
      ],
      "metadata": {
        "colab": {
          "base_uri": "https://localhost:8080/"
        },
        "id": "ymAa3v2aolDF",
        "outputId": "c541be67-4bb4-4ca5-ba49-3200a43032d3"
      },
      "execution_count": 18,
      "outputs": [
        {
          "output_type": "stream",
          "name": "stdout",
          "text": [
            "Informe o salário: R$ 200\n",
            "Informe o aumento: 10\n",
            "Novo salário 220.0\n"
          ]
        }
      ]
    }
  ]
}