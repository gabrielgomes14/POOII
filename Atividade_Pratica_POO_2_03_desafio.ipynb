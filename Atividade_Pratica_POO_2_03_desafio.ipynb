{
 "cells": [
  {
   "cell_type": "markdown",
   "metadata": {},
   "source": [
    "<div style=\"text-align: center;\">\n",
    "<h2>Aula 03 - Padrões de Projeto Decorator – Implementação </h2>\n",
    "\n",
    "<h2>Exercícios Decorator (Desafios)</h2>\n",
    "</div>"
   ]
  },
  {
   "cell_type": "markdown",
   "metadata": {},
   "source": [
    "**Atividade 3: Sistema de Café**\n",
    "\n",
    "Implemente um sistema para uma cafeteria que calcula o preço de bebidas personalizadas. Use\n",
    "decoradores para adicionar ingredientes extras (leite vaporizado, chocolate, canela) ao café base e\n",
    "calcular o preço final."
   ]
  },
  {
   "cell_type": "code",
   "execution_count": 1,
   "metadata": {},
   "outputs": [
    {
     "name": "stdout",
     "output_type": "stream",
     "text": [
      "Preço do café com leite vaporizado e chocolate: R$ 6.50\n",
      "Preço do café com canela: R$ 3.50\n",
      "Preço do café com todos os ingredientes (leite vaporizado, chocolate, canela): R$ 7.00\n"
     ]
    }
   ],
   "source": [
    "PRECO_LEITE_VAPORIZADO = 1.5\n",
    "PRECO_CHOCOLATE = 2.0\n",
    "PRECO_CANELA = 0.5\n",
    "\n",
    "class Cafe:\n",
    "    def __init__(self):\n",
    "        self._preco = 3.0\n",
    "\n",
    "    def obter_preco(self):\n",
    "        return self._preco\n",
    "\n",
    "def adicionar_leite_vaporizado(cafe):\n",
    "    cafe._preco += PRECO_LEITE_VAPORIZADO\n",
    "    return cafe\n",
    "\n",
    "def adicionar_chocolate(cafe):\n",
    "    cafe._preco += PRECO_CHOCOLATE\n",
    "    return cafe\n",
    "\n",
    "def adicionar_canela(cafe):\n",
    "    cafe._preco += PRECO_CANELA\n",
    "    return cafe\n",
    "\n",
    "def criar_cafe(*ingredientes):\n",
    "    cafe = Cafe()\n",
    "    for ingrediente in ingredientes:\n",
    "        cafe = ingrediente(cafe)\n",
    "    return cafe\n",
    "\n",
    "def obter_preco_final(cafe):\n",
    "    return cafe.obter_preco()\n",
    "\n",
    "if __name__ == \"__main__\":\n",
    "    cafe_com_leite_chocolate = criar_cafe(adicionar_leite_vaporizado, adicionar_chocolate)\n",
    "    cafe_com_canela = criar_cafe(adicionar_canela)\n",
    "    cafe_com_todos_ingredientes = criar_cafe(adicionar_leite_vaporizado, adicionar_chocolate, adicionar_canela)\n",
    "    \n",
    "    print(f\"Preço do café com leite vaporizado e chocolate: R$ {obter_preco_final(cafe_com_leite_chocolate):.2f}\")\n",
    "    print(f\"Preço do café com canela: R$ {obter_preco_final(cafe_com_canela):.2f}\")\n",
    "    print(f\"Preço do café com todos os ingredientes (leite vaporizado, chocolate, canela): R$ {obter_preco_final(cafe_com_todos_ingredientes):.2f}\")\n"
   ]
  },
  {
   "cell_type": "markdown",
   "metadata": {},
   "source": [
    "**Atividade 4: Validador de Dados**\n",
    "\n",
    "Desenvolva um sistema de validação de dados que permita combinar diferentes regras de validação\n",
    "(email, idade, nome) usando decoradores. O sistema deve retornar uma lista de erros encontrados."
   ]
  },
  {
   "cell_type": "code",
   "execution_count": 14,
   "metadata": {},
   "outputs": [
    {
     "name": "stdout",
     "output_type": "stream",
     "text": [
      "Erros encontrados:\n",
      "- Email inválido.\n",
      "- Idade deve ser um número entre 0 e 120.\n",
      "- Nome deve conter apenas letras e pelo menos 2 caracteres.\n"
     ]
    }
   ],
   "source": [
    "import re\n",
    "\n",
    "class Validador:\n",
    "    def __init__(self, dados: dict):\n",
    "        self.dados = dados\n",
    "\n",
    "    def validar(self):\n",
    "        return []\n",
    "\n",
    "class ValidadorDecorator:\n",
    "    def __init__(self, validador: Validador):\n",
    "        self.validador = validador\n",
    "\n",
    "    def validar(self):\n",
    "        return self.validador.validar()\n",
    "\n",
    "    def __getattr__(self, name):\n",
    "        # Repassa atributos do objeto encapsulado\n",
    "        return getattr(self.validador, name)\n",
    "\n",
    "class ValidadorEmail(ValidadorDecorator):\n",
    "    def validar(self):\n",
    "        erros = self.validador.validar()\n",
    "        email = self.dados.get(\"email\")  # Usa 'dados' do objeto encapsulado\n",
    "        if email:\n",
    "            padrao_email = r'^[a-zA-Z0-9._%+-]+@[a-zA-Z0-9.-]+\\.[a-zA-Z]{2,}$'\n",
    "            if not re.match(padrao_email, email):\n",
    "                erros.append(\"Email inválido.\")\n",
    "        else:\n",
    "            erros.append(\"Email é obrigatório.\")\n",
    "        return erros\n",
    "\n",
    "class ValidadorIdade(ValidadorDecorator):\n",
    "    def validar(self):\n",
    "        erros = self.validador.validar()\n",
    "        idade = self.dados.get(\"idade\")\n",
    "        if idade is not None:\n",
    "            if not isinstance(idade, int) or idade < 0 or idade > 120:\n",
    "                erros.append(\"Idade deve ser um número entre 0 e 120.\")\n",
    "        else:\n",
    "            erros.append(\"Idade é obrigatória.\")\n",
    "        return erros\n",
    "\n",
    "class ValidadorNome(ValidadorDecorator):\n",
    "    def validar(self):\n",
    "        erros = self.validador.validar()\n",
    "        nome = self.dados.get(\"nome\")\n",
    "        if nome:\n",
    "            if not nome.replace(\" \", \"\").isalpha() or len(nome) < 2:\n",
    "                erros.append(\"Nome deve conter apenas letras e pelo menos 2 caracteres.\")\n",
    "        else:\n",
    "            erros.append(\"Nome é obrigatório.\")\n",
    "        return erros\n",
    "\n",
    "if __name__ == \"__main__\":\n",
    "    dados = {\n",
    "        \"email\": \"usuario@dominio\",\n",
    "        \"idade\": 150,\n",
    "        \"nome\": \"João123\"\n",
    "    }\n",
    "\n",
    "    validador_base = Validador(dados)\n",
    "    validador = ValidadorNome(ValidadorIdade(ValidadorEmail(validador_base)))\n",
    "    erros = validador.validar()\n",
    "\n",
    "    if erros:\n",
    "        print(\"Erros encontrados:\")\n",
    "        for erro in erros:\n",
    "            print(f\"- {erro}\")\n",
    "    else:\n",
    "        print(\"Todos os dados são válidos!\")\n"
   ]
  }
 ],
 "metadata": {
  "kernelspec": {
   "display_name": "Python 3",
   "language": "python",
   "name": "python3"
  },
  "language_info": {
   "codemirror_mode": {
    "name": "ipython",
    "version": 3
   },
   "file_extension": ".py",
   "mimetype": "text/x-python",
   "name": "python",
   "nbconvert_exporter": "python",
   "pygments_lexer": "ipython3",
   "version": "3.12.7"
  }
 },
 "nbformat": 4,
 "nbformat_minor": 2
}
