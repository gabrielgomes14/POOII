{
  "nbformat": 4,
  "nbformat_minor": 0,
  "metadata": {
    "colab": {
      "provenance": [],
      "authorship_tag": "ABX9TyP7GkIdM2z3bEZVWzeZPZJn"
    },
    "kernelspec": {
      "name": "python3",
      "display_name": "Python 3"
    },
    "language_info": {
      "name": "python"
    }
  },
  "cells": [
    {
      "cell_type": "markdown",
      "source": [
        "1.Qual palavra-chave (keyword) você usaria para ter acesso às propriedades e métodos de uma classe\n",
        "estando dentro dela?\n",
        "\n",
        "**a)** A palavra-chave new\n",
        "\n",
        "**b)** A palavra-chave this\n",
        "\n",
        "**c)** A palavra-chave self\n",
        "\n",
        "*R: c) A palavra-chave self*"
      ],
      "metadata": {
        "id": "gRmPkDpBkZcG"
      }
    },
    {
      "cell_type": "markdown",
      "source": [
        "# Exercício de Codificação\n",
        "\n",
        "Na atividade prática anterior, escrevemos o método hello() dentro da classe Usuario. No exercício a\n",
        "seguir, adicionaremos a este método a capacidade de acessar as propriedades da classe com a palavra-chave\n",
        "self."
      ],
      "metadata": {
        "id": "Popw9CYmmw-l"
      }
    },
    {
      "cell_type": "code",
      "execution_count": 2,
      "metadata": {
        "id": "PswF45qgkRyl"
      },
      "outputs": [],
      "source": [
        "class Usuario():\n",
        "  primeiroNome = \"\"\n",
        "  ultimoNome = \"\"\n",
        "\n",
        "  def hello(self):\n",
        "    return f\"Olá, {self.primeiroNome} {self.ultimoNome}!\""
      ]
    },
    {
      "cell_type": "markdown",
      "source": [
        "2.Acrescente ao método hello() a capacidade de acessar a propriedade primeiroNome, para que\n",
        "o método possa retornar a string \"Olá, primeiroNome\"."
      ],
      "metadata": {
        "id": "_F2S4O3Am29H"
      }
    },
    {
      "cell_type": "code",
      "source": [
        "class Usuario():\n",
        "  primeiroNome = \"\"\n",
        "  ultimoNome = \"\"\n",
        "\n",
        "  def hello(self):\n",
        "    return f\"Olá, {self.primeiroNome}\""
      ],
      "metadata": {
        "id": "tkKkfujwm5vn"
      },
      "execution_count": 11,
      "outputs": []
    },
    {
      "cell_type": "markdown",
      "source": [
        "3.Crie um novo objeto com o primeiro nome de \"Jonnie\" e sobrenome de \"Bravo\"."
      ],
      "metadata": {
        "id": "JcVa4se-n9V7"
      }
    },
    {
      "cell_type": "code",
      "source": [
        "class Usuario():\n",
        "  primeiroNome = \"Jonnie\"\n",
        "  ultimoNome = \"Bravo\"\n",
        "\n",
        "  def hello(self):\n",
        "    return f\"Olá, {self.primeiroNome}, {self.ultimoNome}!\"\n",
        "\n",
        "usuario_novo = Usuario()"
      ],
      "metadata": {
        "id": "UqzquJZZn-tx"
      },
      "execution_count": 7,
      "outputs": []
    },
    {
      "cell_type": "markdown",
      "source": [
        "4.Use o comando print no método hello() para o objeto usuario1 e observe o resultado."
      ],
      "metadata": {
        "id": "_G_6c-u2pw8u"
      }
    },
    {
      "cell_type": "code",
      "source": [
        "print(usuario_novo.hello())"
      ],
      "metadata": {
        "colab": {
          "base_uri": "https://localhost:8080/"
        },
        "id": "_oKpZHwUpscH",
        "outputId": "4127fb88-20d4-406a-c1e3-6dd91fc8a814"
      },
      "execution_count": 10,
      "outputs": [
        {
          "output_type": "stream",
          "name": "stdout",
          "text": [
            "Olá, Jonnie, Bravo!\n"
          ]
        }
      ]
    }
  ]
}