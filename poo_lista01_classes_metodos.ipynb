{
  "nbformat": 4,
  "nbformat_minor": 0,
  "metadata": {
    "colab": {
      "provenance": [],
      "authorship_tag": "ABX9TyN28q705cbxj4ico4UKUYG1"
    },
    "kernelspec": {
      "name": "python3",
      "display_name": "Python 3"
    },
    "language_info": {
      "name": "python"
    }
  },
  "cells": [
    {
      "cell_type": "code",
      "source": [
        "class Bola:\n",
        "    def __init__(self, cor, circunferencia, material):\n",
        "        self.cor = cor\n",
        "        self.circunferencia = circunferencia\n",
        "        self.material = material\n",
        "\n",
        "    def trocaCor(self, nova_cor):\n",
        "        self.cor = nova_cor\n",
        "\n",
        "    def mostraCor(self):\n",
        "        return self.cor\n",
        "\n",
        "bola1 = Bola(\"vermelha\", 10, \"couro\")\n",
        "print(\"Cor da bola:\", bola1.mostraCor())\n",
        "bola1.trocaCor(\"azul\")\n",
        "print(\"Nova cor da bola:\", bola1.mostraCor())"
      ],
      "metadata": {
        "id": "jQw4ZktZlUII"
      },
      "execution_count": null,
      "outputs": []
    },
    {
      "cell_type": "code",
      "source": [
        "class Quadrado:\n",
        "    def __init__(self, lado):\n",
        "        self.lado = lado\n",
        "\n",
        "    def mudarLado(self, novo_lado):\n",
        "        self.lado = novo_lado\n",
        "\n",
        "    def retornarLado(self):\n",
        "        return self.lado\n",
        "\n",
        "    def calcularArea(self):\n",
        "        return self.lado ** 2\n",
        "\n",
        "quadrado1 = Quadrado(5)\n",
        "print(\"Lado do quadrado:\", quadrado1.retornarLado())\n",
        "print(\"Área do quadrado:\", quadrado1.calcularArea())\n",
        "quadrado1.mudarLado(7)\n",
        "print(\"Novo lado do quadrado:\", quadrado1.retornarLado())\n",
        "print(\"Nova área do quadrado:\", quadrado1.calcularArea())"
      ],
      "metadata": {
        "id": "tY2K-MCslfHC"
      },
      "execution_count": null,
      "outputs": []
    },
    {
      "cell_type": "code",
      "source": [
        "class Retangulo:\n",
        "    def __init__(self, lado_a, lado_b):\n",
        "        self.lado_a = lado_a\n",
        "        self.lado_b = lado_b\n",
        "\n",
        "    def mudarLados(self, novo_lado_a, novo_lado_b):\n",
        "        self.lado_a = novo_lado_a\n",
        "        self.lado_b = novo_lado_b\n",
        "\n",
        "    def retornarLados(self):\n",
        "        return self.lado_a, self.lado_b\n",
        "\n",
        "    def calcularArea(self):\n",
        "        return self.lado_a * self.lado_b\n",
        "\n",
        "    def calcularPerimetro(self):\n",
        "        return 2 * (self.lado_a + self.lado_b)\n",
        "\n",
        "def calcular_pisos_e_rodapes(local):\n",
        "    comprimento, largura = local.retornarLados()\n",
        "    area_total = local.calcularArea()\n",
        "    perimetro_total = local.calcularPerimetro()\n",
        "    quantidade_pisos = area_total\n",
        "    quantidade_rodapes = perimetro_total\n",
        "\n",
        "    return quantidade_pisos, quantidade_rodapes\n",
        "\n",
        "def obter_medidas_local():\n",
        "    lado_a = float(input(\"Digite o comprimento do local em metros: \"))\n",
        "    lado_b = float(input(\"Digite a largura do local em metros: \"))\n",
        "    return Retangulo(lado_a, lado_b)\n",
        "\n",
        "if __name__ == \"__main__\":\n",
        "    print(\"Bem-vindo ao programa de cálculo de quantidade de pisos e rodapés para um local.\")\n",
        "    local = obter_medidas_local()\n",
        "    quantidade_pisos, quantidade_rodapes = calcular_pisos_e_rodapes(local)\n",
        "    print(f\"Para cobrir o local, serão necessários {quantidade_pisos:.2f} pisos e {quantidade_rodapes:.2f} metros de rodapés.\")"
      ],
      "metadata": {
        "id": "RUM8z7STli3u"
      },
      "execution_count": null,
      "outputs": []
    },
    {
      "cell_type": "code",
      "source": [
        "class Pessoa:\n",
        "    def __init__(self, nome, idade, peso, altura):\n",
        "        self.nome = nome\n",
        "        self.idade = idade\n",
        "        self.peso = peso\n",
        "        self.altura = altura\n",
        "\n",
        "    def envelhecer(self):\n",
        "        self.idade += 1\n",
        "        if self.idade < 21:\n",
        "            self.crescer(0.5)\n",
        "\n",
        "    def engordar(self, peso):\n",
        "        self.peso += peso\n",
        "\n",
        "    def emagrecer(self, peso):\n",
        "        self.peso -= peso\n",
        "\n",
        "    def crescer(self, altura):\n",
        "        self.altura += altura"
      ],
      "metadata": {
        "id": "QbzadfS1mDC1"
      },
      "execution_count": null,
      "outputs": []
    },
    {
      "cell_type": "code",
      "source": [
        "class ContaCorrente:\n",
        "    def __init__(self, numero_conta, nome_correntista, saldo=0):\n",
        "        self.numero_conta = numero_conta\n",
        "        self.nome_correntista = nome_correntista\n",
        "        self.saldo = saldo\n",
        "\n",
        "    def alterarNome(self, nome):\n",
        "        self.nome_correntista = nome\n",
        "\n",
        "    def deposito(self, valor):\n",
        "        self.saldo += valor\n",
        "\n",
        "    def saque(self, valor):\n",
        "        if self.saldo >= valor:\n",
        "            self.saldo -= valor\n",
        "        else:\n",
        "            print(\"Saldo insuficiente\")"
      ],
      "metadata": {
        "id": "i9g2dTM1Xbx_"
      },
      "execution_count": null,
      "outputs": []
    },
    {
      "cell_type": "code",
      "source": [
        "class TV:\n",
        "    def __init__(self, canal=1, volume=10):\n",
        "        self.canal = canal\n",
        "        self.volume = volume\n",
        "\n",
        "    def mudar_canal(self, canal):\n",
        "        if 1 <= canal <= 100:\n",
        "            self.canal = canal\n",
        "        else:\n",
        "            print(\"Canal inválido\")\n",
        "\n",
        "    def aumentar_volume(self):\n",
        "        if self.volume < 100:\n",
        "            self.volume += 1\n",
        "\n",
        "    def diminuir_volume(self):\n",
        "        if self.volume > 0:\n",
        "            self.volume -= 1"
      ],
      "metadata": {
        "id": "3sUYg25DXf-Z"
      },
      "execution_count": null,
      "outputs": []
    },
    {
      "cell_type": "code",
      "source": [
        "class BichinhoVirtual:\n",
        "    def __init__(self, nome, fome, saude, idade):\n",
        "        self.nome = nome\n",
        "        self.fome = fome\n",
        "        self.saude = saude\n",
        "        self.idade = idade\n",
        "\n",
        "    def alterar_nome(self, nome):\n",
        "        self.nome = nome\n",
        "\n",
        "    def alterar_fome(self, fome):\n",
        "        self.fome = fome\n",
        "\n",
        "    def alterar_saude(self, saude):\n",
        "        self.saude = saude\n",
        "\n",
        "    def alterar_idade(self, idade):\n",
        "        self.idade = idade\n",
        "\n",
        "    def humor(self):\n",
        "        return self.fome * self.saude"
      ],
      "metadata": {
        "id": "ozQUWuBiXiE5"
      },
      "execution_count": null,
      "outputs": []
    },
    {
      "cell_type": "code",
      "source": [
        "class Macaco:\n",
        "    def __init__(self, nome):\n",
        "        self.nome = nome\n",
        "        self.bucho = []\n",
        "\n",
        "    def comer(self, comida):\n",
        "        self.bucho.append(comida)\n",
        "\n",
        "    def ver_bucho(self):\n",
        "        return self.bucho\n",
        "\n",
        "    def digerir(self):\n",
        "        if self.bucho:\n",
        "            return self.bucho.pop(0)"
      ],
      "metadata": {
        "id": "Ke-oc41fX9v_"
      },
      "execution_count": null,
      "outputs": []
    },
    {
      "cell_type": "code",
      "source": [
        "class Ponto:\n",
        "    def __init__(self, x, y):\n",
        "        self.x = x\n",
        "        self.y = y\n",
        "\n",
        "class Retangulo:\n",
        "    def __init__(self, largura, altura, vertice):\n",
        "        self.largura = largura\n",
        "        self.altura = altura\n",
        "        self.vertice = vertice\n",
        "\n",
        "    def centro(self):\n",
        "        x = self.vertice.x + self.largura / 2\n",
        "        y = self.vertice.y + self.altura / 2\n",
        "        return Ponto(x, y)"
      ],
      "metadata": {
        "id": "vocKJvCjX__x"
      },
      "execution_count": null,
      "outputs": []
    },
    {
      "cell_type": "code",
      "source": [
        "class BombaCombustivel:\n",
        "    def __init__(self, tipo_combustivel, valor_litro, quantidade_combustivel):\n",
        "        self.tipo_combustivel = tipo_combustivel\n",
        "        self.valor_litro = valor_litro\n",
        "        self.quantidade_combustivel = quantidade_combustivel\n",
        "\n",
        "    def abastecer_por_valor(self, valor):\n",
        "        litros_abastecidos = valor / self.valor_litro\n",
        "        self.quantidade_combustivel -= litros_abastecidos\n",
        "        return litros_abastecidos\n",
        "\n",
        "    def abastecer_por_litro(self, litros):\n",
        "        valor_pago = litros * self.valor_litro\n",
        "        self.quantidade_combustivel -= litros\n",
        "        return valor_pago\n",
        "\n",
        "    def alterar_valor(self, valor):\n",
        "        self.valor_litro = valor\n",
        "\n",
        "    def alterar_combustivel(self, tipo_combustivel):\n",
        "        self.tipo_combustivel = tipo_combustivel\n",
        "\n",
        "    def alterar_quantidade_combustivel(self, quantidade):\n",
        "        self.quantidade_combustivel = quantidade"
      ],
      "metadata": {
        "id": "tbZbEvf7YDiV"
      },
      "execution_count": null,
      "outputs": []
    },
    {
      "cell_type": "code",
      "source": [
        "# Classe Carro\n",
        "class Carro:\n",
        "    def __init__(self, consumo):\n",
        "        self.consumo = consumo\n",
        "        self.combustivel = 0\n",
        "\n",
        "    def andar(self, distancia):\n",
        "        combustivel_necessario = distancia / self.consumo\n",
        "        if self.combustivel >= combustivel_necessario:\n",
        "            self.combustivel -= combustivel_necessario\n",
        "        else:\n",
        "            print(\"Combustível insuficiente\")\n",
        "\n",
        "    def obter_gasolina(self):\n",
        "        return self.combustivel\n",
        "\n",
        "    def adicionar_gasolina(self, quantidade):\n",
        "        self.combustivel += quantidade\n"
      ],
      "metadata": {
        "id": "asmkUXgbZEz7"
      },
      "execution_count": null,
      "outputs": []
    },
    {
      "cell_type": "code",
      "source": [
        "class ContaInvestimento:\n",
        "    def __init__(self, saldo_inicial, taxa_juros):\n",
        "        self.saldo = saldo_inicial\n",
        "        self.taxa_juros = taxa_juros\n",
        "\n",
        "    def adicione_juros(self):\n",
        "        self.saldo += self.saldo * self.taxa_juros"
      ],
      "metadata": {
        "id": "KNoA-TpFZNF3"
      },
      "execution_count": null,
      "outputs": []
    },
    {
      "cell_type": "code",
      "source": [
        "class Funcionario:\n",
        "    def __init__(self, nome, salario):\n",
        "        self.nome = nome\n",
        "        self.salario = salario\n",
        "\n",
        "    def devolver_nome(self):\n",
        "        return self.nome\n",
        "\n",
        "    def devolver_salario(self):\n",
        "        return self.salario\n",
        "\n",
        "    def aumentar_salario(self, porcentual_de_aumento):\n",
        "        self.salario += self.salario * porcentual_de_aumento / 100"
      ],
      "metadata": {
        "id": "gfJnYR_DZNnt"
      },
      "execution_count": null,
      "outputs": []
    },
    {
      "cell_type": "code",
      "source": [
        "class BichinhoVirtual:\n",
        "    def __init__(self, nome, fome, saude, idade, tedio):\n",
        "        self.nome = nome\n",
        "        self.fome = fome\n",
        "        self.saude = saude\n",
        "        self.idade = idade\n",
        "        self.tedio = tedio\n",
        "\n",
        "    def alimentar(self, quantidade):\n",
        "        self.fome -= quantidade\n",
        "\n",
        "    def brincar(self, tempo):\n",
        "        self.tedio -= tempo\n",
        "\n",
        "    def __str__(self):\n",
        "        return f'Nome: {self.nome}, Fome: {self.fome}, Saúde: {self.saude}, Idade: {self.idade}, Tédio: {self.tedio}'"
      ],
      "metadata": {
        "id": "hpiITt9qZQI3"
      },
      "execution_count": null,
      "outputs": []
    },
    {
      "cell_type": "code",
      "source": [
        "class FazendaBichinhos:\n",
        "    def __init__(self):\n",
        "        self.bichinhos = []\n",
        "\n",
        "    def adicionar_bichinho(self, bichinho):\n",
        "        self.bichinhos.append(bichinho)\n",
        "\n",
        "    def alimentar_todos(self, quantidade):\n",
        "        for bichinho in self.bichinhos:\n",
        "            bichinho.alimentar(quantidade)\n",
        "\n",
        "    def brincar_com_todos(self, tempo):\n",
        "        for bichinho in self.bichinhos:\n",
        "            bichinho.brincar(tempo)\n",
        "\n",
        "    def ouvir_todos(self):\n",
        "        for bichinho in self.bichinhos:\n",
        "            print(bichinho)"
      ],
      "metadata": {
        "id": "wGpdIrX4ZqgD"
      },
      "execution_count": null,
      "outputs": []
    }
  ]
}