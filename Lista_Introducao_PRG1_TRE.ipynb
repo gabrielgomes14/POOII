{
  "nbformat": 4,
  "nbformat_minor": 0,
  "metadata": {
    "colab": {
      "provenance": [],
      "authorship_tag": "ABX9TyMIo7bJp35wrCsIjTCvsXyd"
    },
    "kernelspec": {
      "name": "python3",
      "display_name": "Python 3"
    },
    "language_info": {
      "name": "python"
    }
  },
  "cells": [
    {
      "cell_type": "markdown",
      "source": [
        "9. Faça um algoritmo que calcule o volume de uma lata de óleo. Escreva o resultado.\n",
        "FÓRMULA: volume = p * raio2 * altura"
      ],
      "metadata": {
        "id": "BRioRocxgOL9"
      }
    },
    {
      "cell_type": "code",
      "execution_count": null,
      "metadata": {
        "colab": {
          "base_uri": "https://localhost:8080/"
        },
        "id": "5Oa3ZBkXgNlL",
        "outputId": "cbf1791a-4539-4a1b-8b9d-8268ca5f96ed"
      },
      "outputs": [
        {
          "output_type": "stream",
          "name": "stdout",
          "text": [
            "Informe a altura da lata de óleo: 23\n",
            "Informe o raio da lata de óleo: 23\n",
            "O volume da lata de óleo é de 38223.76 unidades cúbicas\n"
          ]
        }
      ],
      "source": [
        "import math\n",
        "\n",
        "altura = float(input('Informe a altura da lata de óleo: '))\n",
        "raio = float(input('Informe o raio da lata de óleo: '))\n",
        "\n",
        "volume = math.pi * raio**2 * altura\n",
        "\n",
        "print(f'O volume da lata de óleo é de {volume:.2f} unidades cúbicas')"
      ]
    },
    {
      "cell_type": "markdown",
      "source": [
        "10. Faça um algoritmo que leia as 3 notas de um aluno e calcule e escreva a média final\n",
        "deste aluno. Considerar que a média é ponderada e que o peso das notas é: 2,3 e 5,\n",
        "respectivamente."
      ],
      "metadata": {
        "id": "VJ3Kuu2yjHpc"
      }
    },
    {
      "cell_type": "code",
      "source": [
        "nota1 = float(input('Informe a primeira nota: '))\n",
        "nota2 = float(input('Informe a segunda nota: '))\n",
        "nota3 = float(input('Informe a Terceiran nota: '))\n",
        "\n",
        "media = (2*nota1 + 3*nota2 + 5*nota3) / 10\n",
        "\n",
        "print(f'A média do aluno é de: {media:.2f}')\n"
      ],
      "metadata": {
        "colab": {
          "base_uri": "https://localhost:8080/"
        },
        "id": "MFgt3ITFjHXt",
        "outputId": "994e67fd-e791-44f3-c057-a9cfee540809"
      },
      "execution_count": null,
      "outputs": [
        {
          "output_type": "stream",
          "name": "stdout",
          "text": [
            "Informe a primeira nota: 6\n",
            "Informe a segunda nota: 6\n",
            "Informe a Terceiran nota: 6\n",
            "A média do aluno é de: 6.00\n"
          ]
        }
      ]
    },
    {
      "cell_type": "markdown",
      "source": [
        "11. Faça um algoritmo que leia as coordenadas de dois pontos, P1 (x1, y1) e P2 (x2, y2)\n",
        "respectivamente, e calcule e escreva a distância entre eles."
      ],
      "metadata": {
        "id": "9ascfR0amWu7"
      }
    },
    {
      "cell_type": "code",
      "source": [
        "import math\n",
        "\n",
        "x1 = float(input('Informe o valor de x1: '))\n",
        "y1 = float(input('Informe o valor de y1: '))\n",
        "x2 = float(input('Informe o valor de x2: '))\n",
        "y2 = float(input('Informe o valor de y2: '))\n",
        "\n",
        "distancia = math.sqrt((x2-x1)**2 + (y2-y1)**2)\n",
        "\n",
        "print(f'A distancia entre os pontos P1 e P2 é de {distancia:.2f}')"
      ],
      "metadata": {
        "colab": {
          "base_uri": "https://localhost:8080/"
        },
        "id": "JSamhpuZmigT",
        "outputId": "fc1dd46d-0184-4a83-a30c-a42343908498"
      },
      "execution_count": null,
      "outputs": [
        {
          "output_type": "stream",
          "name": "stdout",
          "text": [
            "Informe o valor de x1: 5\n",
            "Informe o valor de y1: 5\n",
            "Informe o valor de x2: 5\n",
            "Informe o valor de y2: 5\n",
            "A distancia entre os pontos P1 e P2 é de 0.00\n"
          ]
        }
      ]
    },
    {
      "cell_type": "markdown",
      "source": [
        "12. Um sistema de equações lineares da forma:\n",
        "\n",
        " pode ser resolvido utilizando-se as seguintes fórmulas:\n",
        "\n",
        " Faça um algoritmo que leia os valores a, b, c, d, e, f, e calcule x e y."
      ],
      "metadata": {
        "id": "I3T8-E_roB28"
      }
    },
    {
      "cell_type": "code",
      "source": [
        "a = float(input('Digite o valor de a: '))\n",
        "b = float(input('Digite o valor de b: '))\n",
        "c = float(input('Digite o valor de c: '))\n",
        "d = float(input('Digite o valor de d: '))\n",
        "e = float(input('Digite o valor de e: '))\n",
        "f = float(input('Digite o valor de f: '))\n",
        "\n",
        "x = (c*e - b*f) / (a*e - b*d)\n",
        "y = (a*f - c*d) / (a*e - b*d)\n",
        "\n",
        "print(f\"Os valores de x e y são {x:.2f} e {y:.2f}\")"
      ],
      "metadata": {
        "colab": {
          "base_uri": "https://localhost:8080/"
        },
        "id": "lq4qsHm6oC0q",
        "outputId": "ce5f24d8-1fe3-4388-fb98-e517cfc03d55"
      },
      "execution_count": null,
      "outputs": [
        {
          "output_type": "stream",
          "name": "stdout",
          "text": [
            "Digite o valor de a: 2\n",
            "Digite o valor de b: 1\n",
            "Digite o valor de c: 5\n",
            "Digite o valor de d: 3\n",
            "Digite o valor de e: 6\n",
            "Digite o valor de f: 4\n",
            "Os valores de x e y são 2.89 e -0.78\n"
          ]
        }
      ]
    },
    {
      "cell_type": "markdown",
      "source": [
        "13. O custo ao consumidor de um carro novo é a soma do custo de fábrica com a\n",
        "percentagem do distribuidor e dos impostos (aplicados ao custo de fábrica).\n",
        "Supondo que a percentagem do distribuidor seja de 28% e os impostos de 45%,\n",
        "escrever um algoritmo que leia o custo de fábrica de um carro e escreva o custo ao\n",
        "consumidor."
      ],
      "metadata": {
        "id": "40hr1kDYoxtm"
      }
    },
    {
      "cell_type": "code",
      "source": [
        "custo = float(input('Informe o custo de fábrica do carro: '))\n",
        "\n",
        "distribuidor = 0.28\n",
        "impostos = 0.45\n",
        "\n",
        "custo_distribuidor = custo * distribuidor\n",
        "custo_impostos = custo * impostos\n",
        "custo_consumidor = custo + distribuidor + impostos\n",
        "\n",
        "print(f'O custo do carro é de {custo_consumidor:.2f}')"
      ],
      "metadata": {
        "colab": {
          "base_uri": "https://localhost:8080/"
        },
        "id": "xMksREJqo3Ml",
        "outputId": "af3953a6-dee8-4cd7-b637-e41924da2ed4"
      },
      "execution_count": null,
      "outputs": [
        {
          "output_type": "stream",
          "name": "stdout",
          "text": [
            "Informe o custo de fábrica do carro: 1000\n",
            "O custo do carro é de 1000.73\n"
          ]
        }
      ]
    },
    {
      "cell_type": "markdown",
      "source": [
        "14. Faça um algoritmo que leia a idade de uma pessoa expressa em dias e mostre-a\n",
        "expressa em anos, meses e dias."
      ],
      "metadata": {
        "id": "hXERBrYMwKGj"
      }
    },
    {
      "cell_type": "code",
      "source": [
        "idade = int(input('Informe a sua idade: '))\n",
        "\n",
        "meses = idade * 12\n",
        "dias = idade * 365\n",
        "\n",
        "print(f'A idade informada corresponde a: {idade} anos, {meses} meses e {dias} dias.')"
      ],
      "metadata": {
        "colab": {
          "base_uri": "https://localhost:8080/"
        },
        "id": "NutAyC71wOHH",
        "outputId": "7d179536-37ac-48f4-992f-839e09b15853"
      },
      "execution_count": null,
      "outputs": [
        {
          "output_type": "stream",
          "name": "stdout",
          "text": [
            "Informe a sua idade: 17\n",
            "A idade informada corresponde a: 17 anos, 204 meses e 6205 dias.\n"
          ]
        }
      ]
    },
    {
      "cell_type": "markdown",
      "source": [
        "15. Faça um algoritmo que leia o tempo de duração de um evento em uma fábrica\n",
        "expressa em segundos e mostre-o expresso em horas, minutos e segundos."
      ],
      "metadata": {
        "id": "ClSZsVSNsVre"
      }
    },
    {
      "cell_type": "code",
      "source": [
        "tempo_duracao = float(input('Informe o tempo de duração (em segundos): '))\n",
        "\n",
        "horas = tempo_duracao / 3600\n",
        "minutos = tempo_duracao / 60\n",
        "\n",
        "print(f'{tempo_duracao} segundo(s) é igual a: {horas} hora(s), {minutos:.1f} minuto(s) e {tempo_duracao} segundo(s)')"
      ],
      "metadata": {
        "colab": {
          "base_uri": "https://localhost:8080/"
        },
        "id": "NoFSki1ZsWwg",
        "outputId": "ab3d831a-2834-427b-bc6a-813bfa432f8d"
      },
      "execution_count": null,
      "outputs": [
        {
          "output_type": "stream",
          "name": "stdout",
          "text": [
            "Informe o tempo de duração (em segundos): 60\n",
            "60.0 segundo(s) é igual a: 0.016666666666666666 hora(s), 1.0 minuto(s) e 60.0 segundo(s)\n"
          ]
        }
      ]
    },
    {
      "cell_type": "markdown",
      "source": [
        "17. Faça um algoritmo que leia o salário bruto mensal de um funcionário, calcule e\n",
        "mostre os valores conforme modelo abaixo:\n",
        "\n",
        " Salário Bruto :R$\n",
        "\n",
        " (-) IR (15%) :R$\n",
        "\n",
        " (-) INSS (11%) :R$\n",
        "\n",
        " (-) Sindicato (3%) :R$\n",
        "\n",
        " Salário Líquido :R$"
      ],
      "metadata": {
        "id": "YeUsYSdCqEEy"
      }
    },
    {
      "cell_type": "code",
      "source": [
        "salario_bruto = float(input('Informe o seu salário bruto: '))\n",
        "\n",
        "ir = salario_bruto * 0.15\n",
        "inss = salario_bruto * 0.11\n",
        "sindicato = salario_bruto * 0.03\n",
        "\n",
        "salario_liquido = salario_bruto - ir - inss - sindicato\n",
        "\n",
        "print(f'Salário Bruto: {salario_bruto:.2f} R$')\n",
        "print(f'Desconto do Imposto de Renda: {ir:.2f} R$')\n",
        "print(f'Desconto do INSS: {inss:.2f} R$')\n",
        "print(f'Salário líquido: {salario_liquido:.2f} R$')"
      ],
      "metadata": {
        "id": "ACXNLo04wFDV"
      },
      "execution_count": null,
      "outputs": []
    }
  ]
}