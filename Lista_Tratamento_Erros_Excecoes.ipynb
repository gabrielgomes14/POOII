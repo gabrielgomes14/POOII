{
  "nbformat": 4,
  "nbformat_minor": 0,
  "metadata": {
    "colab": {
      "provenance": [],
      "authorship_tag": "ABX9TyOVtindjfJQHt8lF0EX+xVY"
    },
    "kernelspec": {
      "name": "python3",
      "display_name": "Python 3"
    },
    "language_info": {
      "name": "python"
    }
  },
  "cells": [
    {
      "cell_type": "markdown",
      "source": [
        "1. Escreva uma função que recebe dois números como argumentos e retorna a\n",
        "divisão do primeiro pelo segundo. Use um bloco try/except para tratar o caso em\n",
        "que o segundo número é zero e lance uma exceção personalizada com a\n",
        "mensagem \"Divisão por zero não permitida\"."
      ],
      "metadata": {
        "id": "3bvmLc73gj_-"
      }
    },
    {
      "cell_type": "code",
      "execution_count": null,
      "metadata": {
        "id": "YAWRx7zRgfnW"
      },
      "outputs": [],
      "source": [
        "def divide(numerador, denominador):\n",
        "  try:\n",
        "    resultado = numerador / denominador\n",
        "  except ZeroDivisionError:\n",
        "    raise ValueError(\"Divisão por zero não permitida\")\n",
        "  else:\n",
        "    return resultado\n",
        "numerador = float(input(\"Informe o numerador: \"))\n",
        "denominador = float(input(\"Informe o denominador: \"))\n",
        "\n",
        "try:\n",
        "  resultado = divide(numerador, denominador)\n",
        "  print(f\"O resultado é {resultado}\")\n",
        "except ValueError as e:\n",
        "  print(e)"
      ]
    },
    {
      "cell_type": "markdown",
      "source": [
        "2. Escreva um programa que solicita ao usuário uma data no formato \"dd/mm/aaaa\"\n",
        "e verifica se ela é válida. Use um bloco `try/except` para tratar o caso em que o\n",
        "usuário digita uma data inválida e lance uma exceção personalizada com a\n",
        "mensagem “Data inválida”."
      ],
      "metadata": {
        "id": "ECtuHUGhiwmj"
      }
    },
    {
      "cell_type": "code",
      "source": [
        "from datetime import datetime\n",
        "\n",
        "data = input(\"Informe uma data no formato dd/mm/aaaa: \")\n",
        "try:\n",
        "  datetime.strptime(data, '%d/%m/%Y')\n",
        "  print('\\033[32m' + \"Data válida!\")\n",
        "except ValueError:\n",
        "  print('\\033[31m' + \"Data inválida\")"
      ],
      "metadata": {
        "colab": {
          "base_uri": "https://localhost:8080/"
        },
        "id": "fVytNH3gjAES",
        "outputId": "221b47a2-4cbc-41c5-84bb-c2d554ddc834"
      },
      "execution_count": null,
      "outputs": [
        {
          "output_type": "stream",
          "name": "stdout",
          "text": [
            "Informe uma data no formato dd/mm/aaaa: 2\n",
            "\u001b[31mData inválida\n"
          ]
        }
      ]
    },
    {
      "cell_type": "markdown",
      "source": [
        "3. Escreva uma função que recebe uma lista de números como argumento e retorna a\n",
        "soma dos elementos da lista. Use um bloco `try/except` para tratar o caso em que\n",
        "a lista contém algum elemento que não é um número e lance uma exceção\n",
        "personalizada com a mensagem “Lista inválida”."
      ],
      "metadata": {
        "id": "bHOSlNUTkvhT"
      }
    },
    {
      "cell_type": "code",
      "source": [
        "def soma(lista):\n",
        "  try:\n",
        "    return sum(float(i) for i in lista)\n",
        "  except ValueError:\n",
        "    print('\\033[31m' + \"Lista inválida!\")\n",
        "\n",
        "lista = [1, 2, 3, 'quatro']\n",
        "soma(lista)"
      ],
      "metadata": {
        "colab": {
          "base_uri": "https://localhost:8080/"
        },
        "id": "wyj-KmVjk_r-",
        "outputId": "86d29e62-2ed5-48b0-dcfe-c35fabe00881"
      },
      "execution_count": null,
      "outputs": [
        {
          "output_type": "stream",
          "name": "stdout",
          "text": [
            "\u001b[31mLista inválida\n"
          ]
        }
      ]
    },
    {
      "cell_type": "markdown",
      "source": [
        "4. Escreva um programa que solicita ao usuário um nome de arquivo e tenta abri-lo\n",
        "para leitura. Use um bloco `try/except` para tratar o caso em que o arquivo não\n",
        "existe ou não pode ser aberto e lance uma exceção personalizada com a\n",
        "mensagem “Arquivo inválido”."
      ],
      "metadata": {
        "id": "taRg8JELlic1"
      }
    },
    {
      "cell_type": "code",
      "source": [
        "nome_arquivo = input(\"Informe o nome do arquivo: \")\n",
        "\n",
        "try:\n",
        "  with open(nome_arquivo, 'r') as arquivo:\n",
        "    print(arquivo.read())\n",
        "except FileNotFoundError:\n",
        "  print('\\033[31m' + \"Arquivo Inválido\")"
      ],
      "metadata": {
        "colab": {
          "base_uri": "https://localhost:8080/"
        },
        "id": "33KwHELUllPW",
        "outputId": "14a45441-fcdb-4de6-d1c1-066203d559d2"
      },
      "execution_count": null,
      "outputs": [
        {
          "output_type": "stream",
          "name": "stdout",
          "text": [
            "Informe o nome do arquivo: Ednaldo Pereira\n",
            "\u001b[31mArquivo Inválido\n"
          ]
        }
      ]
    },
    {
      "cell_type": "markdown",
      "source": [
        "5. Escreva um código que tente abrir um arquivo com o modo de escrita, porém o\n",
        "arquivo já existe. Se ocorrer uma exceção, imprima uma mensagem de erro."
      ],
      "metadata": {
        "id": "cQrhlsklmV3h"
      }
    },
    {
      "cell_type": "code",
      "source": [
        "try:\n",
        "  arquivo = open('arquivo_escrita.txt', 'x')\n",
        "  arquivo.close()\n",
        "except FileExistsError:\n",
        "  print('\\033[31m' + \"ERRO! arquivo já existente!\")"
      ],
      "metadata": {
        "id": "5_vLoSDOnN4j"
      },
      "execution_count": null,
      "outputs": []
    },
    {
      "cell_type": "markdown",
      "source": [
        "6. Escreva uma função que recebe um número inteiro positivo como argumento e\n",
        "retorna o fatorial desse número. Use um bloco `try/except` para tratar o caso em\n",
        "que o argumento é negativo ou não é um inteiro e lance uma exceção\n",
        "personalizada com a mensagem “Argumento inválido”."
      ],
      "metadata": {
        "id": "765c-KyYn2Hx"
      }
    },
    {
      "cell_type": "code",
      "source": [
        "def fatorial(n):\n",
        "  try:\n",
        "      if not isinstance(n, int) or n < 0:\n",
        "        raise ValueError\n",
        "      fat = 1\n",
        "      for i in range(1, n + 1):\n",
        "        fat *= i\n",
        "      return fat\n",
        "  except ValueError:\n",
        "    print('\\033[31m' + \"Argumento inválido!\")\n",
        "\n",
        "try:\n",
        "  print(fatorial(5))\n",
        "except ValueError as e:\n",
        "  print(e)"
      ],
      "metadata": {
        "colab": {
          "base_uri": "https://localhost:8080/"
        },
        "id": "WFfL_PWRoVJ6",
        "outputId": "377a1235-a2c7-4eea-8fc0-7c09b8a2f50c"
      },
      "execution_count": null,
      "outputs": [
        {
          "output_type": "stream",
          "name": "stdout",
          "text": [
            "120\n"
          ]
        }
      ]
    },
    {
      "cell_type": "markdown",
      "source": [
        "7. Escreva uma função que recebe uma string como argumento e retorna o número\n",
        "de vogais contidas nessa string. Use um bloco `try/except` para tratar o caso em\n",
        "que o argumento não é uma string e lance uma exceção personalizada com a\n",
        "mensagem “Argumento inválido”."
      ],
      "metadata": {
        "id": "24zapEoMpcCk"
      }
    },
    {
      "cell_type": "code",
      "source": [
        "def contar_vogais(s):\n",
        "    try:\n",
        "        if not isinstance(s, str):\n",
        "            raise ValueError\n",
        "        return sum(s.lower().count(vogal) for vogal in 'aeiou')\n",
        "    except ValueError:\n",
        "        print('\\033[31m' + \"Argumento inválido\")\n",
        "\n",
        "contar_vogais(\"Simple is better than complex\")\n",
        "contar_vogais(123)"
      ],
      "metadata": {
        "colab": {
          "base_uri": "https://localhost:8080/"
        },
        "id": "B_tVBaXeqcgp",
        "outputId": "d1fed2c4-a750-4377-f813-4926accbedb2"
      },
      "execution_count": null,
      "outputs": [
        {
          "output_type": "stream",
          "name": "stdout",
          "text": [
            "\u001b[31mArgumento inválido\n"
          ]
        }
      ]
    },
    {
      "cell_type": "markdown",
      "source": [
        "8. Escreva uma função que recebe uma lista de strings como argumento e retorna\n",
        "uma nova lista com estas strings ordenadas alfabeticamente. Use um bloco\n",
        "`try/except` para tratar o caso em que a lista contém algum elemento que não é\n",
        "uma string e lance uma exceção personalizada com a mensagem “Lista inválida”."
      ],
      "metadata": {
        "id": "JcmpKkO7rTXx"
      }
    },
    {
      "cell_type": "code",
      "source": [
        "def ordenar_strings(lista):\n",
        "    try:\n",
        "        if not all(isinstance(item, str) for item in lista):\n",
        "            raise ValueError\n",
        "        print(sorted(lista))\n",
        "    except ValueError:\n",
        "        print('\\033[31m' + \"Lista inválida\")\n",
        "\n",
        "ordenar_strings([\"tainha\", \"robalo\", \"dourado\"])\n",
        "ordenar_strings([\"tainha\", 123, \"dourado\"])\n"
      ],
      "metadata": {
        "colab": {
          "base_uri": "https://localhost:8080/"
        },
        "id": "1n_OP5hVrWtI",
        "outputId": "8b148c81-98d4-4207-8786-1bfb5b3fedf3"
      },
      "execution_count": null,
      "outputs": [
        {
          "output_type": "stream",
          "name": "stdout",
          "text": [
            "['dourado', 'robalo', 'tainha']\n",
            "\u001b[31mLista inválida\n"
          ]
        }
      ]
    },
    {
      "cell_type": "markdown",
      "source": [
        "9. Escreva um programa que solicite ao usuário um índice e, em seguida, tente\n",
        "acessar um elemento em uma lista. Trate exceções caso o índice esteja fora dos\n",
        "limites da lista."
      ],
      "metadata": {
        "id": "QNBLlu8ar6XX"
      }
    },
    {
      "cell_type": "code",
      "source": [
        "lista = ['corinthians', 'internacional', 'flamengo', 'botafogo', 'santos']\n",
        "\n",
        "try:\n",
        "    indice = int(input('Informe um índice: '))\n",
        "    print(lista[indice])\n",
        "except ValueError:\n",
        "    print(\"Favor, inserir um número inteiro.\")\n",
        "except IndexError:\n",
        "    print('\\033[31m' + \"Índice fora dos limites da lista.\")"
      ],
      "metadata": {
        "colab": {
          "base_uri": "https://localhost:8080/"
        },
        "id": "8wasZ6Vlr9tS",
        "outputId": "2a6b6343-4d5b-474f-9b6e-6313b3872a79"
      },
      "execution_count": null,
      "outputs": [
        {
          "output_type": "stream",
          "name": "stdout",
          "text": [
            "Informe um índice: oi\n",
            "Por favor, insira um número inteiro.\n"
          ]
        }
      ]
    },
    {
      "cell_type": "markdown",
      "source": [
        "10. Peça ao usuário para digitar um número inteiro e, em seguida, tente converter\n",
        "esse número em uma string. Trate a exceção que pode ocorrer."
      ],
      "metadata": {
        "id": "RnQy4aD1ug6_"
      }
    },
    {
      "cell_type": "code",
      "source": [
        "try:\n",
        "  numero = int(input(\"Informe um número inteiro: \"))\n",
        "  numero_string = str(numero)\n",
        "  print(f\"O número convertido para string é: {numero_string}\")\n",
        "except ValueError:\n",
        "  print('\\033[31m' + \"Você não digitou um número inteiro válido!\")"
      ],
      "metadata": {
        "id": "Ml9lvfuFukMQ",
        "colab": {
          "base_uri": "https://localhost:8080/"
        },
        "outputId": "173b4cae-2f34-4390-b533-ca6c49eebecd"
      },
      "execution_count": null,
      "outputs": [
        {
          "output_type": "stream",
          "name": "stdout",
          "text": [
            "Informe um número inteiro: 10\n",
            "O número convertido para string é: 10\n"
          ]
        }
      ]
    },
    {
      "cell_type": "markdown",
      "source": [
        "11. Crie um programa que leia as configurações de um arquivo e trate exceções caso o\n",
        "arquivo contenha erros de formatação."
      ],
      "metadata": {
        "id": "f3H-I-TIlgF4"
      }
    },
    {
      "cell_type": "code",
      "source": [
        "import json\n",
        "\n",
        "try:\n",
        "  arquivo = input(\"Digite o nome do arquivo: \")\n",
        "  print(json.load(open(arquivo)))\n",
        "except Exception as e:\n",
        "    print(str(e))"
      ],
      "metadata": {
        "id": "kJXpzBf_lraI"
      },
      "execution_count": null,
      "outputs": []
    },
    {
      "cell_type": "markdown",
      "source": [
        "12. Peça ao usuário para digitar uma chave e, em seguida, tente acessar um valor em\n",
        "um dicionário. Trate exceções caso a chave não exista."
      ],
      "metadata": {
        "id": "2az9mjjxmkuf"
      }
    },
    {
      "cell_type": "code",
      "source": [
        "dicionario = {\"corinthians\": 1, \"vasco\": 2, \"cruzeiro\": 3}\n",
        "\n",
        "try:\n",
        "  chave = input(\"Digite uma chave: \")\n",
        "  print(\"O valor para a chave é: \", dicionario[chave])\n",
        "except KeyError:\n",
        "  print('\\033[31m' + \"A chave não existe no dicionário!\")"
      ],
      "metadata": {
        "id": "GkGe67Femyjv"
      },
      "execution_count": null,
      "outputs": []
    },
    {
      "cell_type": "markdown",
      "source": [
        "13. Escreva um programa que trate uma exceção genérica, como `Exception`, e\n",
        "imprima uma mensagem personalizada."
      ],
      "metadata": {
        "id": "X5i9qWXtoLe5"
      }
    },
    {
      "cell_type": "code",
      "source": [
        "try:\n",
        "  x = 1 / 0\n",
        "except Exception:\n",
        "  print('\\033[31m' +  \"Ocorreu um erro!\")"
      ],
      "metadata": {
        "id": "wF2IwkpjoN4b"
      },
      "execution_count": null,
      "outputs": []
    },
    {
      "cell_type": "markdown",
      "source": [
        "14. Crie um programa que peça ao usuário para digitar uma senha com pelo menos 8\n",
        "caracteres. Trate exceções caso a senha seja muito curta."
      ],
      "metadata": {
        "id": "q67qM7mjosoX"
      }
    },
    {
      "cell_type": "code",
      "source": [
        "try:\n",
        "    if len(input(\"Digite uma senha: \")) < 8: raise ValueError\n",
        "    else: print('\\033[32m' + \"A senha é válida!\")\n",
        "except:\n",
        "    print('\\033[31m' +  \"A senha é muito curta!\")"
      ],
      "metadata": {
        "colab": {
          "base_uri": "https://localhost:8080/"
        },
        "id": "aBhIdrmyo4Ks",
        "outputId": "fe91bdab-8e41-4c88-ecdf-23fe81f40a74"
      },
      "execution_count": null,
      "outputs": [
        {
          "output_type": "stream",
          "name": "stdout",
          "text": [
            "Digite uma senha: 1231323123\n",
            "\u001b[32mA senha é válida!\n"
          ]
        }
      ]
    },
    {
      "cell_type": "markdown",
      "source": [
        "15. Escreva um programa que divida uma lista em partes iguais e trate exceções se o\n",
        "número de partes não for válido."
      ],
      "metadata": {
        "id": "0zNsGq3gqLG1"
      }
    },
    {
      "cell_type": "code",
      "source": [
        "def dividir_lista(lista, partes):\n",
        "    try:\n",
        "        if 0 < partes <= len(lista):\n",
        "            return [lista[i:i+partes] for i in range(0, len(lista), partes)]\n",
        "        else:\n",
        "            raise ValueError\n",
        "    except ValueError:\n",
        "        print('\\033[31m' + \"Número de partes não é válido.\")\n",
        "\n",
        "lista = [1, 2, 3, 4, 5, 6]\n",
        "partes = 3\n",
        "print(dividir_lista(lista, partes))"
      ],
      "metadata": {
        "id": "rZZxAqjAqjyk"
      },
      "execution_count": null,
      "outputs": []
    },
    {
      "cell_type": "markdown",
      "source": [
        "16. Escreva um programa que manipule múltiplas exceções em um bloco `try/except`."
      ],
      "metadata": {
        "id": "96Liiup8q3J_"
      }
    },
    {
      "cell_type": "code",
      "source": [
        "try:\n",
        "    x = 1 / 0\n",
        "    lista = [1, 2, 3]\n",
        "    print(lista[5])\n",
        "except ZeroDivisionError:\n",
        "    print(\"Você tentou dividir por zero!\")\n",
        "except IndexError:\n",
        "    print(\"Você tentou acessar um índice que não existe na lista!\")\n",
        "except Exception as e:\n",
        "    print('\\033[31m' + \"Ocorreu um erro: \", str(e))"
      ],
      "metadata": {
        "id": "-fLgZXqXq5g9"
      },
      "execution_count": null,
      "outputs": []
    },
    {
      "cell_type": "markdown",
      "source": [
        "17. Escreva um programa que contenha um loop infinito e trate exceções para permitir\n",
        "ao usuário interrompê-lo."
      ],
      "metadata": {
        "id": "hTVu4H48rLtI"
      }
    },
    {
      "cell_type": "code",
      "source": [
        "try:\n",
        "  while 1: pass\n",
        "except KeyboardInterrupt:\n",
        "  print(\"Interrompido\")"
      ],
      "metadata": {
        "id": "oHl5ouCorOJZ"
      },
      "execution_count": null,
      "outputs": []
    },
    {
      "cell_type": "markdown",
      "source": [
        "18. Crie um programa que trate exceções aninhadas em um bloco `try/except`."
      ],
      "metadata": {
        "id": "NX4rDdPqrwwj"
      }
    },
    {
      "cell_type": "code",
      "source": [
        "try:\n",
        "    10 / 0\n",
        "    try:\n",
        "        [1, 2, 3][10]\n",
        "    except IndexError:\n",
        "        print(\"Erro.\")\n",
        "except ZeroDivisionError:\n",
        "    print(\"Erro.\")"
      ],
      "metadata": {
        "id": "p9LKB32VrxcH"
      },
      "execution_count": null,
      "outputs": []
    },
    {
      "cell_type": "markdown",
      "source": [
        "19. Escreva um programa que utilize o bloco `else` para tratar exceções."
      ],
      "metadata": {
        "id": "2tP_CmRWsB6c"
      }
    },
    {
      "cell_type": "code",
      "source": [
        "try:\n",
        "    x = 1 / 1\n",
        "except ZeroDivisionError:\n",
        "    print(\"Você tentou dividir por zero!\")\n",
        "else:\n",
        "    print(\"A divisão foi realizada com sucesso.\")"
      ],
      "metadata": {
        "id": "saiQXtuXr0AL"
      },
      "execution_count": null,
      "outputs": []
    }
  ]
}