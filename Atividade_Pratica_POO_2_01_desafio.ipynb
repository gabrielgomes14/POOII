{
  "cells": [
    {
      "cell_type": "markdown",
      "metadata": {
        "id": "ojQhzjQzk2F3"
      },
      "source": [
        "# Atividade Prática 02\n",
        "\n",
        "## Design Patterns (Padrões de Projeto) – Strategy Desafios"
      ]
    },
    {
      "cell_type": "markdown",
      "metadata": {
        "id": "y_VxzX1AlhgH"
      },
      "source": [
        "1. **Criar um sistema que utilize o padrão Strategy para simular diferentes estratégias de deslocamento usando meios de transporte variados.**\n",
        "\n",
        "> Descrição: Crie uma aplicação Python que simule diferentes formas de transporte (carro, bicicleta, a pé), permitindo ao usuário alternar entre elas e calcular o tempo necessário para percorrer uma determinada distância.\n",
        "\n",
        "**Passos**:\n",
        "\n",
        "- Crie uma interface **TravelStrategy** com um método `travel_time` que aceite uma distância em quilômetros.\n",
        "- Implemente três classes de estratégia: *CarStrategy*, *BicycleStrategy* e *WalkStrategy*. Cada classe deve retornar o tempo estimado para percorrer a distância fornecida com base em uma velocidade fixa (por exemplo: carro 60 km/h, bicicleta 15 km/h, a pé 5 km/h).\n",
        "- Crie uma classe **TravelContext** que contenha o método `set_strategy` para definir o meio de transporte atual e um método `calculate_time` para calcular o tempo de viagem.\n",
        "- Desenvolva uma interface simples que permita ao usuário escolher o meio de transporte e inserir a distância."
      ]
    },
    {
      "cell_type": "code",
      "execution_count": null,
      "metadata": {
        "colab": {
          "base_uri": "https://localhost:8080/"
        },
        "id": "sE5W0hXaksZ4",
        "outputId": "2a1b0b3a-06af-4a68-91be-c01e3855386f"
      },
      "outputs": [
        {
          "name": "stdout",
          "output_type": "stream",
          "text": [
            "Qual será o meio de transporte? \n",
            "\n",
            "\t1. Carro \n",
            "\t2. Bicicleta \n",
            "\t3. A pé\n",
            "\n",
            "\n",
            "Tempo da viagem: 4.80 hora(s)\n"
          ]
        }
      ],
      "source": [
        "from abc import ABC, abstractmethod\n",
        "\n",
        "class TravelStrategy(ABC):\n",
        "    @abstractmethod\n",
        "    def travel_time(self, dist: float) -> float:\n",
        "        pass\n",
        "\n",
        "class CarStrategy(TravelStrategy):\n",
        "    def travel_time(self, dist: float) -> float:\n",
        "        return dist / 60\n",
        "\n",
        "class BicycleStrategy(TravelStrategy):\n",
        "    def travel_time(self, dist: float) -> float:\n",
        "        return dist / 15\n",
        "\n",
        "class WalkStrategy(TravelStrategy):\n",
        "    def travel_time(self, dist: float) -> float:\n",
        "        return dist / 5\n",
        "\n",
        "class TravelContext:\n",
        "    __strategy: TravelStrategy = None\n",
        "\n",
        "    def set_strategy(self, strategy: TravelStrategy) -> None:\n",
        "        self.__strategy = strategy\n",
        "\n",
        "    def calculate_time(self, dist: float) -> None:\n",
        "        if self.__strategy is None:\n",
        "            print(\"Nenhuma estratégia foi definida!\")\n",
        "        else:\n",
        "            time = self.__strategy.travel_time(dist)\n",
        "            print(f\"\\nTempo da viagem: {time:.2f} hora(s)\")\n",
        "\n",
        "def main():\n",
        "    travelContext = TravelContext()\n",
        "    prompt = (\"Qual será o meio de transporte? \\n\\n\"\n",
        "              \"\\t1. Carro \\n\\t2. Bicicleta \\n\\t3. A pé\\n\")\n",
        "\n",
        "    op = None\n",
        "    while op not in (1, 2, 3):\n",
        "        print(prompt)\n",
        "        op = int(input(\">> \"))\n",
        "\n",
        "    if op == 1:\n",
        "        travelContext.set_strategy(CarStrategy())\n",
        "    elif op == 2:\n",
        "        travelContext.set_strategy(BicycleStrategy())\n",
        "    elif op == 3:\n",
        "        travelContext.set_strategy(WalkStrategy())\n",
        "    else:\n",
        "        print(\"Opção inválida!\")\n",
        "\n",
        "    dist = float(input(\"\\nQual é a distância a ser percorrida em KM? \"))\n",
        "    travelContext.calculate_time(dist)\n",
        "\n",
        "if __name__ == \"__main__\":\n",
        "    main()"
      ]
    },
    {
      "cell_type": "markdown",
      "metadata": {
        "id": "8U8VN0yWl883"
      },
      "source": [
        "2. **Usar o padrão Strategy para aplicar diferentes estratégias de desconto em um sistema de compras.**\n",
        "\n",
        "> Descrição: Desenvolva uma aplicação Python que simule a aplicação de descontos variáveis (desconto por fidelidade, desconto sazonal, desconto por volume de compra) em um valor total de compra. A estratégia de desconto deve poder ser trocada dinamicamente.\n",
        "\n",
        "**Passos**:\n",
        "\n",
        "- Crie uma interface **DiscountStrategy** com um método `apply_discount` que aceite um valor de compra e retorne o valor com desconto aplicado.\n",
        "- Implemente três classes de estratégia: *LoyaltyDiscount*, *SeasonalDiscount* e *BulkPurchaseDiscount*. Cada uma deve calcular o desconto de uma forma diferente (por exemplo, 5% para fidelidade, 10% para compras em promoção, 15% para grandes quantidades).\n",
        "- Crie uma classe **ShoppingCart** que use a estratégia de desconto. Essa classe deve ter o método `set_discount_strategy` para alterar a estratégia de desconto e o método `get_final_price` para calcular o valor total após aplicar o desconto.\n",
        "- Permita que o usuário insira o valor total da compra e escolha o tipo de desconto a ser aplicado."
      ]
    },
    {
      "cell_type": "code",
      "execution_count": null,
      "metadata": {
        "colab": {
          "base_uri": "https://localhost:8080/"
        },
        "id": "v9mueAAGmmUJ",
        "outputId": "84ff23e1-3deb-46f7-af43-90bf79b096c9"
      },
      "outputs": [
        {
          "name": "stdout",
          "output_type": "stream",
          "text": [
            "Qual será o modelo de desconto? \n",
            "\n",
            "\t1. Fidelidade \n",
            "\t2. Promoção \n",
            "\t3. Grandes Quantidades\n",
            "\n",
            "\n",
            "\n",
            "Valor final da compra com desconto aplicado: R$ 31.50\n"
          ]
        }
      ],
      "source": [
        "from abc import ABC, abstractmethod\n",
        "\n",
        "class DiscountStrategy(ABC):\n",
        "    @abstractmethod\n",
        "    def apply_discount(self, purchase_amount: float) -> float:\n",
        "        pass\n",
        "\n",
        "class LoyaltyDiscount(DiscountStrategy):\n",
        "    def apply_discount(self, purchase_amount: float) -> float:\n",
        "        return purchase_amount * 0.95\n",
        "\n",
        "class SeasonalDiscount(DiscountStrategy):\n",
        "    def apply_discount(self, purchase_amount: float) -> float:\n",
        "        return purchase_amount * 0.90\n",
        "\n",
        "class BulkPurchaseDiscount(DiscountStrategy):\n",
        "    def apply_discount(self, purchase_amount: float) -> float:\n",
        "        return purchase_amount * 0.85\n",
        "\n",
        "class ShoppingCart:\n",
        "    __strategy: DiscountStrategy = None\n",
        "\n",
        "    def set_discount_strategy(self, strategy: DiscountStrategy) -> None:\n",
        "        self.__strategy = strategy\n",
        "\n",
        "    def get_final_price(self, purchase_amount: float) -> None:\n",
        "        if self.__strategy is None:\n",
        "            print(\"Nenhuma estratégia de desconto foi definida!\")\n",
        "        else:\n",
        "            final_price = self.__strategy.apply_discount(purchase_amount)\n",
        "            print(f\"\\nValor final da compra com desconto aplicado: R$ {final_price:.2f}\")\n",
        "\n",
        "def main():\n",
        "    shoppingCart = ShoppingCart()\n",
        "    prompt = (\"Qual será o modelo de desconto? \\n\\n\"\n",
        "              \"\\t1. Fidelidade \\n\\t2. Promoção \\n\\t3. Grandes Quantidades\\n\\n\")\n",
        "\n",
        "    op = None\n",
        "    while op not in (1, 2, 3):\n",
        "        print(prompt)\n",
        "        op = int(input(\">> \"))\n",
        "\n",
        "    if op == 1:\n",
        "        shoppingCart.set_discount_strategy(LoyaltyDiscount())\n",
        "    elif op == 2:\n",
        "        shoppingCart.set_discount_strategy(SeasonalDiscount())\n",
        "    elif op == 3:\n",
        "        shoppingCart.set_discount_strategy(BulkPurchaseDiscount())\n",
        "    else:\n",
        "        print(\"Opção inválida!\")\n",
        "\n",
        "    purchase_amount = float(input(\"\\nQual é o valor da compra? R$ \"))\n",
        "    shoppingCart.get_final_price(purchase_amount)\n",
        "\n",
        "if __name__ == \"__main__\":\n",
        "    main()"
      ]
    },
    {
      "cell_type": "markdown",
      "metadata": {
        "id": "xFgphu-qmlog"
      },
      "source": [
        "3. **Implemente uma calculadora de impostos que use o padrão Strategy para aplicar diferentes tipos de impostos (por exemplo, imposto sobre renda, imposto sobre vendas, imposto sobre produtos).**\n",
        "\n",
        "**Passos**:\n",
        "\n",
        "- Crie uma interface **ImpostoStrategy** com o método `calcular`.\n",
        "- Implemente três estratégias: *ImpostoRenda*, *ImpostoVendas* e *ImpostoProduto*, cada uma com sua fórmula de cálculo.\n",
        "- Crie uma classe **CalculadoraDeImposto** que receba diferentes estratégias e aplique o cálculo.\n",
        "- Crie uma função principal para testar o cálculo dos impostos com diferentes valores."
      ]
    },
    {
      "cell_type": "code",
      "execution_count": null,
      "metadata": {
        "colab": {
          "base_uri": "https://localhost:8080/"
        },
        "id": "1LWaAn5Tmldb",
        "outputId": "2006633e-81f7-42ff-c0fd-5eb3ebd9f8ac"
      },
      "outputs": [
        {
          "name": "stdout",
          "output_type": "stream",
          "text": [
            "Qual será o tipo de imposto? \n",
            "\n",
            "\t1. Renda \n",
            "\t2. Vendas \n",
            "\t3. Produto\n",
            "\n",
            "\n",
            "\n",
            "Valor final com imposto aplicado: R$ 4.80\n"
          ]
        }
      ],
      "source": [
        "from abc import ABC, abstractmethod\n",
        "\n",
        "class ImpostoStrategy(ABC):\n",
        "    @abstractmethod\n",
        "    def calcular(self, amount: float) -> float:\n",
        "        pass\n",
        "\n",
        "class ImpostoRenda(ImpostoStrategy):\n",
        "    def calcular(self, amount: float) -> float:\n",
        "        return amount * 1.20\n",
        "\n",
        "class ImpostoVendas(ImpostoStrategy):\n",
        "    def calcular(self, amount: float) -> float:\n",
        "        return amount * 1.35\n",
        "\n",
        "class ImpostoProduto(ImpostoStrategy):\n",
        "    def calcular(self, amount: float) -> float:\n",
        "        return amount * 1.60\n",
        "\n",
        "class CalculadoreDeImposto:\n",
        "    __strategy: ImpostoStrategy = None\n",
        "\n",
        "    def set_imposto_strategy(self, strategy: ImpostoStrategy) -> None:\n",
        "        self.__strategy = strategy\n",
        "\n",
        "    def get_final_price(self, amount: float) -> None:\n",
        "        if self.__strategy is None:\n",
        "            print(\"Nenhuma estratégia de imposto foi definida!\")\n",
        "        else:\n",
        "            amount_with_tax = self.__strategy.calcular(amount)\n",
        "            print(f\"\\nValor final com imposto aplicado: R$ {amount_with_tax:.2f}\")\n",
        "\n",
        "def main():\n",
        "    calculadoreDeImposto = CalculadoreDeImposto()\n",
        "    prompt = (\"Qual será o tipo de imposto? \\n\\n\"\n",
        "              \"\\t1. Renda \\n\\t2. Vendas \\n\\t3. Produto\\n\\n\")\n",
        "\n",
        "    op = None\n",
        "    while op not in (1, 2, 3):\n",
        "        print(prompt)\n",
        "        op = int(input(\">> \"))\n",
        "\n",
        "    if op == 1:\n",
        "        calculadoreDeImposto.set_imposto_strategy(ImpostoRenda())\n",
        "    elif op == 2:\n",
        "        calculadoreDeImposto.set_imposto_strategy(ImpostoVendas())\n",
        "    elif op == 3:\n",
        "        calculadoreDeImposto.set_imposto_strategy(ImpostoProduto())\n",
        "    else:\n",
        "        print(\"Opção inválida!\")\n",
        "\n",
        "    amount = float(input(\"\\nQual é o valor? R$ \"))\n",
        "    calculadoreDeImposto.get_final_price(amount)\n",
        "\n",
        "if __name__ == \"__main__\":\n",
        "    main()"
      ]
    },
    {
      "cell_type": "markdown",
      "metadata": {
        "id": "B5blHuxRmlTB"
      },
      "source": [
        "4. **Implemente um jogo simples onde diferentes personagens podem atacar usando estratégias de ataque variadas (por exemplo, ataque corpo a corpo, ataque à distância, ataque mágico).**\n",
        "\n",
        "**Passos**:\n",
        "\n",
        "- Crie uma interface **EstrategiaDeAtaque** com o método `atacar()`.\n",
        "- Implemente três estratégias: *AtaqueCorpoACorpo*, *AtaqueDistancia*, e *AtaqueMagico*.\n",
        "- Crie uma classe **Personagem** que tenha um nome e uma estratégia de ataque, permitindo alterar a estratégia dinamicamente.\n",
        "- Crie uma função principal para criar personagens e simular diferentes ataques."
      ]
    },
    {
      "cell_type": "code",
      "execution_count": null,
      "metadata": {
        "colab": {
          "base_uri": "https://localhost:8080/"
        },
        "id": "32nA97MemlGE",
        "outputId": "bc0bc30e-c98b-4dab-db98-788cf357a71f"
      },
      "outputs": [
        {
          "name": "stdout",
          "output_type": "stream",
          "text": [
            "Qual será o modo de ataque? \n",
            "\n",
            "\t1. Corpo a corpo \n",
            "\t2. À distância \n",
            "\t3. Mágico\n",
            "\n",
            "\n",
            "Qual será o modo de ataque? \n",
            "\n",
            "\t1. Corpo a corpo \n",
            "\t2. À distância \n",
            "\t3. Mágico\n",
            "\n",
            "\n",
            "\n",
            "Aplicando Ataque CORPO A CORPO!\n"
          ]
        }
      ],
      "source": [
        "from abc import ABC, abstractmethod\n",
        "\n",
        "class AttackStrategy(ABC):\n",
        "    @abstractmethod\n",
        "    def attack(self) -> None:\n",
        "        pass\n",
        "\n",
        "class AtaqueCorpoACorpo(AttackStrategy):\n",
        "    def attack(self) -> None:\n",
        "        print(\"\\nAplicando Ataque CORPO A CORPO!\")\n",
        "\n",
        "class AtaqueDistancia(AttackStrategy):\n",
        "    def attack(self) -> None:\n",
        "        print(\"\\nAplicando Ataque À DISTÂNCIA!\")\n",
        "\n",
        "class AtaqueMagico(AttackStrategy):\n",
        "    def attack(self) -> None:\n",
        "        print(\"\\nAplicando Ataque MÁGICO!\")\n",
        "\n",
        "class Personagem:\n",
        "    __strategy: AttackStrategy = None\n",
        "\n",
        "    def set_attack_strategy(self, strategy: AttackStrategy) -> None:\n",
        "        self.__strategy = strategy\n",
        "\n",
        "    def perform_attack(self) -> None:\n",
        "        if self.__strategy is None:\n",
        "            print(\"Nenhuma estratégia de ataque foi definida!\")\n",
        "        else:\n",
        "            self.__strategy.attack()\n",
        "\n",
        "def main():\n",
        "    personagem = Personagem()\n",
        "    prompt = (\"Qual será o modo de ataque? \\n\\n\"\n",
        "              \"\\t1. Corpo a corpo \\n\\t2. À distância \\n\\t3. Mágico\\n\\n\")\n",
        "\n",
        "    op = None\n",
        "    while op not in (1, 2, 3):\n",
        "        print(prompt)\n",
        "        op = int(input(\">> \"))\n",
        "\n",
        "    if op == 1:\n",
        "        personagem.set_attack_strategy(AtaqueCorpoACorpo())\n",
        "    elif op == 2:\n",
        "        personagem.set_attack_strategy(AtaqueDistancia())\n",
        "    elif op == 3:\n",
        "        personagem.set_attack_strategy(AtaqueMagico())\n",
        "    else:\n",
        "        print(\"Opção inválida!\")\n",
        "\n",
        "    personagem.perform_attack()\n",
        "\n",
        "if __name__ == \"__main__\":\n",
        "    main()"
      ]
    }
  ],
  "metadata": {
    "colab": {
      "provenance": []
    },
    "kernelspec": {
      "display_name": "Python 3",
      "name": "python3"
    },
    "language_info": {
      "codemirror_mode": {
        "name": "ipython",
        "version": 3
      },
      "file_extension": ".py",
      "mimetype": "text/x-python",
      "name": "python",
      "nbconvert_exporter": "python",
      "pygments_lexer": "ipython3",
      "version": "3.11.2"
    }
  },
  "nbformat": 4,
  "nbformat_minor": 0
}